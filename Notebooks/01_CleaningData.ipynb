{
 "cells": [
  {
   "cell_type": "markdown",
   "id": "2109e6e3",
   "metadata": {},
   "source": [
    "# Cleaning Data"
   ]
  },
  {
   "cell_type": "code",
   "execution_count": 1,
   "id": "e5be6e6d",
   "metadata": {},
   "outputs": [],
   "source": [
    "import pandas as pd"
   ]
  },
  {
   "cell_type": "code",
   "execution_count": 2,
   "id": "c46f465b",
   "metadata": {},
   "outputs": [],
   "source": [
    "df = pd.read_csv('../Data/caso_trainee_data_estrategia_analisis SEPT.csv')"
   ]
  },
  {
   "cell_type": "code",
   "execution_count": 3,
   "id": "43284f05",
   "metadata": {},
   "outputs": [
    {
     "name": "stdout",
     "output_type": "stream",
     "text": [
      "<class 'pandas.core.frame.DataFrame'>\n",
      "RangeIndex: 1200 entries, 0 to 1199\n",
      "Data columns (total 14 columns):\n",
      " #   Column                         Non-Null Count  Dtype  \n",
      "---  ------                         --------------  -----  \n",
      " 0   ID del Cliente                 1200 non-null   object \n",
      " 1   Zona                           615 non-null    object \n",
      " 2   Canal                          1200 non-null   object \n",
      " 3   Producto                       1200 non-null   object \n",
      " 4   Monto de Venta                 1175 non-null   float64\n",
      " 5   Edad del Cliente               1200 non-null   int64  \n",
      " 6   ¿Capacitado?                   1200 non-null   object \n",
      " 7   Inversión en Publicidad        1180 non-null   float64\n",
      " 8   Mes                            1200 non-null   object \n",
      " 9   Asesor                         1200 non-null   object \n",
      " 10  % Cumplimiento Objetivo        1200 non-null   float64\n",
      " 11  % Clientes Nuevos              1200 non-null   float64\n",
      " 12  Participación en Campañas      1200 non-null   object \n",
      " 13  Antigüedad del Asesor (meses)  1200 non-null   int64  \n",
      "dtypes: float64(4), int64(2), object(8)\n",
      "memory usage: 131.4+ KB\n"
     ]
    }
   ],
   "source": [
    "df.info()"
   ]
  },
  {
   "cell_type": "code",
   "execution_count": 4,
   "id": "9202b16e",
   "metadata": {},
   "outputs": [],
   "source": [
    "missings_list = ['Zona', 'Monto de  Ventas', 'Inversión en Publicidad']"
   ]
  },
  {
   "cell_type": "code",
   "execution_count": 5,
   "id": "65dc692f",
   "metadata": {},
   "outputs": [
    {
     "data": {
      "text/plain": [
       "Monto de Venta             25\n",
       "Inversión en Publicidad    20\n",
       "dtype: int64"
      ]
     },
     "execution_count": 5,
     "metadata": {},
     "output_type": "execute_result"
    }
   ],
   "source": [
    "df[['Monto de Venta', 'Inversión en Publicidad']].isnull().sum()"
   ]
  },
  {
   "cell_type": "code",
   "execution_count": 6,
   "id": "b2f22d46",
   "metadata": {},
   "outputs": [
    {
     "name": "stdout",
     "output_type": "stream",
     "text": [
      "Missings: 45\n",
      "Porcentaje missings: 0.0375\n"
     ]
    }
   ],
   "source": [
    "missings =df[(df['Monto de Venta'].isnull()) | (df['Inversión en Publicidad'].isnull())]\n",
    "print(f'Missings: {missings.shape[0]}')\n",
    "print(f'Porcentaje missings: {missings.shape[0]/df.shape[0]}')"
   ]
  },
  {
   "cell_type": "code",
   "execution_count": 7,
   "id": "3cadba75",
   "metadata": {},
   "outputs": [],
   "source": [
    "df.dropna(subset=['Monto de Venta'], inplace=True)"
   ]
  },
  {
   "cell_type": "code",
   "execution_count": 8,
   "id": "5653ad73",
   "metadata": {},
   "outputs": [
    {
     "data": {
      "text/plain": [
       "ID del Cliente                   1175\n",
       "Zona                                5\n",
       "Canal                               5\n",
       "Producto                            3\n",
       "Monto de Venta                   1174\n",
       "Edad del Cliente                   53\n",
       "¿Capacitado?                        3\n",
       "Inversión en Publicidad          1153\n",
       "Mes                                 5\n",
       "Asesor                             50\n",
       "% Cumplimiento Objetivo          1043\n",
       "% Clientes Nuevos                  81\n",
       "Participación en Campañas           5\n",
       "Antigüedad del Asesor (meses)      59\n",
       "dtype: int64"
      ]
     },
     "execution_count": 8,
     "metadata": {},
     "output_type": "execute_result"
    }
   ],
   "source": [
    "df.nunique()"
   ]
  },
  {
   "cell_type": "code",
   "execution_count": 9,
   "id": "a428c4b5",
   "metadata": {},
   "outputs": [
    {
     "name": "stdout",
     "output_type": "stream",
     "text": [
      "\n",
      " ID del Cliente\n",
      "['C00001' 'C00002' 'C00003' ... 'C01198' 'C01199' 'C01200']\n",
      "\n",
      " Zona\n",
      "[nan 'Este' 'Oeste' 'Sur' 'Centro' 'Norte']\n",
      "\n",
      " Canal\n",
      "['Sucursal' 'Unknown' 'Call Center' 'Agente' 'Digital']\n",
      "\n",
      " Producto\n",
      "['Plan Retiro' 'Inversión Segura' 'Ahorro Plus']\n",
      "\n",
      " Monto de Venta\n",
      "[14908.48 16986.22  8659.82 ... 16698.01  6256.27 24905.4 ]\n",
      "\n",
      " Edad del Cliente\n",
      "[27 31 59 63 47 58 42 52 69 65 51 28 38 39 62 24 34 19 29 35 33 66 68 43\n",
      " 61 60 64 30 21 56 44 32 25 57 -1 22 53 45 46 54 40 20 36 37 23 49 26 55\n",
      " 67 48 41 18 50]\n",
      "\n",
      " ¿Capacitado?\n",
      "['No' 'Sí' 'Desconocido']\n",
      "\n",
      " Inversión en Publicidad\n",
      "[3115.12 2744.13 3069.54 ... 4382.64 5057.72 3777.85]\n",
      "\n",
      " Mes\n",
      "['Enero' 'Marzo' 'Febrero' 'Abril' 'Mayo']\n",
      "\n",
      " Asesor\n",
      "['A34' 'A6' 'A19' 'A22' 'A14' 'A33' 'A17' 'A7' 'A23' 'A15' 'A16' 'A39'\n",
      " 'A9' 'A3' 'A48' 'A38' 'A21' 'A13' 'A20' 'A36' 'A44' 'A42' 'A45' 'A37'\n",
      " 'A29' 'A30' 'A40' 'A10' 'A35' 'A4' 'A50' 'A28' 'A46' 'A8' 'A11' 'A24'\n",
      " 'A47' 'A31' 'A2' 'A32' 'A12' 'A25' 'A49' 'A1' 'A18' 'A41' 'A27' 'A26'\n",
      " 'A43' 'A5']\n",
      "\n",
      " % Cumplimiento Objetivo\n",
      "[79.27 88.55 87.9  ... 91.03 92.25 67.78]\n",
      "\n",
      " % Clientes Nuevos\n",
      "[0.12 0.3  0.51 0.11 0.31 0.56 0.84 0.62 0.43 0.73 0.26 0.2  0.64 0.55\n",
      " 0.69 0.6  0.89 0.53 0.19 0.76 0.72 0.87 0.66 0.58 0.47 0.39 0.38 0.61\n",
      " 0.7  0.5  0.48 0.63 0.82 0.23 0.9  0.81 0.68 0.75 0.79 0.67 0.78 0.57\n",
      " 0.88 0.14 0.49 0.16 0.37 0.22 0.52 0.85 0.74 0.65 0.1  0.44 0.83 0.24\n",
      " 0.33 0.27 0.17 0.15 0.4  0.54 0.25 0.34 0.18 0.13 0.41 0.36 0.59 0.46\n",
      " 0.45 0.32 0.8  0.77 0.28 0.71 0.29 0.21 0.86 0.35 0.42]\n",
      "\n",
      " Participación en Campañas\n",
      "['Baja' 'Ninguna' 'Media' 'Alta' 'Desconocido']\n",
      "\n",
      " Antigüedad del Asesor (meses)\n",
      "[23  5  7 57 58  6 49 22 13 12  4  8 37 31 45 26 43 40 33 29 28 53 17 55\n",
      "  9  2 51 52 30  3 56 10 46 50 47 38 15 25 18  1 48 41 36 54 11 16 14 39\n",
      " 21 32 44 35 24 42 27 19 59 34 20]\n"
     ]
    }
   ],
   "source": [
    "for col in df.columns:\n",
    "    print('\\n', col)\n",
    "    print(df[col].unique())"
   ]
  },
  {
   "cell_type": "code",
   "execution_count": 10,
   "id": "ca4a4f29",
   "metadata": {},
   "outputs": [],
   "source": [
    "df['Zona'] = df['Zona'].fillna('Desconocido')\n",
    "df['Canal'] = df['Canal'].replace({\n",
    "    'Unknown':'Desconocido'\n",
    "})"
   ]
  },
  {
   "cell_type": "code",
   "execution_count": 11,
   "id": "008398c6",
   "metadata": {},
   "outputs": [
    {
     "data": {
      "text/html": [
       "<div>\n",
       "<style scoped>\n",
       "    .dataframe tbody tr th:only-of-type {\n",
       "        vertical-align: middle;\n",
       "    }\n",
       "\n",
       "    .dataframe tbody tr th {\n",
       "        vertical-align: top;\n",
       "    }\n",
       "\n",
       "    .dataframe thead th {\n",
       "        text-align: right;\n",
       "    }\n",
       "</style>\n",
       "<table border=\"1\" class=\"dataframe\">\n",
       "  <thead>\n",
       "    <tr style=\"text-align: right;\">\n",
       "      <th></th>\n",
       "      <th>count</th>\n",
       "      <th>mean</th>\n",
       "      <th>std</th>\n",
       "      <th>min</th>\n",
       "      <th>25%</th>\n",
       "      <th>50%</th>\n",
       "      <th>75%</th>\n",
       "      <th>max</th>\n",
       "    </tr>\n",
       "  </thead>\n",
       "  <tbody>\n",
       "    <tr>\n",
       "      <th>Monto de Venta</th>\n",
       "      <td>1175.0</td>\n",
       "      <td>15283.934077</td>\n",
       "      <td>5025.131813</td>\n",
       "      <td>-1934.07</td>\n",
       "      <td>11843.315</td>\n",
       "      <td>15431.78</td>\n",
       "      <td>18695.555</td>\n",
       "      <td>32479.39</td>\n",
       "    </tr>\n",
       "    <tr>\n",
       "      <th>Edad del Cliente</th>\n",
       "      <td>1175.0</td>\n",
       "      <td>42.912340</td>\n",
       "      <td>16.285673</td>\n",
       "      <td>-1.00</td>\n",
       "      <td>31.000</td>\n",
       "      <td>43.00</td>\n",
       "      <td>57.000</td>\n",
       "      <td>69.00</td>\n",
       "    </tr>\n",
       "    <tr>\n",
       "      <th>Inversión en Publicidad</th>\n",
       "      <td>1155.0</td>\n",
       "      <td>3035.873394</td>\n",
       "      <td>993.677727</td>\n",
       "      <td>-131.74</td>\n",
       "      <td>2359.150</td>\n",
       "      <td>3024.10</td>\n",
       "      <td>3716.295</td>\n",
       "      <td>6226.13</td>\n",
       "    </tr>\n",
       "    <tr>\n",
       "      <th>% Cumplimiento Objetivo</th>\n",
       "      <td>1175.0</td>\n",
       "      <td>87.931387</td>\n",
       "      <td>19.406354</td>\n",
       "      <td>-5.00</td>\n",
       "      <td>78.890</td>\n",
       "      <td>89.18</td>\n",
       "      <td>99.680</td>\n",
       "      <td>139.15</td>\n",
       "    </tr>\n",
       "    <tr>\n",
       "      <th>% Clientes Nuevos</th>\n",
       "      <td>1175.0</td>\n",
       "      <td>0.503430</td>\n",
       "      <td>0.230385</td>\n",
       "      <td>0.10</td>\n",
       "      <td>0.300</td>\n",
       "      <td>0.51</td>\n",
       "      <td>0.705</td>\n",
       "      <td>0.90</td>\n",
       "    </tr>\n",
       "    <tr>\n",
       "      <th>Antigüedad del Asesor (meses)</th>\n",
       "      <td>1175.0</td>\n",
       "      <td>30.067234</td>\n",
       "      <td>17.404392</td>\n",
       "      <td>1.00</td>\n",
       "      <td>15.000</td>\n",
       "      <td>30.00</td>\n",
       "      <td>46.000</td>\n",
       "      <td>59.00</td>\n",
       "    </tr>\n",
       "  </tbody>\n",
       "</table>\n",
       "</div>"
      ],
      "text/plain": [
       "                                count          mean          std      min  \\\n",
       "Monto de Venta                 1175.0  15283.934077  5025.131813 -1934.07   \n",
       "Edad del Cliente               1175.0     42.912340    16.285673    -1.00   \n",
       "Inversión en Publicidad        1155.0   3035.873394   993.677727  -131.74   \n",
       "% Cumplimiento Objetivo        1175.0     87.931387    19.406354    -5.00   \n",
       "% Clientes Nuevos              1175.0      0.503430     0.230385     0.10   \n",
       "Antigüedad del Asesor (meses)  1175.0     30.067234    17.404392     1.00   \n",
       "\n",
       "                                     25%       50%        75%       max  \n",
       "Monto de Venta                 11843.315  15431.78  18695.555  32479.39  \n",
       "Edad del Cliente                  31.000     43.00     57.000     69.00  \n",
       "Inversión en Publicidad         2359.150   3024.10   3716.295   6226.13  \n",
       "% Cumplimiento Objetivo           78.890     89.18     99.680    139.15  \n",
       "% Clientes Nuevos                  0.300      0.51      0.705      0.90  \n",
       "Antigüedad del Asesor (meses)     15.000     30.00     46.000     59.00  "
      ]
     },
     "execution_count": 11,
     "metadata": {},
     "output_type": "execute_result"
    }
   ],
   "source": [
    "df.describe().T"
   ]
  },
  {
   "cell_type": "code",
   "execution_count": 12,
   "id": "5a40a915",
   "metadata": {},
   "outputs": [
    {
     "data": {
      "text/html": [
       "<div>\n",
       "<style scoped>\n",
       "    .dataframe tbody tr th:only-of-type {\n",
       "        vertical-align: middle;\n",
       "    }\n",
       "\n",
       "    .dataframe tbody tr th {\n",
       "        vertical-align: top;\n",
       "    }\n",
       "\n",
       "    .dataframe thead th {\n",
       "        text-align: right;\n",
       "    }\n",
       "</style>\n",
       "<table border=\"1\" class=\"dataframe\">\n",
       "  <thead>\n",
       "    <tr style=\"text-align: right;\">\n",
       "      <th></th>\n",
       "      <th>count</th>\n",
       "      <th>unique</th>\n",
       "      <th>top</th>\n",
       "      <th>freq</th>\n",
       "    </tr>\n",
       "  </thead>\n",
       "  <tbody>\n",
       "    <tr>\n",
       "      <th>ID del Cliente</th>\n",
       "      <td>1175</td>\n",
       "      <td>1175</td>\n",
       "      <td>C00001</td>\n",
       "      <td>1</td>\n",
       "    </tr>\n",
       "    <tr>\n",
       "      <th>Zona</th>\n",
       "      <td>1175</td>\n",
       "      <td>6</td>\n",
       "      <td>Desconocido</td>\n",
       "      <td>573</td>\n",
       "    </tr>\n",
       "    <tr>\n",
       "      <th>Canal</th>\n",
       "      <td>1175</td>\n",
       "      <td>5</td>\n",
       "      <td>Desconocido</td>\n",
       "      <td>495</td>\n",
       "    </tr>\n",
       "    <tr>\n",
       "      <th>Producto</th>\n",
       "      <td>1175</td>\n",
       "      <td>3</td>\n",
       "      <td>Ahorro Plus</td>\n",
       "      <td>407</td>\n",
       "    </tr>\n",
       "    <tr>\n",
       "      <th>¿Capacitado?</th>\n",
       "      <td>1175</td>\n",
       "      <td>3</td>\n",
       "      <td>Sí</td>\n",
       "      <td>540</td>\n",
       "    </tr>\n",
       "    <tr>\n",
       "      <th>Mes</th>\n",
       "      <td>1175</td>\n",
       "      <td>5</td>\n",
       "      <td>Enero</td>\n",
       "      <td>245</td>\n",
       "    </tr>\n",
       "    <tr>\n",
       "      <th>Asesor</th>\n",
       "      <td>1175</td>\n",
       "      <td>50</td>\n",
       "      <td>A28</td>\n",
       "      <td>35</td>\n",
       "    </tr>\n",
       "    <tr>\n",
       "      <th>Participación en Campañas</th>\n",
       "      <td>1175</td>\n",
       "      <td>5</td>\n",
       "      <td>Alta</td>\n",
       "      <td>341</td>\n",
       "    </tr>\n",
       "  </tbody>\n",
       "</table>\n",
       "</div>"
      ],
      "text/plain": [
       "                          count unique          top freq\n",
       "ID del Cliente             1175   1175       C00001    1\n",
       "Zona                       1175      6  Desconocido  573\n",
       "Canal                      1175      5  Desconocido  495\n",
       "Producto                   1175      3  Ahorro Plus  407\n",
       "¿Capacitado?               1175      3           Sí  540\n",
       "Mes                        1175      5        Enero  245\n",
       "Asesor                     1175     50          A28   35\n",
       "Participación en Campañas  1175      5         Alta  341"
      ]
     },
     "execution_count": 12,
     "metadata": {},
     "output_type": "execute_result"
    }
   ],
   "source": [
    "df.describe(include='object').T"
   ]
  },
  {
   "cell_type": "code",
   "execution_count": 13,
   "id": "e437dcb4",
   "metadata": {},
   "outputs": [],
   "source": [
    "df_inconsistency = pd.concat([\n",
    "\tdf[df['Monto de Venta'] <= 0],\n",
    "\tdf[df['Edad del Cliente'] <= 0],\n",
    "\tdf[df['% Cumplimiento Objetivo'] <= 0],\n",
    "\tdf[df['Inversión en Publicidad'] <= 0]\n",
    "], ignore_index=True)\n",
    "df_inconsistency.drop_duplicates(inplace=True)\n",
    "df_inconsistency.sort_values(by='ID del Cliente', ascending=True, inplace=True, ignore_index=True)\n",
    "df_inconsistency.to_csv('../Outputs/Tables/inconsistency.csv')"
   ]
  },
  {
   "cell_type": "code",
   "execution_count": 14,
   "id": "e7bec078",
   "metadata": {},
   "outputs": [
    {
     "name": "stdout",
     "output_type": "stream",
     "text": [
      "\n",
      " ID del Cliente\n",
      "['C00001' 'C00002' 'C00003' ... 'C01198' 'C01199' 'C01200']\n",
      "\n",
      " Zona\n",
      "['Desconocido' 'Este' 'Oeste' 'Sur' 'Centro' 'Norte']\n",
      "\n",
      " Canal\n",
      "['Sucursal' 'Desconocido' 'Call Center' 'Agente' 'Digital']\n",
      "\n",
      " Producto\n",
      "['Plan Retiro' 'Inversión Segura' 'Ahorro Plus']\n",
      "\n",
      " Monto de Venta\n",
      "[14908.48 16986.22  8659.82 ... 16698.01  6256.27 24905.4 ]\n",
      "\n",
      " Edad del Cliente\n",
      "[27 31 59 63 47 58 42 52 69 65 51 28 38 39 62 24 34 19 29 35 33 66 68 43\n",
      " 61 60 64 30 21 56 44 32 25 57 -1 22 53 45 46 54 40 20 36 37 23 49 26 55\n",
      " 67 48 41 18 50]\n",
      "\n",
      " ¿Capacitado?\n",
      "['No' 'Sí' 'Desconocido']\n",
      "\n",
      " Inversión en Publicidad\n",
      "[3115.12 2744.13 3069.54 ... 4382.64 5057.72 3777.85]\n",
      "\n",
      " Mes\n",
      "['Enero' 'Marzo' 'Febrero' 'Abril' 'Mayo']\n",
      "\n",
      " Asesor\n",
      "['A34' 'A6' 'A19' 'A22' 'A14' 'A33' 'A17' 'A7' 'A23' 'A15' 'A16' 'A39'\n",
      " 'A9' 'A3' 'A48' 'A38' 'A21' 'A13' 'A20' 'A36' 'A44' 'A42' 'A45' 'A37'\n",
      " 'A29' 'A30' 'A40' 'A10' 'A35' 'A4' 'A50' 'A28' 'A46' 'A8' 'A11' 'A24'\n",
      " 'A47' 'A31' 'A2' 'A32' 'A12' 'A25' 'A49' 'A1' 'A18' 'A41' 'A27' 'A26'\n",
      " 'A43' 'A5']\n",
      "\n",
      " % Cumplimiento Objetivo\n",
      "[79.27 88.55 87.9  ... 91.03 92.25 67.78]\n",
      "\n",
      " % Clientes Nuevos\n",
      "[0.12 0.3  0.51 0.11 0.31 0.56 0.84 0.62 0.43 0.73 0.26 0.2  0.64 0.55\n",
      " 0.69 0.6  0.89 0.53 0.19 0.76 0.72 0.87 0.66 0.58 0.47 0.39 0.38 0.61\n",
      " 0.7  0.5  0.48 0.63 0.82 0.23 0.9  0.81 0.68 0.75 0.79 0.67 0.78 0.57\n",
      " 0.88 0.14 0.49 0.16 0.37 0.22 0.52 0.85 0.74 0.65 0.1  0.44 0.83 0.24\n",
      " 0.33 0.27 0.17 0.15 0.4  0.54 0.25 0.34 0.18 0.13 0.41 0.36 0.59 0.46\n",
      " 0.45 0.32 0.8  0.77 0.28 0.71 0.29 0.21 0.86 0.35 0.42]\n",
      "\n",
      " Participación en Campañas\n",
      "['Baja' 'Ninguna' 'Media' 'Alta' 'Desconocido']\n",
      "\n",
      " Antigüedad del Asesor (meses)\n",
      "[23  5  7 57 58  6 49 22 13 12  4  8 37 31 45 26 43 40 33 29 28 53 17 55\n",
      "  9  2 51 52 30  3 56 10 46 50 47 38 15 25 18  1 48 41 36 54 11 16 14 39\n",
      " 21 32 44 35 24 42 27 19 59 34 20]\n"
     ]
    }
   ],
   "source": [
    "for col in df.columns:\n",
    "    print('\\n', col)\n",
    "    print(df[col].unique())"
   ]
  },
  {
   "cell_type": "code",
   "execution_count": 15,
   "id": "460a522b",
   "metadata": {},
   "outputs": [
    {
     "name": "stdout",
     "output_type": "stream",
     "text": [
      "<class 'pandas.core.frame.DataFrame'>\n",
      "Index: 1175 entries, 0 to 1199\n",
      "Data columns (total 14 columns):\n",
      " #   Column                         Non-Null Count  Dtype  \n",
      "---  ------                         --------------  -----  \n",
      " 0   ID del Cliente                 1175 non-null   object \n",
      " 1   Zona                           1175 non-null   object \n",
      " 2   Canal                          1175 non-null   object \n",
      " 3   Producto                       1175 non-null   object \n",
      " 4   Monto de Venta                 1175 non-null   float64\n",
      " 5   Edad del Cliente               1175 non-null   int64  \n",
      " 6   ¿Capacitado?                   1175 non-null   object \n",
      " 7   Inversión en Publicidad        1155 non-null   float64\n",
      " 8   Mes                            1175 non-null   object \n",
      " 9   Asesor                         1175 non-null   object \n",
      " 10  % Cumplimiento Objetivo        1175 non-null   float64\n",
      " 11  % Clientes Nuevos              1175 non-null   float64\n",
      " 12  Participación en Campañas      1175 non-null   object \n",
      " 13  Antigüedad del Asesor (meses)  1175 non-null   int64  \n",
      "dtypes: float64(4), int64(2), object(8)\n",
      "memory usage: 137.7+ KB\n"
     ]
    }
   ],
   "source": [
    "df.info()"
   ]
  },
  {
   "cell_type": "code",
   "execution_count": 16,
   "id": "cfc21fca",
   "metadata": {},
   "outputs": [],
   "source": [
    "cols_category = ['Zona', 'Canal', 'Producto', '¿Capacitado?', 'Mes', 'Participación en Campañas']\n",
    "df[cols_category] = df[cols_category].astype('category')"
   ]
  },
  {
   "cell_type": "code",
   "execution_count": 17,
   "id": "0cecdca7",
   "metadata": {},
   "outputs": [],
   "source": [
    "df.to_parquet('../Data/cleaned.parquet')"
   ]
  },
  {
   "cell_type": "code",
   "execution_count": null,
   "id": "03173591",
   "metadata": {},
   "outputs": [],
   "source": []
  }
 ],
 "metadata": {
  "kernelspec": {
   "display_name": "caso_data_analitica",
   "language": "python",
   "name": "python3"
  },
  "language_info": {
   "codemirror_mode": {
    "name": "ipython",
    "version": 3
   },
   "file_extension": ".py",
   "mimetype": "text/x-python",
   "name": "python",
   "nbconvert_exporter": "python",
   "pygments_lexer": "ipython3",
   "version": "3.13.3"
  }
 },
 "nbformat": 4,
 "nbformat_minor": 5
}
