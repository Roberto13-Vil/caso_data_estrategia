{
 "cells": [
  {
   "cell_type": "markdown",
   "id": "e373cb0c",
   "metadata": {},
   "source": [
    "# Stories"
   ]
  },
  {
   "cell_type": "markdown",
   "id": "e5568524",
   "metadata": {},
   "source": [
    "## Primera historia: Análisis de ventas por categoría"
   ]
  },
  {
   "cell_type": "code",
   "execution_count": 1,
   "id": "6d79675e",
   "metadata": {},
   "outputs": [],
   "source": [
    "import pandas as pd\n",
    "import plotly.express as px"
   ]
  },
  {
   "cell_type": "code",
   "execution_count": 2,
   "id": "f7e9cd17",
   "metadata": {},
   "outputs": [],
   "source": [
    "df = pd.read_parquet('../Data/cleaned.parquet')"
   ]
  },
  {
   "cell_type": "code",
   "execution_count": 3,
   "id": "ed1273d5",
   "metadata": {},
   "outputs": [
    {
     "data": {
      "application/vnd.plotly.v1+json": {
       "config": {
        "plotlyServerURL": "https://plot.ly"
       },
       "data": [
        {
         "hovertemplate": "Canal=Agente<br>Monto de Venta=%{r}<br>Zona=%{theta}<extra></extra>",
         "legendgroup": "Agente",
         "line": {
          "color": "#636efa",
          "dash": "solid"
         },
         "marker": {
          "symbol": "circle"
         },
         "mode": "lines",
         "name": "Agente",
         "r": {
          "bdata": "hetRuGJm/kBcj8J1hYUzQWZmZmbYmghBH4XrUbsxF0HhehSufaISQXE9CteQYxJBhetRuGJm/kA=",
          "dtype": "f8"
         },
         "showlegend": true,
         "subplot": "polar",
         "theta": [
          "Centro",
          "Desconocido",
          "Este",
          "Norte",
          "Oeste",
          "Sur",
          "Centro"
         ],
         "type": "scatterpolar"
        },
        {
         "hovertemplate": "Canal=Call Center<br>Monto de Venta=%{r}<br>Zona=%{theta}<extra></extra>",
         "legendgroup": "Call Center",
         "line": {
          "color": "#EF553B",
          "dash": "solid"
         },
         "marker": {
          "symbol": "circle"
         },
         "mode": "lines",
         "name": "Call Center",
         "r": {
          "bdata": "16NwPRDXEUHXo3D9EwQzQZqZmZn07hNBmpmZmRkADkEzMzMzlhMSQRSuR+E6XBBB16NwPRDXEUE=",
          "dtype": "f8"
         },
         "showlegend": true,
         "subplot": "polar",
         "theta": [
          "Centro",
          "Desconocido",
          "Este",
          "Norte",
          "Oeste",
          "Sur",
          "Centro"
         ],
         "type": "scatterpolar"
        },
        {
         "hovertemplate": "Canal=Desconocido<br>Monto de Venta=%{r}<br>Zona=%{theta}<extra></extra>",
         "legendgroup": "Desconocido",
         "line": {
          "color": "#00cc96",
          "dash": "solid"
         },
         "marker": {
          "symbol": "circle"
         },
         "mode": "lines",
         "name": "Desconocido",
         "r": {
          "bdata": "PQrXo1Z5JkE9CtdDEotLQc3MzEy4USVBXI/C9UxALUGuR+H6EzkpQeF6FK4XASpBPQrXo1Z5JkE=",
          "dtype": "f8"
         },
         "showlegend": true,
         "subplot": "polar",
         "theta": [
          "Centro",
          "Desconocido",
          "Este",
          "Norte",
          "Oeste",
          "Sur",
          "Centro"
         ],
         "type": "scatterpolar"
        },
        {
         "hovertemplate": "Canal=Digital<br>Monto de Venta=%{r}<br>Zona=%{theta}<extra></extra>",
         "legendgroup": "Digital",
         "line": {
          "color": "#ab63fa",
          "dash": "solid"
         },
         "marker": {
          "symbol": "circle"
         },
         "mode": "lines",
         "name": "Digital",
         "r": {
          "bdata": "AAAAAKD19kD2KFyPt0kzQfYoXI/0iAhBMzMzM7zdEUEK16Nwd/YJQZDC9SjDOhJBAAAAAKD19kA=",
          "dtype": "f8"
         },
         "showlegend": true,
         "subplot": "polar",
         "theta": [
          "Centro",
          "Desconocido",
          "Este",
          "Norte",
          "Oeste",
          "Sur",
          "Centro"
         ],
         "type": "scatterpolar"
        },
        {
         "hovertemplate": "Canal=Sucursal<br>Monto de Venta=%{r}<br>Zona=%{theta}<extra></extra>",
         "legendgroup": "Sucursal",
         "line": {
          "color": "#FFA15A",
          "dash": "solid"
         },
         "marker": {
          "symbol": "circle"
         },
         "mode": "lines",
         "name": "Sucursal",
         "r": {
          "bdata": "cT0K1w+eCEGamZnZz100QUfhehRUcQpBCtejcIWSE0H2KFyPsuIOQQAAAAB2fRNBcT0K1w+eCEE=",
          "dtype": "f8"
         },
         "showlegend": true,
         "subplot": "polar",
         "theta": [
          "Centro",
          "Desconocido",
          "Este",
          "Norte",
          "Oeste",
          "Sur",
          "Centro"
         ],
         "type": "scatterpolar"
        }
       ],
       "layout": {
        "legend": {
         "title": {
          "text": "Canal"
         },
         "tracegroupgap": 0
        },
        "margin": {
         "t": 60
        },
        "polar": {
         "angularaxis": {
          "direction": "clockwise",
          "rotation": 90
         },
         "domain": {
          "x": [
           0,
           1
          ],
          "y": [
           0,
           1
          ]
         }
        },
        "template": {
         "data": {
          "bar": [
           {
            "error_x": {
             "color": "#f2f5fa"
            },
            "error_y": {
             "color": "#f2f5fa"
            },
            "marker": {
             "line": {
              "color": "rgb(17,17,17)",
              "width": 0.5
             },
             "pattern": {
              "fillmode": "overlay",
              "size": 10,
              "solidity": 0.2
             }
            },
            "type": "bar"
           }
          ],
          "barpolar": [
           {
            "marker": {
             "line": {
              "color": "rgb(17,17,17)",
              "width": 0.5
             },
             "pattern": {
              "fillmode": "overlay",
              "size": 10,
              "solidity": 0.2
             }
            },
            "type": "barpolar"
           }
          ],
          "carpet": [
           {
            "aaxis": {
             "endlinecolor": "#A2B1C6",
             "gridcolor": "#506784",
             "linecolor": "#506784",
             "minorgridcolor": "#506784",
             "startlinecolor": "#A2B1C6"
            },
            "baxis": {
             "endlinecolor": "#A2B1C6",
             "gridcolor": "#506784",
             "linecolor": "#506784",
             "minorgridcolor": "#506784",
             "startlinecolor": "#A2B1C6"
            },
            "type": "carpet"
           }
          ],
          "choropleth": [
           {
            "colorbar": {
             "outlinewidth": 0,
             "ticks": ""
            },
            "type": "choropleth"
           }
          ],
          "contour": [
           {
            "colorbar": {
             "outlinewidth": 0,
             "ticks": ""
            },
            "colorscale": [
             [
              0,
              "#0d0887"
             ],
             [
              0.1111111111111111,
              "#46039f"
             ],
             [
              0.2222222222222222,
              "#7201a8"
             ],
             [
              0.3333333333333333,
              "#9c179e"
             ],
             [
              0.4444444444444444,
              "#bd3786"
             ],
             [
              0.5555555555555556,
              "#d8576b"
             ],
             [
              0.6666666666666666,
              "#ed7953"
             ],
             [
              0.7777777777777778,
              "#fb9f3a"
             ],
             [
              0.8888888888888888,
              "#fdca26"
             ],
             [
              1,
              "#f0f921"
             ]
            ],
            "type": "contour"
           }
          ],
          "contourcarpet": [
           {
            "colorbar": {
             "outlinewidth": 0,
             "ticks": ""
            },
            "type": "contourcarpet"
           }
          ],
          "heatmap": [
           {
            "colorbar": {
             "outlinewidth": 0,
             "ticks": ""
            },
            "colorscale": [
             [
              0,
              "#0d0887"
             ],
             [
              0.1111111111111111,
              "#46039f"
             ],
             [
              0.2222222222222222,
              "#7201a8"
             ],
             [
              0.3333333333333333,
              "#9c179e"
             ],
             [
              0.4444444444444444,
              "#bd3786"
             ],
             [
              0.5555555555555556,
              "#d8576b"
             ],
             [
              0.6666666666666666,
              "#ed7953"
             ],
             [
              0.7777777777777778,
              "#fb9f3a"
             ],
             [
              0.8888888888888888,
              "#fdca26"
             ],
             [
              1,
              "#f0f921"
             ]
            ],
            "type": "heatmap"
           }
          ],
          "histogram": [
           {
            "marker": {
             "pattern": {
              "fillmode": "overlay",
              "size": 10,
              "solidity": 0.2
             }
            },
            "type": "histogram"
           }
          ],
          "histogram2d": [
           {
            "colorbar": {
             "outlinewidth": 0,
             "ticks": ""
            },
            "colorscale": [
             [
              0,
              "#0d0887"
             ],
             [
              0.1111111111111111,
              "#46039f"
             ],
             [
              0.2222222222222222,
              "#7201a8"
             ],
             [
              0.3333333333333333,
              "#9c179e"
             ],
             [
              0.4444444444444444,
              "#bd3786"
             ],
             [
              0.5555555555555556,
              "#d8576b"
             ],
             [
              0.6666666666666666,
              "#ed7953"
             ],
             [
              0.7777777777777778,
              "#fb9f3a"
             ],
             [
              0.8888888888888888,
              "#fdca26"
             ],
             [
              1,
              "#f0f921"
             ]
            ],
            "type": "histogram2d"
           }
          ],
          "histogram2dcontour": [
           {
            "colorbar": {
             "outlinewidth": 0,
             "ticks": ""
            },
            "colorscale": [
             [
              0,
              "#0d0887"
             ],
             [
              0.1111111111111111,
              "#46039f"
             ],
             [
              0.2222222222222222,
              "#7201a8"
             ],
             [
              0.3333333333333333,
              "#9c179e"
             ],
             [
              0.4444444444444444,
              "#bd3786"
             ],
             [
              0.5555555555555556,
              "#d8576b"
             ],
             [
              0.6666666666666666,
              "#ed7953"
             ],
             [
              0.7777777777777778,
              "#fb9f3a"
             ],
             [
              0.8888888888888888,
              "#fdca26"
             ],
             [
              1,
              "#f0f921"
             ]
            ],
            "type": "histogram2dcontour"
           }
          ],
          "mesh3d": [
           {
            "colorbar": {
             "outlinewidth": 0,
             "ticks": ""
            },
            "type": "mesh3d"
           }
          ],
          "parcoords": [
           {
            "line": {
             "colorbar": {
              "outlinewidth": 0,
              "ticks": ""
             }
            },
            "type": "parcoords"
           }
          ],
          "pie": [
           {
            "automargin": true,
            "type": "pie"
           }
          ],
          "scatter": [
           {
            "marker": {
             "line": {
              "color": "#283442"
             }
            },
            "type": "scatter"
           }
          ],
          "scatter3d": [
           {
            "line": {
             "colorbar": {
              "outlinewidth": 0,
              "ticks": ""
             }
            },
            "marker": {
             "colorbar": {
              "outlinewidth": 0,
              "ticks": ""
             }
            },
            "type": "scatter3d"
           }
          ],
          "scattercarpet": [
           {
            "marker": {
             "colorbar": {
              "outlinewidth": 0,
              "ticks": ""
             }
            },
            "type": "scattercarpet"
           }
          ],
          "scattergeo": [
           {
            "marker": {
             "colorbar": {
              "outlinewidth": 0,
              "ticks": ""
             }
            },
            "type": "scattergeo"
           }
          ],
          "scattergl": [
           {
            "marker": {
             "line": {
              "color": "#283442"
             }
            },
            "type": "scattergl"
           }
          ],
          "scattermap": [
           {
            "marker": {
             "colorbar": {
              "outlinewidth": 0,
              "ticks": ""
             }
            },
            "type": "scattermap"
           }
          ],
          "scattermapbox": [
           {
            "marker": {
             "colorbar": {
              "outlinewidth": 0,
              "ticks": ""
             }
            },
            "type": "scattermapbox"
           }
          ],
          "scatterpolar": [
           {
            "marker": {
             "colorbar": {
              "outlinewidth": 0,
              "ticks": ""
             }
            },
            "type": "scatterpolar"
           }
          ],
          "scatterpolargl": [
           {
            "marker": {
             "colorbar": {
              "outlinewidth": 0,
              "ticks": ""
             }
            },
            "type": "scatterpolargl"
           }
          ],
          "scatterternary": [
           {
            "marker": {
             "colorbar": {
              "outlinewidth": 0,
              "ticks": ""
             }
            },
            "type": "scatterternary"
           }
          ],
          "surface": [
           {
            "colorbar": {
             "outlinewidth": 0,
             "ticks": ""
            },
            "colorscale": [
             [
              0,
              "#0d0887"
             ],
             [
              0.1111111111111111,
              "#46039f"
             ],
             [
              0.2222222222222222,
              "#7201a8"
             ],
             [
              0.3333333333333333,
              "#9c179e"
             ],
             [
              0.4444444444444444,
              "#bd3786"
             ],
             [
              0.5555555555555556,
              "#d8576b"
             ],
             [
              0.6666666666666666,
              "#ed7953"
             ],
             [
              0.7777777777777778,
              "#fb9f3a"
             ],
             [
              0.8888888888888888,
              "#fdca26"
             ],
             [
              1,
              "#f0f921"
             ]
            ],
            "type": "surface"
           }
          ],
          "table": [
           {
            "cells": {
             "fill": {
              "color": "#506784"
             },
             "line": {
              "color": "rgb(17,17,17)"
             }
            },
            "header": {
             "fill": {
              "color": "#2a3f5f"
             },
             "line": {
              "color": "rgb(17,17,17)"
             }
            },
            "type": "table"
           }
          ]
         },
         "layout": {
          "annotationdefaults": {
           "arrowcolor": "#f2f5fa",
           "arrowhead": 0,
           "arrowwidth": 1
          },
          "autotypenumbers": "strict",
          "coloraxis": {
           "colorbar": {
            "outlinewidth": 0,
            "ticks": ""
           }
          },
          "colorscale": {
           "diverging": [
            [
             0,
             "#8e0152"
            ],
            [
             0.1,
             "#c51b7d"
            ],
            [
             0.2,
             "#de77ae"
            ],
            [
             0.3,
             "#f1b6da"
            ],
            [
             0.4,
             "#fde0ef"
            ],
            [
             0.5,
             "#f7f7f7"
            ],
            [
             0.6,
             "#e6f5d0"
            ],
            [
             0.7,
             "#b8e186"
            ],
            [
             0.8,
             "#7fbc41"
            ],
            [
             0.9,
             "#4d9221"
            ],
            [
             1,
             "#276419"
            ]
           ],
           "sequential": [
            [
             0,
             "#0d0887"
            ],
            [
             0.1111111111111111,
             "#46039f"
            ],
            [
             0.2222222222222222,
             "#7201a8"
            ],
            [
             0.3333333333333333,
             "#9c179e"
            ],
            [
             0.4444444444444444,
             "#bd3786"
            ],
            [
             0.5555555555555556,
             "#d8576b"
            ],
            [
             0.6666666666666666,
             "#ed7953"
            ],
            [
             0.7777777777777778,
             "#fb9f3a"
            ],
            [
             0.8888888888888888,
             "#fdca26"
            ],
            [
             1,
             "#f0f921"
            ]
           ],
           "sequentialminus": [
            [
             0,
             "#0d0887"
            ],
            [
             0.1111111111111111,
             "#46039f"
            ],
            [
             0.2222222222222222,
             "#7201a8"
            ],
            [
             0.3333333333333333,
             "#9c179e"
            ],
            [
             0.4444444444444444,
             "#bd3786"
            ],
            [
             0.5555555555555556,
             "#d8576b"
            ],
            [
             0.6666666666666666,
             "#ed7953"
            ],
            [
             0.7777777777777778,
             "#fb9f3a"
            ],
            [
             0.8888888888888888,
             "#fdca26"
            ],
            [
             1,
             "#f0f921"
            ]
           ]
          },
          "colorway": [
           "#636efa",
           "#EF553B",
           "#00cc96",
           "#ab63fa",
           "#FFA15A",
           "#19d3f3",
           "#FF6692",
           "#B6E880",
           "#FF97FF",
           "#FECB52"
          ],
          "font": {
           "color": "#f2f5fa"
          },
          "geo": {
           "bgcolor": "rgb(17,17,17)",
           "lakecolor": "rgb(17,17,17)",
           "landcolor": "rgb(17,17,17)",
           "showlakes": true,
           "showland": true,
           "subunitcolor": "#506784"
          },
          "hoverlabel": {
           "align": "left"
          },
          "hovermode": "closest",
          "mapbox": {
           "style": "dark"
          },
          "paper_bgcolor": "rgb(17,17,17)",
          "plot_bgcolor": "rgb(17,17,17)",
          "polar": {
           "angularaxis": {
            "gridcolor": "#506784",
            "linecolor": "#506784",
            "ticks": ""
           },
           "bgcolor": "rgb(17,17,17)",
           "radialaxis": {
            "gridcolor": "#506784",
            "linecolor": "#506784",
            "ticks": ""
           }
          },
          "scene": {
           "xaxis": {
            "backgroundcolor": "rgb(17,17,17)",
            "gridcolor": "#506784",
            "gridwidth": 2,
            "linecolor": "#506784",
            "showbackground": true,
            "ticks": "",
            "zerolinecolor": "#C8D4E3"
           },
           "yaxis": {
            "backgroundcolor": "rgb(17,17,17)",
            "gridcolor": "#506784",
            "gridwidth": 2,
            "linecolor": "#506784",
            "showbackground": true,
            "ticks": "",
            "zerolinecolor": "#C8D4E3"
           },
           "zaxis": {
            "backgroundcolor": "rgb(17,17,17)",
            "gridcolor": "#506784",
            "gridwidth": 2,
            "linecolor": "#506784",
            "showbackground": true,
            "ticks": "",
            "zerolinecolor": "#C8D4E3"
           }
          },
          "shapedefaults": {
           "line": {
            "color": "#f2f5fa"
           }
          },
          "sliderdefaults": {
           "bgcolor": "#C8D4E3",
           "bordercolor": "rgb(17,17,17)",
           "borderwidth": 1,
           "tickwidth": 0
          },
          "ternary": {
           "aaxis": {
            "gridcolor": "#506784",
            "linecolor": "#506784",
            "ticks": ""
           },
           "baxis": {
            "gridcolor": "#506784",
            "linecolor": "#506784",
            "ticks": ""
           },
           "bgcolor": "rgb(17,17,17)",
           "caxis": {
            "gridcolor": "#506784",
            "linecolor": "#506784",
            "ticks": ""
           }
          },
          "title": {
           "x": 0.05
          },
          "updatemenudefaults": {
           "bgcolor": "#506784",
           "borderwidth": 0
          },
          "xaxis": {
           "automargin": true,
           "gridcolor": "#283442",
           "linecolor": "#506784",
           "ticks": "",
           "title": {
            "standoff": 15
           },
           "zerolinecolor": "#283442",
           "zerolinewidth": 2
          },
          "yaxis": {
           "automargin": true,
           "gridcolor": "#283442",
           "linecolor": "#506784",
           "ticks": "",
           "title": {
            "standoff": 15
           },
           "zerolinecolor": "#283442",
           "zerolinewidth": 2
          }
         }
        }
       }
      }
     },
     "metadata": {},
     "output_type": "display_data"
    }
   ],
   "source": [
    "df_radar = df.groupby([\"Zona\", \"Canal\"], as_index=False)[\"Monto de Venta\"].sum()\n",
    "fig_radar = px.line_polar(df_radar,\n",
    "                          r=\"Monto de Venta\", theta=\"Zona\",\n",
    "                          color=\"Canal\", line_close=True,\n",
    "                          template=\"plotly_dark\")\n",
    "fig_radar.show()"
   ]
  },
  {
   "cell_type": "code",
   "execution_count": 4,
   "id": "5ecaf038",
   "metadata": {},
   "outputs": [
    {
     "data": {
      "application/vnd.plotly.v1+json": {
       "config": {
        "plotlyServerURL": "https://plot.ly"
       },
       "data": [
        {
         "hovertemplate": "Producto=Plan Retiro<br>Mes=%{x}<br>Monto de Venta=%{y}<extra></extra>",
         "legendgroup": "Plan Retiro",
         "line": {
          "color": "#636efa",
          "dash": "solid"
         },
         "marker": {
          "symbol": "circle"
         },
         "mode": "lines+markers",
         "name": "Plan Retiro",
         "orientation": "v",
         "showlegend": true,
         "type": "scatter",
         "x": [
          "Abril",
          "Enero",
          "Febrero",
          "Marzo",
          "Mayo"
         ],
         "xaxis": "x",
         "y": {
          "bdata": "ZmZmZobl0EA9CtejsBezQOF6FK5XntJA61G4HiWq1kDOzMzMXH7cQA==",
          "dtype": "f8"
         },
         "yaxis": "y"
        },
        {
         "hovertemplate": "Producto=Ahorro Plus<br>Mes=%{x}<br>Monto de Venta=%{y}<extra></extra>",
         "legendgroup": "Ahorro Plus",
         "line": {
          "color": "#EF553B",
          "dash": "solid"
         },
         "marker": {
          "symbol": "circle"
         },
         "mode": "lines+markers",
         "name": "Ahorro Plus",
         "orientation": "v",
         "showlegend": true,
         "type": "scatter",
         "x": [
          "Enero",
          "Marzo",
          "Mayo"
         ],
         "xaxis": "x",
         "y": {
          "bdata": "FK5H4cpb2EDiehSuZ6PlQNejcD36PedA",
          "dtype": "f8"
         },
         "yaxis": "y"
        },
        {
         "hovertemplate": "Producto=Inversión Segura<br>Mes=%{x}<br>Monto de Venta=%{y}<extra></extra>",
         "legendgroup": "Inversión Segura",
         "line": {
          "color": "#00cc96",
          "dash": "solid"
         },
         "marker": {
          "symbol": "circle"
         },
         "mode": "lines+markers",
         "name": "Inversión Segura",
         "orientation": "v",
         "showlegend": true,
         "type": "scatter",
         "x": [
          "Enero",
          "Marzo",
          "Mayo"
         ],
         "xaxis": "x",
         "y": {
          "bdata": "16NwPQr2y0ApXI/CdajmQOF6FK73/tRA",
          "dtype": "f8"
         },
         "yaxis": "y"
        }
       ],
       "layout": {
        "legend": {
         "title": {
          "text": "Producto"
         },
         "tracegroupgap": 0
        },
        "margin": {
         "t": 60
        },
        "template": {
         "data": {
          "bar": [
           {
            "error_x": {
             "color": "#2a3f5f"
            },
            "error_y": {
             "color": "#2a3f5f"
            },
            "marker": {
             "line": {
              "color": "#E5ECF6",
              "width": 0.5
             },
             "pattern": {
              "fillmode": "overlay",
              "size": 10,
              "solidity": 0.2
             }
            },
            "type": "bar"
           }
          ],
          "barpolar": [
           {
            "marker": {
             "line": {
              "color": "#E5ECF6",
              "width": 0.5
             },
             "pattern": {
              "fillmode": "overlay",
              "size": 10,
              "solidity": 0.2
             }
            },
            "type": "barpolar"
           }
          ],
          "carpet": [
           {
            "aaxis": {
             "endlinecolor": "#2a3f5f",
             "gridcolor": "white",
             "linecolor": "white",
             "minorgridcolor": "white",
             "startlinecolor": "#2a3f5f"
            },
            "baxis": {
             "endlinecolor": "#2a3f5f",
             "gridcolor": "white",
             "linecolor": "white",
             "minorgridcolor": "white",
             "startlinecolor": "#2a3f5f"
            },
            "type": "carpet"
           }
          ],
          "choropleth": [
           {
            "colorbar": {
             "outlinewidth": 0,
             "ticks": ""
            },
            "type": "choropleth"
           }
          ],
          "contour": [
           {
            "colorbar": {
             "outlinewidth": 0,
             "ticks": ""
            },
            "colorscale": [
             [
              0,
              "#0d0887"
             ],
             [
              0.1111111111111111,
              "#46039f"
             ],
             [
              0.2222222222222222,
              "#7201a8"
             ],
             [
              0.3333333333333333,
              "#9c179e"
             ],
             [
              0.4444444444444444,
              "#bd3786"
             ],
             [
              0.5555555555555556,
              "#d8576b"
             ],
             [
              0.6666666666666666,
              "#ed7953"
             ],
             [
              0.7777777777777778,
              "#fb9f3a"
             ],
             [
              0.8888888888888888,
              "#fdca26"
             ],
             [
              1,
              "#f0f921"
             ]
            ],
            "type": "contour"
           }
          ],
          "contourcarpet": [
           {
            "colorbar": {
             "outlinewidth": 0,
             "ticks": ""
            },
            "type": "contourcarpet"
           }
          ],
          "heatmap": [
           {
            "colorbar": {
             "outlinewidth": 0,
             "ticks": ""
            },
            "colorscale": [
             [
              0,
              "#0d0887"
             ],
             [
              0.1111111111111111,
              "#46039f"
             ],
             [
              0.2222222222222222,
              "#7201a8"
             ],
             [
              0.3333333333333333,
              "#9c179e"
             ],
             [
              0.4444444444444444,
              "#bd3786"
             ],
             [
              0.5555555555555556,
              "#d8576b"
             ],
             [
              0.6666666666666666,
              "#ed7953"
             ],
             [
              0.7777777777777778,
              "#fb9f3a"
             ],
             [
              0.8888888888888888,
              "#fdca26"
             ],
             [
              1,
              "#f0f921"
             ]
            ],
            "type": "heatmap"
           }
          ],
          "histogram": [
           {
            "marker": {
             "pattern": {
              "fillmode": "overlay",
              "size": 10,
              "solidity": 0.2
             }
            },
            "type": "histogram"
           }
          ],
          "histogram2d": [
           {
            "colorbar": {
             "outlinewidth": 0,
             "ticks": ""
            },
            "colorscale": [
             [
              0,
              "#0d0887"
             ],
             [
              0.1111111111111111,
              "#46039f"
             ],
             [
              0.2222222222222222,
              "#7201a8"
             ],
             [
              0.3333333333333333,
              "#9c179e"
             ],
             [
              0.4444444444444444,
              "#bd3786"
             ],
             [
              0.5555555555555556,
              "#d8576b"
             ],
             [
              0.6666666666666666,
              "#ed7953"
             ],
             [
              0.7777777777777778,
              "#fb9f3a"
             ],
             [
              0.8888888888888888,
              "#fdca26"
             ],
             [
              1,
              "#f0f921"
             ]
            ],
            "type": "histogram2d"
           }
          ],
          "histogram2dcontour": [
           {
            "colorbar": {
             "outlinewidth": 0,
             "ticks": ""
            },
            "colorscale": [
             [
              0,
              "#0d0887"
             ],
             [
              0.1111111111111111,
              "#46039f"
             ],
             [
              0.2222222222222222,
              "#7201a8"
             ],
             [
              0.3333333333333333,
              "#9c179e"
             ],
             [
              0.4444444444444444,
              "#bd3786"
             ],
             [
              0.5555555555555556,
              "#d8576b"
             ],
             [
              0.6666666666666666,
              "#ed7953"
             ],
             [
              0.7777777777777778,
              "#fb9f3a"
             ],
             [
              0.8888888888888888,
              "#fdca26"
             ],
             [
              1,
              "#f0f921"
             ]
            ],
            "type": "histogram2dcontour"
           }
          ],
          "mesh3d": [
           {
            "colorbar": {
             "outlinewidth": 0,
             "ticks": ""
            },
            "type": "mesh3d"
           }
          ],
          "parcoords": [
           {
            "line": {
             "colorbar": {
              "outlinewidth": 0,
              "ticks": ""
             }
            },
            "type": "parcoords"
           }
          ],
          "pie": [
           {
            "automargin": true,
            "type": "pie"
           }
          ],
          "scatter": [
           {
            "fillpattern": {
             "fillmode": "overlay",
             "size": 10,
             "solidity": 0.2
            },
            "type": "scatter"
           }
          ],
          "scatter3d": [
           {
            "line": {
             "colorbar": {
              "outlinewidth": 0,
              "ticks": ""
             }
            },
            "marker": {
             "colorbar": {
              "outlinewidth": 0,
              "ticks": ""
             }
            },
            "type": "scatter3d"
           }
          ],
          "scattercarpet": [
           {
            "marker": {
             "colorbar": {
              "outlinewidth": 0,
              "ticks": ""
             }
            },
            "type": "scattercarpet"
           }
          ],
          "scattergeo": [
           {
            "marker": {
             "colorbar": {
              "outlinewidth": 0,
              "ticks": ""
             }
            },
            "type": "scattergeo"
           }
          ],
          "scattergl": [
           {
            "marker": {
             "colorbar": {
              "outlinewidth": 0,
              "ticks": ""
             }
            },
            "type": "scattergl"
           }
          ],
          "scattermap": [
           {
            "marker": {
             "colorbar": {
              "outlinewidth": 0,
              "ticks": ""
             }
            },
            "type": "scattermap"
           }
          ],
          "scattermapbox": [
           {
            "marker": {
             "colorbar": {
              "outlinewidth": 0,
              "ticks": ""
             }
            },
            "type": "scattermapbox"
           }
          ],
          "scatterpolar": [
           {
            "marker": {
             "colorbar": {
              "outlinewidth": 0,
              "ticks": ""
             }
            },
            "type": "scatterpolar"
           }
          ],
          "scatterpolargl": [
           {
            "marker": {
             "colorbar": {
              "outlinewidth": 0,
              "ticks": ""
             }
            },
            "type": "scatterpolargl"
           }
          ],
          "scatterternary": [
           {
            "marker": {
             "colorbar": {
              "outlinewidth": 0,
              "ticks": ""
             }
            },
            "type": "scatterternary"
           }
          ],
          "surface": [
           {
            "colorbar": {
             "outlinewidth": 0,
             "ticks": ""
            },
            "colorscale": [
             [
              0,
              "#0d0887"
             ],
             [
              0.1111111111111111,
              "#46039f"
             ],
             [
              0.2222222222222222,
              "#7201a8"
             ],
             [
              0.3333333333333333,
              "#9c179e"
             ],
             [
              0.4444444444444444,
              "#bd3786"
             ],
             [
              0.5555555555555556,
              "#d8576b"
             ],
             [
              0.6666666666666666,
              "#ed7953"
             ],
             [
              0.7777777777777778,
              "#fb9f3a"
             ],
             [
              0.8888888888888888,
              "#fdca26"
             ],
             [
              1,
              "#f0f921"
             ]
            ],
            "type": "surface"
           }
          ],
          "table": [
           {
            "cells": {
             "fill": {
              "color": "#EBF0F8"
             },
             "line": {
              "color": "white"
             }
            },
            "header": {
             "fill": {
              "color": "#C8D4E3"
             },
             "line": {
              "color": "white"
             }
            },
            "type": "table"
           }
          ]
         },
         "layout": {
          "annotationdefaults": {
           "arrowcolor": "#2a3f5f",
           "arrowhead": 0,
           "arrowwidth": 1
          },
          "autotypenumbers": "strict",
          "coloraxis": {
           "colorbar": {
            "outlinewidth": 0,
            "ticks": ""
           }
          },
          "colorscale": {
           "diverging": [
            [
             0,
             "#8e0152"
            ],
            [
             0.1,
             "#c51b7d"
            ],
            [
             0.2,
             "#de77ae"
            ],
            [
             0.3,
             "#f1b6da"
            ],
            [
             0.4,
             "#fde0ef"
            ],
            [
             0.5,
             "#f7f7f7"
            ],
            [
             0.6,
             "#e6f5d0"
            ],
            [
             0.7,
             "#b8e186"
            ],
            [
             0.8,
             "#7fbc41"
            ],
            [
             0.9,
             "#4d9221"
            ],
            [
             1,
             "#276419"
            ]
           ],
           "sequential": [
            [
             0,
             "#0d0887"
            ],
            [
             0.1111111111111111,
             "#46039f"
            ],
            [
             0.2222222222222222,
             "#7201a8"
            ],
            [
             0.3333333333333333,
             "#9c179e"
            ],
            [
             0.4444444444444444,
             "#bd3786"
            ],
            [
             0.5555555555555556,
             "#d8576b"
            ],
            [
             0.6666666666666666,
             "#ed7953"
            ],
            [
             0.7777777777777778,
             "#fb9f3a"
            ],
            [
             0.8888888888888888,
             "#fdca26"
            ],
            [
             1,
             "#f0f921"
            ]
           ],
           "sequentialminus": [
            [
             0,
             "#0d0887"
            ],
            [
             0.1111111111111111,
             "#46039f"
            ],
            [
             0.2222222222222222,
             "#7201a8"
            ],
            [
             0.3333333333333333,
             "#9c179e"
            ],
            [
             0.4444444444444444,
             "#bd3786"
            ],
            [
             0.5555555555555556,
             "#d8576b"
            ],
            [
             0.6666666666666666,
             "#ed7953"
            ],
            [
             0.7777777777777778,
             "#fb9f3a"
            ],
            [
             0.8888888888888888,
             "#fdca26"
            ],
            [
             1,
             "#f0f921"
            ]
           ]
          },
          "colorway": [
           "#636efa",
           "#EF553B",
           "#00cc96",
           "#ab63fa",
           "#FFA15A",
           "#19d3f3",
           "#FF6692",
           "#B6E880",
           "#FF97FF",
           "#FECB52"
          ],
          "font": {
           "color": "#2a3f5f"
          },
          "geo": {
           "bgcolor": "white",
           "lakecolor": "white",
           "landcolor": "#E5ECF6",
           "showlakes": true,
           "showland": true,
           "subunitcolor": "white"
          },
          "hoverlabel": {
           "align": "left"
          },
          "hovermode": "closest",
          "mapbox": {
           "style": "light"
          },
          "paper_bgcolor": "white",
          "plot_bgcolor": "#E5ECF6",
          "polar": {
           "angularaxis": {
            "gridcolor": "white",
            "linecolor": "white",
            "ticks": ""
           },
           "bgcolor": "#E5ECF6",
           "radialaxis": {
            "gridcolor": "white",
            "linecolor": "white",
            "ticks": ""
           }
          },
          "scene": {
           "xaxis": {
            "backgroundcolor": "#E5ECF6",
            "gridcolor": "white",
            "gridwidth": 2,
            "linecolor": "white",
            "showbackground": true,
            "ticks": "",
            "zerolinecolor": "white"
           },
           "yaxis": {
            "backgroundcolor": "#E5ECF6",
            "gridcolor": "white",
            "gridwidth": 2,
            "linecolor": "white",
            "showbackground": true,
            "ticks": "",
            "zerolinecolor": "white"
           },
           "zaxis": {
            "backgroundcolor": "#E5ECF6",
            "gridcolor": "white",
            "gridwidth": 2,
            "linecolor": "white",
            "showbackground": true,
            "ticks": "",
            "zerolinecolor": "white"
           }
          },
          "shapedefaults": {
           "line": {
            "color": "#2a3f5f"
           }
          },
          "ternary": {
           "aaxis": {
            "gridcolor": "white",
            "linecolor": "white",
            "ticks": ""
           },
           "baxis": {
            "gridcolor": "white",
            "linecolor": "white",
            "ticks": ""
           },
           "bgcolor": "#E5ECF6",
           "caxis": {
            "gridcolor": "white",
            "linecolor": "white",
            "ticks": ""
           }
          },
          "title": {
           "x": 0.05
          },
          "xaxis": {
           "automargin": true,
           "gridcolor": "white",
           "linecolor": "white",
           "ticks": "",
           "title": {
            "standoff": 15
           },
           "zerolinecolor": "white",
           "zerolinewidth": 2
          },
          "yaxis": {
           "automargin": true,
           "gridcolor": "white",
           "linecolor": "white",
           "ticks": "",
           "title": {
            "standoff": 15
           },
           "zerolinecolor": "white",
           "zerolinewidth": 2
          }
         }
        },
        "xaxis": {
         "anchor": "y",
         "domain": [
          0,
          1
         ],
         "title": {
          "text": "Mes"
         }
        },
        "yaxis": {
         "anchor": "x",
         "domain": [
          0,
          1
         ],
         "title": {
          "text": "Monto de Venta"
         }
        }
       }
      }
     },
     "metadata": {},
     "output_type": "display_data"
    }
   ],
   "source": [
    "zona_sel = \"Norte\"\n",
    "canal_sel = \"Digital\"\n",
    "mes_a_num = {\n",
    "    \"Enero\": 1, \n",
    "    \"Febrero\": 2, \n",
    "    \"Marzo\": 3, \n",
    "    \"Abril\": 4,\n",
    "    \"Mayo\": 5\n",
    "}\n",
    "\n",
    "\n",
    "df_linea = df[(df[\"Zona\"] == zona_sel) & (df[\"Canal\"] == canal_sel)]\n",
    "df_linea = df_linea.groupby([\"Mes\", \"Producto\"], as_index=False)[\"Monto de Venta\"].sum()\n",
    "df_linea[\"Mes\"] = pd.Categorical(df_linea['Mes'], categories=mes_a_num.keys(), ordered=True)\n",
    "\n",
    "\n",
    "fig_linea = px.line(df_linea,\n",
    "                    x=\"Mes\",\n",
    "                    y=\"Monto de Venta\",\n",
    "                    color=\"Producto\",\n",
    "                    markers=True)\n",
    "fig_linea.show()"
   ]
  },
  {
   "cell_type": "markdown",
   "id": "3527b21d",
   "metadata": {},
   "source": [
    "## Segunda historia: Análisis de Asesores"
   ]
  },
  {
   "cell_type": "code",
   "execution_count": 5,
   "id": "429980d8",
   "metadata": {},
   "outputs": [
    {
     "data": {
      "text/plain": [
       "Index(['ID del Cliente', 'Zona', 'Canal', 'Producto', 'Monto de Venta',\n",
       "       'Edad del Cliente', '¿Capacitado?', 'Inversión en Publicidad', 'Mes',\n",
       "       'Asesor', '% Cumplimiento Objetivo', '% Clientes Nuevos',\n",
       "       'Participación en Campañas', 'Antigüedad del Asesor (meses)'],\n",
       "      dtype='object')"
      ]
     },
     "execution_count": 5,
     "metadata": {},
     "output_type": "execute_result"
    }
   ],
   "source": [
    "df.columns"
   ]
  },
  {
   "cell_type": "code",
   "execution_count": 6,
   "id": "741a24fc",
   "metadata": {},
   "outputs": [],
   "source": [
    "columnas_asesor = ['¿Capacitado?', 'Asesor', '% Cumplimiento Objetivo', 'Antigüedad del Asesor (meses)', 'Monto de Venta']"
   ]
  },
  {
   "cell_type": "code",
   "execution_count": 7,
   "id": "3c2cc430",
   "metadata": {},
   "outputs": [
    {
     "data": {
      "text/html": [
       "<div>\n",
       "<style scoped>\n",
       "    .dataframe tbody tr th:only-of-type {\n",
       "        vertical-align: middle;\n",
       "    }\n",
       "\n",
       "    .dataframe tbody tr th {\n",
       "        vertical-align: top;\n",
       "    }\n",
       "\n",
       "    .dataframe thead th {\n",
       "        text-align: right;\n",
       "    }\n",
       "</style>\n",
       "<table border=\"1\" class=\"dataframe\">\n",
       "  <thead>\n",
       "    <tr style=\"text-align: right;\">\n",
       "      <th></th>\n",
       "      <th>count</th>\n",
       "      <th>unique</th>\n",
       "      <th>top</th>\n",
       "      <th>freq</th>\n",
       "      <th>mean</th>\n",
       "      <th>std</th>\n",
       "      <th>min</th>\n",
       "      <th>25%</th>\n",
       "      <th>50%</th>\n",
       "      <th>75%</th>\n",
       "      <th>max</th>\n",
       "    </tr>\n",
       "  </thead>\n",
       "  <tbody>\n",
       "    <tr>\n",
       "      <th>¿Capacitado?</th>\n",
       "      <td>1175</td>\n",
       "      <td>3</td>\n",
       "      <td>Sí</td>\n",
       "      <td>540</td>\n",
       "      <td>NaN</td>\n",
       "      <td>NaN</td>\n",
       "      <td>NaN</td>\n",
       "      <td>NaN</td>\n",
       "      <td>NaN</td>\n",
       "      <td>NaN</td>\n",
       "      <td>NaN</td>\n",
       "    </tr>\n",
       "    <tr>\n",
       "      <th>Asesor</th>\n",
       "      <td>1175</td>\n",
       "      <td>50</td>\n",
       "      <td>A28</td>\n",
       "      <td>35</td>\n",
       "      <td>NaN</td>\n",
       "      <td>NaN</td>\n",
       "      <td>NaN</td>\n",
       "      <td>NaN</td>\n",
       "      <td>NaN</td>\n",
       "      <td>NaN</td>\n",
       "      <td>NaN</td>\n",
       "    </tr>\n",
       "    <tr>\n",
       "      <th>% Cumplimiento Objetivo</th>\n",
       "      <td>1175.0</td>\n",
       "      <td>NaN</td>\n",
       "      <td>NaN</td>\n",
       "      <td>NaN</td>\n",
       "      <td>87.931387</td>\n",
       "      <td>19.406354</td>\n",
       "      <td>-5.0</td>\n",
       "      <td>78.89</td>\n",
       "      <td>89.18</td>\n",
       "      <td>99.68</td>\n",
       "      <td>139.15</td>\n",
       "    </tr>\n",
       "    <tr>\n",
       "      <th>Antigüedad del Asesor (meses)</th>\n",
       "      <td>1175.0</td>\n",
       "      <td>NaN</td>\n",
       "      <td>NaN</td>\n",
       "      <td>NaN</td>\n",
       "      <td>30.067234</td>\n",
       "      <td>17.404392</td>\n",
       "      <td>1.0</td>\n",
       "      <td>15.0</td>\n",
       "      <td>30.0</td>\n",
       "      <td>46.0</td>\n",
       "      <td>59.0</td>\n",
       "    </tr>\n",
       "    <tr>\n",
       "      <th>Monto de Venta</th>\n",
       "      <td>1175.0</td>\n",
       "      <td>NaN</td>\n",
       "      <td>NaN</td>\n",
       "      <td>NaN</td>\n",
       "      <td>15283.934077</td>\n",
       "      <td>5025.131813</td>\n",
       "      <td>-1934.07</td>\n",
       "      <td>11843.315</td>\n",
       "      <td>15431.78</td>\n",
       "      <td>18695.555</td>\n",
       "      <td>32479.39</td>\n",
       "    </tr>\n",
       "  </tbody>\n",
       "</table>\n",
       "</div>"
      ],
      "text/plain": [
       "                                count unique  top freq          mean  \\\n",
       "¿Capacitado?                     1175      3   Sí  540           NaN   \n",
       "Asesor                           1175     50  A28   35           NaN   \n",
       "% Cumplimiento Objetivo        1175.0    NaN  NaN  NaN     87.931387   \n",
       "Antigüedad del Asesor (meses)  1175.0    NaN  NaN  NaN     30.067234   \n",
       "Monto de Venta                 1175.0    NaN  NaN  NaN  15283.934077   \n",
       "\n",
       "                                       std      min        25%       50%  \\\n",
       "¿Capacitado?                           NaN      NaN        NaN       NaN   \n",
       "Asesor                                 NaN      NaN        NaN       NaN   \n",
       "% Cumplimiento Objetivo          19.406354     -5.0      78.89     89.18   \n",
       "Antigüedad del Asesor (meses)    17.404392      1.0       15.0      30.0   \n",
       "Monto de Venta                 5025.131813 -1934.07  11843.315  15431.78   \n",
       "\n",
       "                                     75%       max  \n",
       "¿Capacitado?                         NaN       NaN  \n",
       "Asesor                               NaN       NaN  \n",
       "% Cumplimiento Objetivo            99.68    139.15  \n",
       "Antigüedad del Asesor (meses)       46.0      59.0  \n",
       "Monto de Venta                 18695.555  32479.39  "
      ]
     },
     "execution_count": 7,
     "metadata": {},
     "output_type": "execute_result"
    }
   ],
   "source": [
    "df[columnas_asesor].describe(include='all').T"
   ]
  },
  {
   "cell_type": "code",
   "execution_count": 8,
   "id": "ac17130f",
   "metadata": {},
   "outputs": [
    {
     "data": {
      "text/plain": [
       "Asesor\n",
       "A28    579220.50\n",
       "A35    515216.10\n",
       "A15    506319.93\n",
       "A38    505694.82\n",
       "A50    458560.85\n",
       "Name: Monto de Venta, dtype: float64"
      ]
     },
     "execution_count": 8,
     "metadata": {},
     "output_type": "execute_result"
    }
   ],
   "source": [
    "df_top10 = df.groupby('Asesor')['Monto de Venta'].sum().sort_values(ascending=False)\n",
    "df_top10.head(5)"
   ]
  },
  {
   "cell_type": "code",
   "execution_count": 9,
   "id": "6a7481f6",
   "metadata": {},
   "outputs": [
    {
     "data": {
      "application/vnd.plotly.v1+json": {
       "config": {
        "plotlyServerURL": "https://plot.ly"
       },
       "data": [
        {
         "hovertemplate": "Monto de Venta=%{text}<br>Asesor=%{y}<extra></extra>",
         "legendgroup": "",
         "marker": {
          "color": "#636efa",
          "pattern": {
           "shape": ""
          }
         },
         "name": "",
         "orientation": "h",
         "showlegend": false,
         "text": {
          "bdata": "AAAAACmtIUFmZmZmQHIfQYXrUbg/5x5BexSuR3vdHkFmZmZmA/0bQQAAAACQvhtBCtejcPvMGkHXo3A9TsAaQSlcj8KJthpB9ihcj0KcGUE=",
          "dtype": "f8"
         },
         "textposition": "outside",
         "texttemplate": "%{text:.2s}",
         "type": "bar",
         "x": {
          "bdata": "AAAAACmtIUFmZmZmQHIfQYXrUbg/5x5BexSuR3vdHkFmZmZmA/0bQQAAAACQvhtBCtejcPvMGkHXo3A9TsAaQSlcj8KJthpB9ihcj0KcGUE=",
          "dtype": "f8"
         },
         "xaxis": "x",
         "y": [
          "A28",
          "A35",
          "A15",
          "A38",
          "A50",
          "A34",
          "A10",
          "A24",
          "A25",
          "A44"
         ],
         "yaxis": "y"
        }
       ],
       "layout": {
        "barmode": "relative",
        "legend": {
         "tracegroupgap": 0
        },
        "template": {
         "data": {
          "bar": [
           {
            "error_x": {
             "color": "#2a3f5f"
            },
            "error_y": {
             "color": "#2a3f5f"
            },
            "marker": {
             "line": {
              "color": "#E5ECF6",
              "width": 0.5
             },
             "pattern": {
              "fillmode": "overlay",
              "size": 10,
              "solidity": 0.2
             }
            },
            "type": "bar"
           }
          ],
          "barpolar": [
           {
            "marker": {
             "line": {
              "color": "#E5ECF6",
              "width": 0.5
             },
             "pattern": {
              "fillmode": "overlay",
              "size": 10,
              "solidity": 0.2
             }
            },
            "type": "barpolar"
           }
          ],
          "carpet": [
           {
            "aaxis": {
             "endlinecolor": "#2a3f5f",
             "gridcolor": "white",
             "linecolor": "white",
             "minorgridcolor": "white",
             "startlinecolor": "#2a3f5f"
            },
            "baxis": {
             "endlinecolor": "#2a3f5f",
             "gridcolor": "white",
             "linecolor": "white",
             "minorgridcolor": "white",
             "startlinecolor": "#2a3f5f"
            },
            "type": "carpet"
           }
          ],
          "choropleth": [
           {
            "colorbar": {
             "outlinewidth": 0,
             "ticks": ""
            },
            "type": "choropleth"
           }
          ],
          "contour": [
           {
            "colorbar": {
             "outlinewidth": 0,
             "ticks": ""
            },
            "colorscale": [
             [
              0,
              "#0d0887"
             ],
             [
              0.1111111111111111,
              "#46039f"
             ],
             [
              0.2222222222222222,
              "#7201a8"
             ],
             [
              0.3333333333333333,
              "#9c179e"
             ],
             [
              0.4444444444444444,
              "#bd3786"
             ],
             [
              0.5555555555555556,
              "#d8576b"
             ],
             [
              0.6666666666666666,
              "#ed7953"
             ],
             [
              0.7777777777777778,
              "#fb9f3a"
             ],
             [
              0.8888888888888888,
              "#fdca26"
             ],
             [
              1,
              "#f0f921"
             ]
            ],
            "type": "contour"
           }
          ],
          "contourcarpet": [
           {
            "colorbar": {
             "outlinewidth": 0,
             "ticks": ""
            },
            "type": "contourcarpet"
           }
          ],
          "heatmap": [
           {
            "colorbar": {
             "outlinewidth": 0,
             "ticks": ""
            },
            "colorscale": [
             [
              0,
              "#0d0887"
             ],
             [
              0.1111111111111111,
              "#46039f"
             ],
             [
              0.2222222222222222,
              "#7201a8"
             ],
             [
              0.3333333333333333,
              "#9c179e"
             ],
             [
              0.4444444444444444,
              "#bd3786"
             ],
             [
              0.5555555555555556,
              "#d8576b"
             ],
             [
              0.6666666666666666,
              "#ed7953"
             ],
             [
              0.7777777777777778,
              "#fb9f3a"
             ],
             [
              0.8888888888888888,
              "#fdca26"
             ],
             [
              1,
              "#f0f921"
             ]
            ],
            "type": "heatmap"
           }
          ],
          "histogram": [
           {
            "marker": {
             "pattern": {
              "fillmode": "overlay",
              "size": 10,
              "solidity": 0.2
             }
            },
            "type": "histogram"
           }
          ],
          "histogram2d": [
           {
            "colorbar": {
             "outlinewidth": 0,
             "ticks": ""
            },
            "colorscale": [
             [
              0,
              "#0d0887"
             ],
             [
              0.1111111111111111,
              "#46039f"
             ],
             [
              0.2222222222222222,
              "#7201a8"
             ],
             [
              0.3333333333333333,
              "#9c179e"
             ],
             [
              0.4444444444444444,
              "#bd3786"
             ],
             [
              0.5555555555555556,
              "#d8576b"
             ],
             [
              0.6666666666666666,
              "#ed7953"
             ],
             [
              0.7777777777777778,
              "#fb9f3a"
             ],
             [
              0.8888888888888888,
              "#fdca26"
             ],
             [
              1,
              "#f0f921"
             ]
            ],
            "type": "histogram2d"
           }
          ],
          "histogram2dcontour": [
           {
            "colorbar": {
             "outlinewidth": 0,
             "ticks": ""
            },
            "colorscale": [
             [
              0,
              "#0d0887"
             ],
             [
              0.1111111111111111,
              "#46039f"
             ],
             [
              0.2222222222222222,
              "#7201a8"
             ],
             [
              0.3333333333333333,
              "#9c179e"
             ],
             [
              0.4444444444444444,
              "#bd3786"
             ],
             [
              0.5555555555555556,
              "#d8576b"
             ],
             [
              0.6666666666666666,
              "#ed7953"
             ],
             [
              0.7777777777777778,
              "#fb9f3a"
             ],
             [
              0.8888888888888888,
              "#fdca26"
             ],
             [
              1,
              "#f0f921"
             ]
            ],
            "type": "histogram2dcontour"
           }
          ],
          "mesh3d": [
           {
            "colorbar": {
             "outlinewidth": 0,
             "ticks": ""
            },
            "type": "mesh3d"
           }
          ],
          "parcoords": [
           {
            "line": {
             "colorbar": {
              "outlinewidth": 0,
              "ticks": ""
             }
            },
            "type": "parcoords"
           }
          ],
          "pie": [
           {
            "automargin": true,
            "type": "pie"
           }
          ],
          "scatter": [
           {
            "fillpattern": {
             "fillmode": "overlay",
             "size": 10,
             "solidity": 0.2
            },
            "type": "scatter"
           }
          ],
          "scatter3d": [
           {
            "line": {
             "colorbar": {
              "outlinewidth": 0,
              "ticks": ""
             }
            },
            "marker": {
             "colorbar": {
              "outlinewidth": 0,
              "ticks": ""
             }
            },
            "type": "scatter3d"
           }
          ],
          "scattercarpet": [
           {
            "marker": {
             "colorbar": {
              "outlinewidth": 0,
              "ticks": ""
             }
            },
            "type": "scattercarpet"
           }
          ],
          "scattergeo": [
           {
            "marker": {
             "colorbar": {
              "outlinewidth": 0,
              "ticks": ""
             }
            },
            "type": "scattergeo"
           }
          ],
          "scattergl": [
           {
            "marker": {
             "colorbar": {
              "outlinewidth": 0,
              "ticks": ""
             }
            },
            "type": "scattergl"
           }
          ],
          "scattermap": [
           {
            "marker": {
             "colorbar": {
              "outlinewidth": 0,
              "ticks": ""
             }
            },
            "type": "scattermap"
           }
          ],
          "scattermapbox": [
           {
            "marker": {
             "colorbar": {
              "outlinewidth": 0,
              "ticks": ""
             }
            },
            "type": "scattermapbox"
           }
          ],
          "scatterpolar": [
           {
            "marker": {
             "colorbar": {
              "outlinewidth": 0,
              "ticks": ""
             }
            },
            "type": "scatterpolar"
           }
          ],
          "scatterpolargl": [
           {
            "marker": {
             "colorbar": {
              "outlinewidth": 0,
              "ticks": ""
             }
            },
            "type": "scatterpolargl"
           }
          ],
          "scatterternary": [
           {
            "marker": {
             "colorbar": {
              "outlinewidth": 0,
              "ticks": ""
             }
            },
            "type": "scatterternary"
           }
          ],
          "surface": [
           {
            "colorbar": {
             "outlinewidth": 0,
             "ticks": ""
            },
            "colorscale": [
             [
              0,
              "#0d0887"
             ],
             [
              0.1111111111111111,
              "#46039f"
             ],
             [
              0.2222222222222222,
              "#7201a8"
             ],
             [
              0.3333333333333333,
              "#9c179e"
             ],
             [
              0.4444444444444444,
              "#bd3786"
             ],
             [
              0.5555555555555556,
              "#d8576b"
             ],
             [
              0.6666666666666666,
              "#ed7953"
             ],
             [
              0.7777777777777778,
              "#fb9f3a"
             ],
             [
              0.8888888888888888,
              "#fdca26"
             ],
             [
              1,
              "#f0f921"
             ]
            ],
            "type": "surface"
           }
          ],
          "table": [
           {
            "cells": {
             "fill": {
              "color": "#EBF0F8"
             },
             "line": {
              "color": "white"
             }
            },
            "header": {
             "fill": {
              "color": "#C8D4E3"
             },
             "line": {
              "color": "white"
             }
            },
            "type": "table"
           }
          ]
         },
         "layout": {
          "annotationdefaults": {
           "arrowcolor": "#2a3f5f",
           "arrowhead": 0,
           "arrowwidth": 1
          },
          "autotypenumbers": "strict",
          "coloraxis": {
           "colorbar": {
            "outlinewidth": 0,
            "ticks": ""
           }
          },
          "colorscale": {
           "diverging": [
            [
             0,
             "#8e0152"
            ],
            [
             0.1,
             "#c51b7d"
            ],
            [
             0.2,
             "#de77ae"
            ],
            [
             0.3,
             "#f1b6da"
            ],
            [
             0.4,
             "#fde0ef"
            ],
            [
             0.5,
             "#f7f7f7"
            ],
            [
             0.6,
             "#e6f5d0"
            ],
            [
             0.7,
             "#b8e186"
            ],
            [
             0.8,
             "#7fbc41"
            ],
            [
             0.9,
             "#4d9221"
            ],
            [
             1,
             "#276419"
            ]
           ],
           "sequential": [
            [
             0,
             "#0d0887"
            ],
            [
             0.1111111111111111,
             "#46039f"
            ],
            [
             0.2222222222222222,
             "#7201a8"
            ],
            [
             0.3333333333333333,
             "#9c179e"
            ],
            [
             0.4444444444444444,
             "#bd3786"
            ],
            [
             0.5555555555555556,
             "#d8576b"
            ],
            [
             0.6666666666666666,
             "#ed7953"
            ],
            [
             0.7777777777777778,
             "#fb9f3a"
            ],
            [
             0.8888888888888888,
             "#fdca26"
            ],
            [
             1,
             "#f0f921"
            ]
           ],
           "sequentialminus": [
            [
             0,
             "#0d0887"
            ],
            [
             0.1111111111111111,
             "#46039f"
            ],
            [
             0.2222222222222222,
             "#7201a8"
            ],
            [
             0.3333333333333333,
             "#9c179e"
            ],
            [
             0.4444444444444444,
             "#bd3786"
            ],
            [
             0.5555555555555556,
             "#d8576b"
            ],
            [
             0.6666666666666666,
             "#ed7953"
            ],
            [
             0.7777777777777778,
             "#fb9f3a"
            ],
            [
             0.8888888888888888,
             "#fdca26"
            ],
            [
             1,
             "#f0f921"
            ]
           ]
          },
          "colorway": [
           "#636efa",
           "#EF553B",
           "#00cc96",
           "#ab63fa",
           "#FFA15A",
           "#19d3f3",
           "#FF6692",
           "#B6E880",
           "#FF97FF",
           "#FECB52"
          ],
          "font": {
           "color": "#2a3f5f"
          },
          "geo": {
           "bgcolor": "white",
           "lakecolor": "white",
           "landcolor": "#E5ECF6",
           "showlakes": true,
           "showland": true,
           "subunitcolor": "white"
          },
          "hoverlabel": {
           "align": "left"
          },
          "hovermode": "closest",
          "mapbox": {
           "style": "light"
          },
          "paper_bgcolor": "white",
          "plot_bgcolor": "#E5ECF6",
          "polar": {
           "angularaxis": {
            "gridcolor": "white",
            "linecolor": "white",
            "ticks": ""
           },
           "bgcolor": "#E5ECF6",
           "radialaxis": {
            "gridcolor": "white",
            "linecolor": "white",
            "ticks": ""
           }
          },
          "scene": {
           "xaxis": {
            "backgroundcolor": "#E5ECF6",
            "gridcolor": "white",
            "gridwidth": 2,
            "linecolor": "white",
            "showbackground": true,
            "ticks": "",
            "zerolinecolor": "white"
           },
           "yaxis": {
            "backgroundcolor": "#E5ECF6",
            "gridcolor": "white",
            "gridwidth": 2,
            "linecolor": "white",
            "showbackground": true,
            "ticks": "",
            "zerolinecolor": "white"
           },
           "zaxis": {
            "backgroundcolor": "#E5ECF6",
            "gridcolor": "white",
            "gridwidth": 2,
            "linecolor": "white",
            "showbackground": true,
            "ticks": "",
            "zerolinecolor": "white"
           }
          },
          "shapedefaults": {
           "line": {
            "color": "#2a3f5f"
           }
          },
          "ternary": {
           "aaxis": {
            "gridcolor": "white",
            "linecolor": "white",
            "ticks": ""
           },
           "baxis": {
            "gridcolor": "white",
            "linecolor": "white",
            "ticks": ""
           },
           "bgcolor": "#E5ECF6",
           "caxis": {
            "gridcolor": "white",
            "linecolor": "white",
            "ticks": ""
           }
          },
          "title": {
           "x": 0.05
          },
          "xaxis": {
           "automargin": true,
           "gridcolor": "white",
           "linecolor": "white",
           "ticks": "",
           "title": {
            "standoff": 15
           },
           "zerolinecolor": "white",
           "zerolinewidth": 2
          },
          "yaxis": {
           "automargin": true,
           "gridcolor": "white",
           "linecolor": "white",
           "ticks": "",
           "title": {
            "standoff": 15
           },
           "zerolinecolor": "white",
           "zerolinewidth": 2
          }
         }
        },
        "title": {
         "text": "Top 10 Asesores por Monto de Venta"
        },
        "xaxis": {
         "anchor": "y",
         "domain": [
          0,
          1
         ],
         "title": {
          "text": "Monto de Venta"
         }
        },
        "yaxis": {
         "anchor": "x",
         "domain": [
          0,
          1
         ],
         "title": {
          "text": "Asesor"
         }
        }
       }
      }
     },
     "metadata": {},
     "output_type": "display_data"
    }
   ],
   "source": [
    "df_top10_df = df_top10.head(10).reset_index()\n",
    "fig1 = px.bar(\n",
    "    df_top10_df,\n",
    "    x='Monto de Venta',\n",
    "    y='Asesor',\n",
    "    orientation='h',\n",
    "    title='Top 10 Asesores por Monto de Venta',\n",
    "    labels={'Monto de Venta': 'Monto de Venta', 'Asesor': 'Asesor'},\n",
    "    text='Monto de Venta'\n",
    ")\n",
    "fig1.update_traces(texttemplate='%{text:.2s}', textposition='outside')\n",
    "fig1.show()"
   ]
  },
  {
   "cell_type": "code",
   "execution_count": 10,
   "id": "9a433dca",
   "metadata": {},
   "outputs": [
    {
     "data": {
      "application/vnd.plotly.v1+json": {
       "config": {
        "plotlyServerURL": "https://plot.ly"
       },
       "data": [
        {
         "hovertemplate": "¿Capacitado?=%{x}<br>Monto de Venta=%{y}<extra></extra>",
         "legendgroup": "",
         "marker": {
          "color": "#636efa",
          "pattern": {
           "shape": ""
          }
         },
         "name": "",
         "orientation": "v",
         "showlegend": false,
         "textposition": "auto",
         "type": "bar",
         "x": [
          "Desconocido",
          "No",
          "Sí"
         ],
         "xaxis": "x",
         "y": {
          "bdata": "SOF61L6GN0GuR+EavmdfQSlcj9JJOF9B",
          "dtype": "f8"
         },
         "yaxis": "y"
        }
       ],
       "layout": {
        "barmode": "relative",
        "legend": {
         "tracegroupgap": 0
        },
        "template": {
         "data": {
          "bar": [
           {
            "error_x": {
             "color": "#2a3f5f"
            },
            "error_y": {
             "color": "#2a3f5f"
            },
            "marker": {
             "line": {
              "color": "#E5ECF6",
              "width": 0.5
             },
             "pattern": {
              "fillmode": "overlay",
              "size": 10,
              "solidity": 0.2
             }
            },
            "type": "bar"
           }
          ],
          "barpolar": [
           {
            "marker": {
             "line": {
              "color": "#E5ECF6",
              "width": 0.5
             },
             "pattern": {
              "fillmode": "overlay",
              "size": 10,
              "solidity": 0.2
             }
            },
            "type": "barpolar"
           }
          ],
          "carpet": [
           {
            "aaxis": {
             "endlinecolor": "#2a3f5f",
             "gridcolor": "white",
             "linecolor": "white",
             "minorgridcolor": "white",
             "startlinecolor": "#2a3f5f"
            },
            "baxis": {
             "endlinecolor": "#2a3f5f",
             "gridcolor": "white",
             "linecolor": "white",
             "minorgridcolor": "white",
             "startlinecolor": "#2a3f5f"
            },
            "type": "carpet"
           }
          ],
          "choropleth": [
           {
            "colorbar": {
             "outlinewidth": 0,
             "ticks": ""
            },
            "type": "choropleth"
           }
          ],
          "contour": [
           {
            "colorbar": {
             "outlinewidth": 0,
             "ticks": ""
            },
            "colorscale": [
             [
              0,
              "#0d0887"
             ],
             [
              0.1111111111111111,
              "#46039f"
             ],
             [
              0.2222222222222222,
              "#7201a8"
             ],
             [
              0.3333333333333333,
              "#9c179e"
             ],
             [
              0.4444444444444444,
              "#bd3786"
             ],
             [
              0.5555555555555556,
              "#d8576b"
             ],
             [
              0.6666666666666666,
              "#ed7953"
             ],
             [
              0.7777777777777778,
              "#fb9f3a"
             ],
             [
              0.8888888888888888,
              "#fdca26"
             ],
             [
              1,
              "#f0f921"
             ]
            ],
            "type": "contour"
           }
          ],
          "contourcarpet": [
           {
            "colorbar": {
             "outlinewidth": 0,
             "ticks": ""
            },
            "type": "contourcarpet"
           }
          ],
          "heatmap": [
           {
            "colorbar": {
             "outlinewidth": 0,
             "ticks": ""
            },
            "colorscale": [
             [
              0,
              "#0d0887"
             ],
             [
              0.1111111111111111,
              "#46039f"
             ],
             [
              0.2222222222222222,
              "#7201a8"
             ],
             [
              0.3333333333333333,
              "#9c179e"
             ],
             [
              0.4444444444444444,
              "#bd3786"
             ],
             [
              0.5555555555555556,
              "#d8576b"
             ],
             [
              0.6666666666666666,
              "#ed7953"
             ],
             [
              0.7777777777777778,
              "#fb9f3a"
             ],
             [
              0.8888888888888888,
              "#fdca26"
             ],
             [
              1,
              "#f0f921"
             ]
            ],
            "type": "heatmap"
           }
          ],
          "histogram": [
           {
            "marker": {
             "pattern": {
              "fillmode": "overlay",
              "size": 10,
              "solidity": 0.2
             }
            },
            "type": "histogram"
           }
          ],
          "histogram2d": [
           {
            "colorbar": {
             "outlinewidth": 0,
             "ticks": ""
            },
            "colorscale": [
             [
              0,
              "#0d0887"
             ],
             [
              0.1111111111111111,
              "#46039f"
             ],
             [
              0.2222222222222222,
              "#7201a8"
             ],
             [
              0.3333333333333333,
              "#9c179e"
             ],
             [
              0.4444444444444444,
              "#bd3786"
             ],
             [
              0.5555555555555556,
              "#d8576b"
             ],
             [
              0.6666666666666666,
              "#ed7953"
             ],
             [
              0.7777777777777778,
              "#fb9f3a"
             ],
             [
              0.8888888888888888,
              "#fdca26"
             ],
             [
              1,
              "#f0f921"
             ]
            ],
            "type": "histogram2d"
           }
          ],
          "histogram2dcontour": [
           {
            "colorbar": {
             "outlinewidth": 0,
             "ticks": ""
            },
            "colorscale": [
             [
              0,
              "#0d0887"
             ],
             [
              0.1111111111111111,
              "#46039f"
             ],
             [
              0.2222222222222222,
              "#7201a8"
             ],
             [
              0.3333333333333333,
              "#9c179e"
             ],
             [
              0.4444444444444444,
              "#bd3786"
             ],
             [
              0.5555555555555556,
              "#d8576b"
             ],
             [
              0.6666666666666666,
              "#ed7953"
             ],
             [
              0.7777777777777778,
              "#fb9f3a"
             ],
             [
              0.8888888888888888,
              "#fdca26"
             ],
             [
              1,
              "#f0f921"
             ]
            ],
            "type": "histogram2dcontour"
           }
          ],
          "mesh3d": [
           {
            "colorbar": {
             "outlinewidth": 0,
             "ticks": ""
            },
            "type": "mesh3d"
           }
          ],
          "parcoords": [
           {
            "line": {
             "colorbar": {
              "outlinewidth": 0,
              "ticks": ""
             }
            },
            "type": "parcoords"
           }
          ],
          "pie": [
           {
            "automargin": true,
            "type": "pie"
           }
          ],
          "scatter": [
           {
            "fillpattern": {
             "fillmode": "overlay",
             "size": 10,
             "solidity": 0.2
            },
            "type": "scatter"
           }
          ],
          "scatter3d": [
           {
            "line": {
             "colorbar": {
              "outlinewidth": 0,
              "ticks": ""
             }
            },
            "marker": {
             "colorbar": {
              "outlinewidth": 0,
              "ticks": ""
             }
            },
            "type": "scatter3d"
           }
          ],
          "scattercarpet": [
           {
            "marker": {
             "colorbar": {
              "outlinewidth": 0,
              "ticks": ""
             }
            },
            "type": "scattercarpet"
           }
          ],
          "scattergeo": [
           {
            "marker": {
             "colorbar": {
              "outlinewidth": 0,
              "ticks": ""
             }
            },
            "type": "scattergeo"
           }
          ],
          "scattergl": [
           {
            "marker": {
             "colorbar": {
              "outlinewidth": 0,
              "ticks": ""
             }
            },
            "type": "scattergl"
           }
          ],
          "scattermap": [
           {
            "marker": {
             "colorbar": {
              "outlinewidth": 0,
              "ticks": ""
             }
            },
            "type": "scattermap"
           }
          ],
          "scattermapbox": [
           {
            "marker": {
             "colorbar": {
              "outlinewidth": 0,
              "ticks": ""
             }
            },
            "type": "scattermapbox"
           }
          ],
          "scatterpolar": [
           {
            "marker": {
             "colorbar": {
              "outlinewidth": 0,
              "ticks": ""
             }
            },
            "type": "scatterpolar"
           }
          ],
          "scatterpolargl": [
           {
            "marker": {
             "colorbar": {
              "outlinewidth": 0,
              "ticks": ""
             }
            },
            "type": "scatterpolargl"
           }
          ],
          "scatterternary": [
           {
            "marker": {
             "colorbar": {
              "outlinewidth": 0,
              "ticks": ""
             }
            },
            "type": "scatterternary"
           }
          ],
          "surface": [
           {
            "colorbar": {
             "outlinewidth": 0,
             "ticks": ""
            },
            "colorscale": [
             [
              0,
              "#0d0887"
             ],
             [
              0.1111111111111111,
              "#46039f"
             ],
             [
              0.2222222222222222,
              "#7201a8"
             ],
             [
              0.3333333333333333,
              "#9c179e"
             ],
             [
              0.4444444444444444,
              "#bd3786"
             ],
             [
              0.5555555555555556,
              "#d8576b"
             ],
             [
              0.6666666666666666,
              "#ed7953"
             ],
             [
              0.7777777777777778,
              "#fb9f3a"
             ],
             [
              0.8888888888888888,
              "#fdca26"
             ],
             [
              1,
              "#f0f921"
             ]
            ],
            "type": "surface"
           }
          ],
          "table": [
           {
            "cells": {
             "fill": {
              "color": "#EBF0F8"
             },
             "line": {
              "color": "white"
             }
            },
            "header": {
             "fill": {
              "color": "#C8D4E3"
             },
             "line": {
              "color": "white"
             }
            },
            "type": "table"
           }
          ]
         },
         "layout": {
          "annotationdefaults": {
           "arrowcolor": "#2a3f5f",
           "arrowhead": 0,
           "arrowwidth": 1
          },
          "autotypenumbers": "strict",
          "coloraxis": {
           "colorbar": {
            "outlinewidth": 0,
            "ticks": ""
           }
          },
          "colorscale": {
           "diverging": [
            [
             0,
             "#8e0152"
            ],
            [
             0.1,
             "#c51b7d"
            ],
            [
             0.2,
             "#de77ae"
            ],
            [
             0.3,
             "#f1b6da"
            ],
            [
             0.4,
             "#fde0ef"
            ],
            [
             0.5,
             "#f7f7f7"
            ],
            [
             0.6,
             "#e6f5d0"
            ],
            [
             0.7,
             "#b8e186"
            ],
            [
             0.8,
             "#7fbc41"
            ],
            [
             0.9,
             "#4d9221"
            ],
            [
             1,
             "#276419"
            ]
           ],
           "sequential": [
            [
             0,
             "#0d0887"
            ],
            [
             0.1111111111111111,
             "#46039f"
            ],
            [
             0.2222222222222222,
             "#7201a8"
            ],
            [
             0.3333333333333333,
             "#9c179e"
            ],
            [
             0.4444444444444444,
             "#bd3786"
            ],
            [
             0.5555555555555556,
             "#d8576b"
            ],
            [
             0.6666666666666666,
             "#ed7953"
            ],
            [
             0.7777777777777778,
             "#fb9f3a"
            ],
            [
             0.8888888888888888,
             "#fdca26"
            ],
            [
             1,
             "#f0f921"
            ]
           ],
           "sequentialminus": [
            [
             0,
             "#0d0887"
            ],
            [
             0.1111111111111111,
             "#46039f"
            ],
            [
             0.2222222222222222,
             "#7201a8"
            ],
            [
             0.3333333333333333,
             "#9c179e"
            ],
            [
             0.4444444444444444,
             "#bd3786"
            ],
            [
             0.5555555555555556,
             "#d8576b"
            ],
            [
             0.6666666666666666,
             "#ed7953"
            ],
            [
             0.7777777777777778,
             "#fb9f3a"
            ],
            [
             0.8888888888888888,
             "#fdca26"
            ],
            [
             1,
             "#f0f921"
            ]
           ]
          },
          "colorway": [
           "#636efa",
           "#EF553B",
           "#00cc96",
           "#ab63fa",
           "#FFA15A",
           "#19d3f3",
           "#FF6692",
           "#B6E880",
           "#FF97FF",
           "#FECB52"
          ],
          "font": {
           "color": "#2a3f5f"
          },
          "geo": {
           "bgcolor": "white",
           "lakecolor": "white",
           "landcolor": "#E5ECF6",
           "showlakes": true,
           "showland": true,
           "subunitcolor": "white"
          },
          "hoverlabel": {
           "align": "left"
          },
          "hovermode": "closest",
          "mapbox": {
           "style": "light"
          },
          "paper_bgcolor": "white",
          "plot_bgcolor": "#E5ECF6",
          "polar": {
           "angularaxis": {
            "gridcolor": "white",
            "linecolor": "white",
            "ticks": ""
           },
           "bgcolor": "#E5ECF6",
           "radialaxis": {
            "gridcolor": "white",
            "linecolor": "white",
            "ticks": ""
           }
          },
          "scene": {
           "xaxis": {
            "backgroundcolor": "#E5ECF6",
            "gridcolor": "white",
            "gridwidth": 2,
            "linecolor": "white",
            "showbackground": true,
            "ticks": "",
            "zerolinecolor": "white"
           },
           "yaxis": {
            "backgroundcolor": "#E5ECF6",
            "gridcolor": "white",
            "gridwidth": 2,
            "linecolor": "white",
            "showbackground": true,
            "ticks": "",
            "zerolinecolor": "white"
           },
           "zaxis": {
            "backgroundcolor": "#E5ECF6",
            "gridcolor": "white",
            "gridwidth": 2,
            "linecolor": "white",
            "showbackground": true,
            "ticks": "",
            "zerolinecolor": "white"
           }
          },
          "shapedefaults": {
           "line": {
            "color": "#2a3f5f"
           }
          },
          "ternary": {
           "aaxis": {
            "gridcolor": "white",
            "linecolor": "white",
            "ticks": ""
           },
           "baxis": {
            "gridcolor": "white",
            "linecolor": "white",
            "ticks": ""
           },
           "bgcolor": "#E5ECF6",
           "caxis": {
            "gridcolor": "white",
            "linecolor": "white",
            "ticks": ""
           }
          },
          "title": {
           "x": 0.05
          },
          "xaxis": {
           "automargin": true,
           "gridcolor": "white",
           "linecolor": "white",
           "ticks": "",
           "title": {
            "standoff": 15
           },
           "zerolinecolor": "white",
           "zerolinewidth": 2
          },
          "yaxis": {
           "automargin": true,
           "gridcolor": "white",
           "linecolor": "white",
           "ticks": "",
           "title": {
            "standoff": 15
           },
           "zerolinecolor": "white",
           "zerolinewidth": 2
          }
         }
        },
        "title": {
         "text": "Monto Total de Venta según Capacitación"
        },
        "xaxis": {
         "anchor": "y",
         "domain": [
          0,
          1
         ],
         "title": {
          "text": "¿Capacitado?"
         }
        },
        "yaxis": {
         "anchor": "x",
         "domain": [
          0,
          1
         ],
         "title": {
          "text": "Monto de Venta"
         }
        }
       }
      }
     },
     "metadata": {},
     "output_type": "display_data"
    }
   ],
   "source": [
    "df_capacitado = df.groupby('¿Capacitado?')['Monto de Venta'].sum().reset_index()\n",
    "\n",
    "fig_bar = px.bar(df_capacitado,\n",
    "                 x='¿Capacitado?',\n",
    "                 y='Monto de Venta',\n",
    "                 title='Monto Total de Venta según Capacitación',\n",
    "                 labels={'¿Capacitado?': '¿Capacitado?', 'Monto de Venta': 'Monto de Venta'})\n",
    "fig_bar.show()\n"
   ]
  },
  {
   "cell_type": "code",
   "execution_count": 11,
   "id": "497d0f00",
   "metadata": {},
   "outputs": [
    {
     "data": {
      "application/vnd.plotly.v1+json": {
       "config": {
        "plotlyServerURL": "https://plot.ly"
       },
       "data": [
        {
         "hovertemplate": "<b>%{hovertext}</b><br><br>¿Capacitado?=No<br>Antigüedad (meses)=%{x}<br>% Cumplimiento Objetivo=%{y}<br>Monto de Venta=%{marker.size}<extra></extra>",
         "hovertext": [
          "A34",
          "A19",
          "A22",
          "A14",
          "A17",
          "A39",
          "A3",
          "A21",
          "A13",
          "A19",
          "A20",
          "A36",
          "A42",
          "A48",
          "A45",
          "A37",
          "A30",
          "A40",
          "A10",
          "A4",
          "A38",
          "A50",
          "A16",
          "A45",
          "A38",
          "A46",
          "A39",
          "A7",
          "A40",
          "A40",
          "A11",
          "A3",
          "A10",
          "A34",
          "A15",
          "A34",
          "A38",
          "A35",
          "A50",
          "A38",
          "A24",
          "A37",
          "A31",
          "A13",
          "A24",
          "A22",
          "A2",
          "A13",
          "A25",
          "A8",
          "A1",
          "A13",
          "A44",
          "A2",
          "A49",
          "A44",
          "A29",
          "A1",
          "A30",
          "A4",
          "A7",
          "A40",
          "A41",
          "A18",
          "A46",
          "A17",
          "A19",
          "A41",
          "A6",
          "A23",
          "A34",
          "A34",
          "A27",
          "A20",
          "A4",
          "A16",
          "A27",
          "A32",
          "A2",
          "A22",
          "A34",
          "A39",
          "A32",
          "A14",
          "A26",
          "A26",
          "A16",
          "A44",
          "A34",
          "A16",
          "A25",
          "A14",
          "A26",
          "A23",
          "A47",
          "A7",
          "A29",
          "A27",
          "A2",
          "A17",
          "A48",
          "A28",
          "A14",
          "A17",
          "A43",
          "A47",
          "A35",
          "A32",
          "A32",
          "A28",
          "A27",
          "A35",
          "A16",
          "A3",
          "A45",
          "A35",
          "A17",
          "A32",
          "A14",
          "A42",
          "A35",
          "A28",
          "A13",
          "A34",
          "A46",
          "A39",
          "A10",
          "A19",
          "A3",
          "A11",
          "A8",
          "A1",
          "A49",
          "A49",
          "A18",
          "A2",
          "A44",
          "A8",
          "A43",
          "A18",
          "A41",
          "A49",
          "A19",
          "A44",
          "A7",
          "A47",
          "A10",
          "A33",
          "A2",
          "A41",
          "A23",
          "A31",
          "A34",
          "A32",
          "A21",
          "A32",
          "A33",
          "A15",
          "A20",
          "A30",
          "A19",
          "A23",
          "A44",
          "A12",
          "A13",
          "A14",
          "A19",
          "A33",
          "A46",
          "A16",
          "A7",
          "A5",
          "A33",
          "A4",
          "A38",
          "A16",
          "A44",
          "A48",
          "A34",
          "A14",
          "A50",
          "A43",
          "A1",
          "A38",
          "A16",
          "A38",
          "A2",
          "A6",
          "A38",
          "A40",
          "A26",
          "A19",
          "A20",
          "A28",
          "A39",
          "A48",
          "A48",
          "A12",
          "A49",
          "A19",
          "A7",
          "A16",
          "A17",
          "A6",
          "A2",
          "A2",
          "A17",
          "A37",
          "A27",
          "A19",
          "A18",
          "A1",
          "A44",
          "A14",
          "A10",
          "A8",
          "A34",
          "A4",
          "A28",
          "A11",
          "A28",
          "A40",
          "A43",
          "A12",
          "A10",
          "A38",
          "A9",
          "A4",
          "A18",
          "A7",
          "A39",
          "A29",
          "A41",
          "A33",
          "A34",
          "A7",
          "A37",
          "A6",
          "A15",
          "A32",
          "A31",
          "A28",
          "A26",
          "A38",
          "A13",
          "A42",
          "A4",
          "A1",
          "A37",
          "A21",
          "A49",
          "A15",
          "A17",
          "A34",
          "A6",
          "A23",
          "A36",
          "A24",
          "A40",
          "A8",
          "A15",
          "A11",
          "A9",
          "A36",
          "A25",
          "A24",
          "A41",
          "A38",
          "A18",
          "A43",
          "A32",
          "A2",
          "A43",
          "A14",
          "A15",
          "A32",
          "A28",
          "A25",
          "A6",
          "A20",
          "A4",
          "A35",
          "A13",
          "A31",
          "A14",
          "A34",
          "A26",
          "A45",
          "A8",
          "A5",
          "A22",
          "A18",
          "A7",
          "A22",
          "A10",
          "A26",
          "A24",
          "A47",
          "A21",
          "A16",
          "A4",
          "A35",
          "A14",
          "A7",
          "A22",
          "A8",
          "A14",
          "A39",
          "A20",
          "A22",
          "A28",
          "A50",
          "A32",
          "A41",
          "A46",
          "A13",
          "A38",
          "A46",
          "A1",
          "A23",
          "A2",
          "A25",
          "A25",
          "A23",
          "A26",
          "A26",
          "A42",
          "A28",
          "A9",
          "A46",
          "A1",
          "A5",
          "A9",
          "A3",
          "A50",
          "A24",
          "A50",
          "A28",
          "A9",
          "A35",
          "A24",
          "A33",
          "A31",
          "A10",
          "A15",
          "A35",
          "A50",
          "A46",
          "A7",
          "A15",
          "A32",
          "A44",
          "A18",
          "A37",
          "A35",
          "A10",
          "A38",
          "A38",
          "A24",
          "A38",
          "A19",
          "A14",
          "A28",
          "A39",
          "A45",
          "A32",
          "A43",
          "A29",
          "A38",
          "A18",
          "A49",
          "A49",
          "A32",
          "A10",
          "A45",
          "A40",
          "A1",
          "A10",
          "A48",
          "A43",
          "A5",
          "A33",
          "A9",
          "A33",
          "A36",
          "A45",
          "A35",
          "A15",
          "A37",
          "A44",
          "A30",
          "A13",
          "A26",
          "A5",
          "A26",
          "A9",
          "A44",
          "A2",
          "A37",
          "A28",
          "A30",
          "A31",
          "A16",
          "A48",
          "A11",
          "A29",
          "A9",
          "A2",
          "A48",
          "A3",
          "A27",
          "A37",
          "A46",
          "A43",
          "A23",
          "A17",
          "A48",
          "A27",
          "A46",
          "A37",
          "A8",
          "A25",
          "A39",
          "A46",
          "A40",
          "A47",
          "A25",
          "A34",
          "A25",
          "A11",
          "A26",
          "A37",
          "A17",
          "A26",
          "A14",
          "A3",
          "A18",
          "A20",
          "A45",
          "A43",
          "A6",
          "A33",
          "A2",
          "A28",
          "A34",
          "A38",
          "A41",
          "A26",
          "A37",
          "A2",
          "A24",
          "A35",
          "A19",
          "A50",
          "A30",
          "A18",
          "A26",
          "A44",
          "A45",
          "A48",
          "A45",
          "A4",
          "A25",
          "A25",
          "A16",
          "A42",
          "A1",
          "A15",
          "A44",
          "A16",
          "A48",
          "A9",
          "A25",
          "A31",
          "A15",
          "A43",
          "A50",
          "A28",
          "A33",
          "A50",
          "A24",
          "A49",
          "A24",
          "A44",
          "A40",
          "A47",
          "A8",
          "A15",
          "A50",
          "A22",
          "A10",
          "A28",
          "A29",
          "A33",
          "A10",
          "A45",
          "A25",
          "A4",
          "A38",
          "A25",
          "A29",
          "A45",
          "A6",
          "A18",
          "A18",
          "A49",
          "A4",
          "A39",
          "A35",
          "A7",
          "A30",
          "A30",
          "A25",
          "A6",
          "A24",
          "A27",
          "A9",
          "A48",
          "A45",
          "A24",
          "A49",
          "A19",
          "A36",
          "A48",
          "A9",
          "A46",
          "A5",
          "A40",
          "A20",
          "A47",
          "A28",
          "A3",
          "A28",
          "A17"
         ],
         "legendgroup": "No",
         "marker": {
          "color": "#636efa",
          "size": {
           "bdata": "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",
           "dtype": "f8"
          },
          "sizemode": "area",
          "sizeref": 36.08821111111111,
          "symbol": "circle"
         },
         "mode": "markers",
         "name": "No",
         "showlegend": true,
         "type": "scattergl",
         "x": {
          "bdata": "Fwc5OhYlLS0dBRw1ETcXLTQxBzMzOAouOi8aHiYSAQMxESkMHRkzJDUZCyYRCAoHBgEBJxUeMBY2Nxk1DzcdDAEvAggWGhUfKw4XMDMPIyQ0NhwnLAQKBh42LjErCjUgKioPERIzEwwFGDAmLCIgBToqLh4lFwoXEh8VAhcIHhI1ITYsITMcOCI5GAUXEzsyOyUpMjcLIRMCEyAKKQspCQgYKRsFIxUQOR8aIxUnIjkPBjgxHAEkCBkpDC8oESIjNwEyDyonBTQMEy8MMzAxBRkdJiEXCxgHMi8yJQw6BBcfGhwvJTIUAiYgJDIbBTYGGiQMGTsPMicWEhAkFBoCMzgiNxQZNS8sJww2EDceMyo1Jw41ECEvOx8tHzcEKQobECQtNRQtOzYgBh4NGB8UFTMPGjYLKQsbExccBQ8mDggTKTgTNTMlCSAzIAgOOAMYKxISMDAQNzghOCYkKhERFiseFgoxKAE0CRQjJAkFJhMrFCQrHhkdJxUIMRUSKBo5NzU0EiMvNCIzICsWKyoRHzUmBAIMIy4jMA8PLQYWIDsWGyY5CSItHDkQCyoIKyg7HC4GLw4HCg8fMw8EMCk5AwMaERgYFyAXIhUjKxgxLioIKBkvNAURNQ46CCgBHSUdBTURNisyBR43GgQVOxMiLTUHNis0AygRDjsmNSgXJAMkBTQxCjYgLiw6FgYEEy0sNBwPEwkP",
          "dtype": "i1"
         },
         "xaxis": "x",
         "y": {
          "bdata": "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",
          "dtype": "f8"
         },
         "yaxis": "y"
        },
        {
         "hovertemplate": "<b>%{hovertext}</b><br><br>¿Capacitado?=Sí<br>Antigüedad (meses)=%{x}<br>% Cumplimiento Objetivo=%{y}<br>Monto de Venta=%{marker.size}<extra></extra>",
         "hovertext": [
          "A6",
          "A33",
          "A15",
          "A7",
          "A16",
          "A6",
          "A9",
          "A48",
          "A38",
          "A21",
          "A6",
          "A33",
          "A44",
          "A29",
          "A33",
          "A10",
          "A42",
          "A35",
          "A29",
          "A28",
          "A16",
          "A8",
          "A10",
          "A28",
          "A28",
          "A3",
          "A34",
          "A28",
          "A24",
          "A9",
          "A24",
          "A47",
          "A48",
          "A21",
          "A42",
          "A38",
          "A19",
          "A42",
          "A12",
          "A4",
          "A13",
          "A22",
          "A35",
          "A33",
          "A49",
          "A46",
          "A46",
          "A39",
          "A25",
          "A4",
          "A32",
          "A46",
          "A31",
          "A8",
          "A18",
          "A14",
          "A16",
          "A49",
          "A16",
          "A7",
          "A10",
          "A47",
          "A41",
          "A47",
          "A8",
          "A50",
          "A12",
          "A39",
          "A21",
          "A44",
          "A12",
          "A40",
          "A3",
          "A30",
          "A46",
          "A33",
          "A50",
          "A35",
          "A16",
          "A15",
          "A15",
          "A40",
          "A16",
          "A25",
          "A4",
          "A31",
          "A37",
          "A23",
          "A42",
          "A13",
          "A36",
          "A45",
          "A27",
          "A44",
          "A46",
          "A37",
          "A28",
          "A32",
          "A21",
          "A36",
          "A14",
          "A33",
          "A25",
          "A44",
          "A15",
          "A32",
          "A38",
          "A29",
          "A28",
          "A38",
          "A20",
          "A24",
          "A8",
          "A24",
          "A12",
          "A23",
          "A32",
          "A2",
          "A34",
          "A47",
          "A12",
          "A50",
          "A45",
          "A4",
          "A19",
          "A18",
          "A47",
          "A15",
          "A6",
          "A35",
          "A2",
          "A6",
          "A5",
          "A20",
          "A32",
          "A49",
          "A44",
          "A8",
          "A39",
          "A45",
          "A41",
          "A26",
          "A18",
          "A15",
          "A21",
          "A39",
          "A45",
          "A38",
          "A31",
          "A23",
          "A4",
          "A27",
          "A5",
          "A11",
          "A23",
          "A22",
          "A37",
          "A46",
          "A30",
          "A38",
          "A29",
          "A29",
          "A9",
          "A3",
          "A27",
          "A26",
          "A42",
          "A7",
          "A47",
          "A43",
          "A29",
          "A5",
          "A44",
          "A30",
          "A9",
          "A27",
          "A37",
          "A18",
          "A43",
          "A34",
          "A15",
          "A27",
          "A16",
          "A44",
          "A4",
          "A18",
          "A2",
          "A42",
          "A40",
          "A28",
          "A17",
          "A17",
          "A42",
          "A14",
          "A49",
          "A27",
          "A15",
          "A21",
          "A21",
          "A31",
          "A34",
          "A11",
          "A24",
          "A20",
          "A26",
          "A41",
          "A6",
          "A22",
          "A9",
          "A14",
          "A37",
          "A10",
          "A28",
          "A12",
          "A15",
          "A44",
          "A42",
          "A14",
          "A35",
          "A6",
          "A42",
          "A44",
          "A18",
          "A49",
          "A3",
          "A36",
          "A43",
          "A5",
          "A31",
          "A19",
          "A27",
          "A44",
          "A40",
          "A10",
          "A20",
          "A10",
          "A26",
          "A22",
          "A5",
          "A50",
          "A25",
          "A31",
          "A50",
          "A1",
          "A34",
          "A22",
          "A23",
          "A22",
          "A37",
          "A3",
          "A41",
          "A33",
          "A23",
          "A10",
          "A33",
          "A46",
          "A43",
          "A26",
          "A17",
          "A33",
          "A23",
          "A21",
          "A10",
          "A45",
          "A31",
          "A12",
          "A12",
          "A39",
          "A19",
          "A32",
          "A27",
          "A31",
          "A10",
          "A3",
          "A32",
          "A19",
          "A39",
          "A2",
          "A38",
          "A6",
          "A26",
          "A42",
          "A43",
          "A16",
          "A20",
          "A19",
          "A21",
          "A42",
          "A19",
          "A47",
          "A35",
          "A17",
          "A37",
          "A9",
          "A42",
          "A36",
          "A7",
          "A34",
          "A30",
          "A18",
          "A37",
          "A45",
          "A24",
          "A50",
          "A50",
          "A32",
          "A33",
          "A44",
          "A50",
          "A46",
          "A28",
          "A23",
          "A35",
          "A40",
          "A20",
          "A50",
          "A13",
          "A5",
          "A25",
          "A16",
          "A21",
          "A39",
          "A19",
          "A31",
          "A35",
          "A10",
          "A5",
          "A39",
          "A29",
          "A28",
          "A43",
          "A36",
          "A34",
          "A17",
          "A10",
          "A16",
          "A19",
          "A45",
          "A47",
          "A24",
          "A7",
          "A24",
          "A50",
          "A25",
          "A34",
          "A47",
          "A20",
          "A46",
          "A31",
          "A7",
          "A18",
          "A28",
          "A39",
          "A47",
          "A28",
          "A28",
          "A35",
          "A23",
          "A8",
          "A35",
          "A21",
          "A32",
          "A23",
          "A17",
          "A6",
          "A35",
          "A19",
          "A29",
          "A5",
          "A50",
          "A41",
          "A9",
          "A32",
          "A6",
          "A29",
          "A15",
          "A30",
          "A22",
          "A38",
          "A8",
          "A45",
          "A42",
          "A11",
          "A50",
          "A30",
          "A42",
          "A41",
          "A29",
          "A13",
          "A42",
          "A29",
          "A12",
          "A3",
          "A7",
          "A42",
          "A38",
          "A50",
          "A32",
          "A14",
          "A7",
          "A20",
          "A29",
          "A25",
          "A20",
          "A37",
          "A4",
          "A28",
          "A31",
          "A2",
          "A30",
          "A17",
          "A5",
          "A41",
          "A45",
          "A32",
          "A41",
          "A35",
          "A28",
          "A8",
          "A7",
          "A23",
          "A44",
          "A50",
          "A40",
          "A35",
          "A15",
          "A9",
          "A21",
          "A28",
          "A45",
          "A24",
          "A29",
          "A31",
          "A24",
          "A36",
          "A48",
          "A18",
          "A48",
          "A40",
          "A44",
          "A30",
          "A27",
          "A21",
          "A31",
          "A17",
          "A12",
          "A26",
          "A50",
          "A18",
          "A35",
          "A2",
          "A34",
          "A12",
          "A20",
          "A5",
          "A43",
          "A6",
          "A50",
          "A23",
          "A9",
          "A26",
          "A12",
          "A43",
          "A40",
          "A30",
          "A12",
          "A9",
          "A20",
          "A2",
          "A45",
          "A4",
          "A48",
          "A31",
          "A9",
          "A35",
          "A15",
          "A22",
          "A38",
          "A3",
          "A13",
          "A29",
          "A29",
          "A20",
          "A37",
          "A10",
          "A4",
          "A13",
          "A19",
          "A15",
          "A34",
          "A2",
          "A39",
          "A8",
          "A26",
          "A47",
          "A18",
          "A48",
          "A15",
          "A16",
          "A49",
          "A10",
          "A47",
          "A46",
          "A7",
          "A2",
          "A50",
          "A34",
          "A19",
          "A33",
          "A45",
          "A40",
          "A30",
          "A7",
          "A23",
          "A31",
          "A46",
          "A34",
          "A33",
          "A4",
          "A9",
          "A33",
          "A30",
          "A50",
          "A16",
          "A44",
          "A6",
          "A23",
          "A3",
          "A5",
          "A11",
          "A22",
          "A8",
          "A48",
          "A38",
          "A30",
          "A22",
          "A24",
          "A34",
          "A50",
          "A17"
         ],
         "legendgroup": "Sí",
         "marker": {
          "color": "#EF553B",
          "size": {
           "bdata": "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",
           "dtype": "f8"
          },
          "sizemode": "area",
          "sizeref": 36.08821111111111,
          "symbol": "circle"
         },
         "mode": "markers",
         "name": "Sí",
         "showlegend": true,
         "type": "scattergl",
         "x": {
          "bdata": "BQYMBAgfJRorCCghKAkCHx46AwkyOQ8ZBjgwCCgZNh0ELgIkDhApOAEnATMoOS0hLgQXLAwRCiM0NAEWGgk0BjghBwkLAgM4GBseDy87GxQpBDUIFgcWEA8FAwUPGQgWCCAEFx00LxIBJycTHw0BITghIBwMNjkqIgcfCBoUDyIpLSgVBDEwBiEQLyoCGAEcFDABGjMrMQwHBQ4wETsyJBMzBRMrDCQSKyIwOR0tGDsKJRgVFDUKGS8kMA8sKCgGDREQKQEMNzgkDxYsMiEPLh07OB8WIwc2EwcUFx4SKRM2BAEPNggPAhADODcCIzkUIjY4FBkOKzACKyYtGDMeOTsXFTc3BDYOEwUkEh4VLx43BS0NLRQ3BRolHQUZDTcICSUeJjUBAwMONB46NjEOOTsxCCAdCy0NGxowNDYDBQ0dCDMqHxo6OSYzAwQEKDMhFDQbAxgIGR02FScYLDYaCTgkKhYBCSUgDSwlCh8YKQkqKgQgDg0YMi0gLDghHwwzGR8DJwgdFAYdOSU4LggVNToHLxEEDywWJAkPFAg6IRIjMgMbHSoROx0xGikFHzUyCgILIxMCMwI4BRsHIToRBgQfISMkNB0iJDMgNBgTDDQBBxEiKwc7Ax0WJh0yNioXFTYvFwEPETMOMgY2BQ0zAQ0bBxkhLSU6ODYXJjs2Gy0yHyU3Lg8GOxcRFCkPLC40Ohc2HwMDEhszCjEE",
          "dtype": "i1"
         },
         "xaxis": "x",
         "y": {
          "bdata": "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",
          "dtype": "f8"
         },
         "yaxis": "y"
        },
        {
         "hovertemplate": "<b>%{hovertext}</b><br><br>¿Capacitado?=Desconocido<br>Antigüedad (meses)=%{x}<br>% Cumplimiento Objetivo=%{y}<br>Monto de Venta=%{marker.size}<extra></extra>",
         "hovertext": [
          "A19",
          "A7",
          "A23",
          "A23",
          "A15",
          "A46",
          "A32",
          "A14",
          "A33",
          "A12",
          "A35",
          "A8",
          "A27",
          "A20",
          "A27",
          "A42",
          "A1",
          "A8",
          "A32",
          "A10",
          "A37",
          "A4",
          "A34",
          "A34",
          "A24",
          "A15",
          "A24",
          "A42",
          "A30",
          "A43",
          "A38",
          "A10",
          "A8",
          "A20",
          "A29",
          "A4",
          "A7",
          "A7",
          "A35",
          "A39",
          "A14",
          "A15",
          "A12",
          "A40",
          "A46",
          "A5",
          "A16",
          "A2",
          "A24",
          "A24",
          "A39",
          "A20",
          "A12",
          "A31",
          "A13",
          "A27",
          "A28",
          "A15",
          "A5",
          "A2",
          "A27",
          "A20",
          "A25",
          "A37",
          "A2",
          "A4",
          "A25",
          "A16",
          "A23",
          "A16",
          "A31",
          "A23",
          "A12",
          "A34",
          "A20",
          "A25",
          "A37",
          "A40",
          "A45",
          "A31",
          "A13",
          "A24",
          "A37",
          "A19",
          "A38",
          "A17",
          "A45",
          "A26",
          "A47",
          "A15",
          "A22",
          "A15",
          "A14",
          "A41",
          "A47",
          "A20",
          "A25",
          "A10",
          "A44",
          "A10"
         ],
         "legendgroup": "Desconocido",
         "marker": {
          "color": "#00cc96",
          "size": {
           "bdata": "FK5H4crV00CamZmZ2eXEQArXo3ANXtFA16NwPWrRzEDNzMzMTIjCQK5H4XrU/rpAH4XrUdiJwkAUrkfhOpLKQHsUrkehqtNA9ihcj5KR0UDNzMzMbHvZQAAAAABgX8NAAAAAACBTz0Bcj8L1CBrPQBSuR+E6Q81AuB6F6zFIykAUrkfhGpvDQFK4HoXb39VA4XoUrkfoxECuR+F6hNDQQMP1KFxvFtRAexSuR6EZz0DNzMzMjDHKQMP1KFwvXcdAPQrXo/Cq2UBxPQrX4yPOQK5H4XoU6shACtejcF0ly0CF61G4nivDQPYoXI+iLsZArkfhenSP0kCkcD0Kl/TYQNejcD1KKsdAPQrXoxBozEA9Ctej8KPAQLgehethWdJA9ihcj+LF1UAK16Nw7VvQQLgehetRGtBA9ihcj+L8y0ApXI/C9WvTQPYoXI8S3NRAhetRuJ6lxkAzMzMzE9TSQPYoXI/iocJAmpmZmWmn0EDNzMzM3FnQQOxRuB4l2MZAzczMzNzW0EApXI/CFXjPQOxRuB41cNBA9ihcj+LKyUBxPQrXQ1vQQK5H4Xok2NNAhetRuH4+yUCkcD0KBwHWQI/C9SgcadFAuB6F6yFC0kBxPQrXw03LQFyPwvUIWM1AhetRuF6Uz0A9CtejENTCQM3MzMx8gNZAFK5H4fpnx0C4HoXrsUnFQIXrUbgeEqJAzczMzNyB0UA9CtejAJLTQNejcD0qTc9AXI/C9QhgxkDhehSuRyidQK5H4XpUt81AMzMzM+Ox0kAAAAAAMEXWQIXrUbhumdZAUrgehZsQ1kAK16NwncfEQBSuR+G6ZsFAPQrXo+DW0UDXo3A9CifFQLgehesxQ8FAhetRuG700UAAAAAAwObKQK5H4XrUSMVA9ihcj+J7zUDXo3A9yizLQK5H4XrUcMhAAAAAAIAw0kDNzMzMDPXRQD0K16MggtJAKVyPwiWz0EBxPQrXwxXOQClcj8IV9spAw/UoXH/G0UA9CtejkD/SQJqZmZmZCshAH4XrUWg81UAUrkfhakzQQClcj8J1FMZA9ihcj8Lyv0A=",
           "dtype": "f8"
          },
          "sizemode": "area",
          "sizeref": 36.08821111111111,
          "symbol": "circle"
         },
         "mode": "markers",
         "name": "Desconocido",
         "showlegend": true,
         "type": "scattergl",
         "x": {
          "bdata": "MTENMxEQGQQdAyAeCjEYOCM6GhsXBwkmHjQxEiECOxQDLwEdHyk7HgUyBS8yLCkeFSgPNhQqIhwHCQ42CCoCLS44IgYuMxwqMxMKNiwMGSkPBi4uBwEPNxUUMQYhOh0RMDItDg==",
          "dtype": "i1"
         },
         "xaxis": "x",
         "y": {
          "bdata": "4XoUrkcRW0BSuB6F69FbQHsUrkfhOlVAzczMzMycVEBmZmZmZjZZQBSuR+F6hFBApHA9CteTUEA9CtejcL1YQM3MzMzMPFJAUrgehevxWECuR+F6FC5WQHsUrkfhilBAFK5H4XokVkCkcD0K18NTQNejcD0KJ1JArkfhehQOS0B7FK5H4bpcQPYoXI/CpVBA9ihcj8LFW0DNzMzMzOxXQB+F61G4/lpAhetRuB7lV0Bcj8L1KMxTQAAAAAAAYFVAmpmZmZkpWEB7FK5H4SpZQKRwPQrXI1BAH4XrUbiuUUCuR+F6FH5cQHsUrkfh6lZA4XoUrkfxVECamZmZmVlTQArXo3A9ylZAUrgehevRW0DXo3A9CudWQFyPwvUobFpAUrgeheuBXECkcD0K10NaQM3MzMzMXFVAzczMzMycVkDNzMzMzKxQQM3MzMzMvFtAw/UoXI8iXUDhehSuR0FWQD0K16NwLVtASOF6FK63VkApXI/C9WhKQMP1KFyPoldApHA9CtdzWUAfhetRuF5SQKRwPQrXI1VAexSuR+FqVkCkcD0K1yNOQBSuR+F6VF5ASOF6FK4HV0AK16NwPapbQAAAAAAAoFlAMzMzMzPTXEAAAAAAADBbQOxRuB6Fi1dAFK5H4XrUVkC4HoXrUShXQIXrUbgepVFASOF6FK7nV0B7FK5H4UpXQEjhehSuh1JA4XoUrkcRUEDhehSuR+FbQLgehetRyF5AKVyPwvUIVkApXI/C9QhaQKRwPQrXo1VAMzMzMzMTVUAAAAAAAMBUQJqZmZmZ2VdAFK5H4XrUUECamZmZmXlSQNejcD0Kl1hAexSuR+EqVkAUrkfhenRUQPYoXI/CtVhA4XoUrkehTUDhehSuRxFVQI/C9Shcv1RAZmZmZmYGTEBI4XoUrsdQQGZmZmZmdlZAj8L1KFz/UkCF61G4HsVNQOxRuB6Fi1ZA9ihcj8I1UkDNzMzMzGxXQD0K16Nw3VJAcT0K16PgVkDD9Shcj1JXQClcj8L12FhAw/UoXI+yXEDNzMzMzGxWQHE9CtejAFdAKVyPwvWITUA=",
          "dtype": "f8"
         },
         "yaxis": "y"
        }
       ],
       "layout": {
        "legend": {
         "itemsizing": "constant",
         "title": {
          "text": "¿Capacitado?"
         },
         "tracegroupgap": 0
        },
        "template": {
         "data": {
          "bar": [
           {
            "error_x": {
             "color": "#2a3f5f"
            },
            "error_y": {
             "color": "#2a3f5f"
            },
            "marker": {
             "line": {
              "color": "#E5ECF6",
              "width": 0.5
             },
             "pattern": {
              "fillmode": "overlay",
              "size": 10,
              "solidity": 0.2
             }
            },
            "type": "bar"
           }
          ],
          "barpolar": [
           {
            "marker": {
             "line": {
              "color": "#E5ECF6",
              "width": 0.5
             },
             "pattern": {
              "fillmode": "overlay",
              "size": 10,
              "solidity": 0.2
             }
            },
            "type": "barpolar"
           }
          ],
          "carpet": [
           {
            "aaxis": {
             "endlinecolor": "#2a3f5f",
             "gridcolor": "white",
             "linecolor": "white",
             "minorgridcolor": "white",
             "startlinecolor": "#2a3f5f"
            },
            "baxis": {
             "endlinecolor": "#2a3f5f",
             "gridcolor": "white",
             "linecolor": "white",
             "minorgridcolor": "white",
             "startlinecolor": "#2a3f5f"
            },
            "type": "carpet"
           }
          ],
          "choropleth": [
           {
            "colorbar": {
             "outlinewidth": 0,
             "ticks": ""
            },
            "type": "choropleth"
           }
          ],
          "contour": [
           {
            "colorbar": {
             "outlinewidth": 0,
             "ticks": ""
            },
            "colorscale": [
             [
              0,
              "#0d0887"
             ],
             [
              0.1111111111111111,
              "#46039f"
             ],
             [
              0.2222222222222222,
              "#7201a8"
             ],
             [
              0.3333333333333333,
              "#9c179e"
             ],
             [
              0.4444444444444444,
              "#bd3786"
             ],
             [
              0.5555555555555556,
              "#d8576b"
             ],
             [
              0.6666666666666666,
              "#ed7953"
             ],
             [
              0.7777777777777778,
              "#fb9f3a"
             ],
             [
              0.8888888888888888,
              "#fdca26"
             ],
             [
              1,
              "#f0f921"
             ]
            ],
            "type": "contour"
           }
          ],
          "contourcarpet": [
           {
            "colorbar": {
             "outlinewidth": 0,
             "ticks": ""
            },
            "type": "contourcarpet"
           }
          ],
          "heatmap": [
           {
            "colorbar": {
             "outlinewidth": 0,
             "ticks": ""
            },
            "colorscale": [
             [
              0,
              "#0d0887"
             ],
             [
              0.1111111111111111,
              "#46039f"
             ],
             [
              0.2222222222222222,
              "#7201a8"
             ],
             [
              0.3333333333333333,
              "#9c179e"
             ],
             [
              0.4444444444444444,
              "#bd3786"
             ],
             [
              0.5555555555555556,
              "#d8576b"
             ],
             [
              0.6666666666666666,
              "#ed7953"
             ],
             [
              0.7777777777777778,
              "#fb9f3a"
             ],
             [
              0.8888888888888888,
              "#fdca26"
             ],
             [
              1,
              "#f0f921"
             ]
            ],
            "type": "heatmap"
           }
          ],
          "histogram": [
           {
            "marker": {
             "pattern": {
              "fillmode": "overlay",
              "size": 10,
              "solidity": 0.2
             }
            },
            "type": "histogram"
           }
          ],
          "histogram2d": [
           {
            "colorbar": {
             "outlinewidth": 0,
             "ticks": ""
            },
            "colorscale": [
             [
              0,
              "#0d0887"
             ],
             [
              0.1111111111111111,
              "#46039f"
             ],
             [
              0.2222222222222222,
              "#7201a8"
             ],
             [
              0.3333333333333333,
              "#9c179e"
             ],
             [
              0.4444444444444444,
              "#bd3786"
             ],
             [
              0.5555555555555556,
              "#d8576b"
             ],
             [
              0.6666666666666666,
              "#ed7953"
             ],
             [
              0.7777777777777778,
              "#fb9f3a"
             ],
             [
              0.8888888888888888,
              "#fdca26"
             ],
             [
              1,
              "#f0f921"
             ]
            ],
            "type": "histogram2d"
           }
          ],
          "histogram2dcontour": [
           {
            "colorbar": {
             "outlinewidth": 0,
             "ticks": ""
            },
            "colorscale": [
             [
              0,
              "#0d0887"
             ],
             [
              0.1111111111111111,
              "#46039f"
             ],
             [
              0.2222222222222222,
              "#7201a8"
             ],
             [
              0.3333333333333333,
              "#9c179e"
             ],
             [
              0.4444444444444444,
              "#bd3786"
             ],
             [
              0.5555555555555556,
              "#d8576b"
             ],
             [
              0.6666666666666666,
              "#ed7953"
             ],
             [
              0.7777777777777778,
              "#fb9f3a"
             ],
             [
              0.8888888888888888,
              "#fdca26"
             ],
             [
              1,
              "#f0f921"
             ]
            ],
            "type": "histogram2dcontour"
           }
          ],
          "mesh3d": [
           {
            "colorbar": {
             "outlinewidth": 0,
             "ticks": ""
            },
            "type": "mesh3d"
           }
          ],
          "parcoords": [
           {
            "line": {
             "colorbar": {
              "outlinewidth": 0,
              "ticks": ""
             }
            },
            "type": "parcoords"
           }
          ],
          "pie": [
           {
            "automargin": true,
            "type": "pie"
           }
          ],
          "scatter": [
           {
            "fillpattern": {
             "fillmode": "overlay",
             "size": 10,
             "solidity": 0.2
            },
            "type": "scatter"
           }
          ],
          "scatter3d": [
           {
            "line": {
             "colorbar": {
              "outlinewidth": 0,
              "ticks": ""
             }
            },
            "marker": {
             "colorbar": {
              "outlinewidth": 0,
              "ticks": ""
             }
            },
            "type": "scatter3d"
           }
          ],
          "scattercarpet": [
           {
            "marker": {
             "colorbar": {
              "outlinewidth": 0,
              "ticks": ""
             }
            },
            "type": "scattercarpet"
           }
          ],
          "scattergeo": [
           {
            "marker": {
             "colorbar": {
              "outlinewidth": 0,
              "ticks": ""
             }
            },
            "type": "scattergeo"
           }
          ],
          "scattergl": [
           {
            "marker": {
             "colorbar": {
              "outlinewidth": 0,
              "ticks": ""
             }
            },
            "type": "scattergl"
           }
          ],
          "scattermap": [
           {
            "marker": {
             "colorbar": {
              "outlinewidth": 0,
              "ticks": ""
             }
            },
            "type": "scattermap"
           }
          ],
          "scattermapbox": [
           {
            "marker": {
             "colorbar": {
              "outlinewidth": 0,
              "ticks": ""
             }
            },
            "type": "scattermapbox"
           }
          ],
          "scatterpolar": [
           {
            "marker": {
             "colorbar": {
              "outlinewidth": 0,
              "ticks": ""
             }
            },
            "type": "scatterpolar"
           }
          ],
          "scatterpolargl": [
           {
            "marker": {
             "colorbar": {
              "outlinewidth": 0,
              "ticks": ""
             }
            },
            "type": "scatterpolargl"
           }
          ],
          "scatterternary": [
           {
            "marker": {
             "colorbar": {
              "outlinewidth": 0,
              "ticks": ""
             }
            },
            "type": "scatterternary"
           }
          ],
          "surface": [
           {
            "colorbar": {
             "outlinewidth": 0,
             "ticks": ""
            },
            "colorscale": [
             [
              0,
              "#0d0887"
             ],
             [
              0.1111111111111111,
              "#46039f"
             ],
             [
              0.2222222222222222,
              "#7201a8"
             ],
             [
              0.3333333333333333,
              "#9c179e"
             ],
             [
              0.4444444444444444,
              "#bd3786"
             ],
             [
              0.5555555555555556,
              "#d8576b"
             ],
             [
              0.6666666666666666,
              "#ed7953"
             ],
             [
              0.7777777777777778,
              "#fb9f3a"
             ],
             [
              0.8888888888888888,
              "#fdca26"
             ],
             [
              1,
              "#f0f921"
             ]
            ],
            "type": "surface"
           }
          ],
          "table": [
           {
            "cells": {
             "fill": {
              "color": "#EBF0F8"
             },
             "line": {
              "color": "white"
             }
            },
            "header": {
             "fill": {
              "color": "#C8D4E3"
             },
             "line": {
              "color": "white"
             }
            },
            "type": "table"
           }
          ]
         },
         "layout": {
          "annotationdefaults": {
           "arrowcolor": "#2a3f5f",
           "arrowhead": 0,
           "arrowwidth": 1
          },
          "autotypenumbers": "strict",
          "coloraxis": {
           "colorbar": {
            "outlinewidth": 0,
            "ticks": ""
           }
          },
          "colorscale": {
           "diverging": [
            [
             0,
             "#8e0152"
            ],
            [
             0.1,
             "#c51b7d"
            ],
            [
             0.2,
             "#de77ae"
            ],
            [
             0.3,
             "#f1b6da"
            ],
            [
             0.4,
             "#fde0ef"
            ],
            [
             0.5,
             "#f7f7f7"
            ],
            [
             0.6,
             "#e6f5d0"
            ],
            [
             0.7,
             "#b8e186"
            ],
            [
             0.8,
             "#7fbc41"
            ],
            [
             0.9,
             "#4d9221"
            ],
            [
             1,
             "#276419"
            ]
           ],
           "sequential": [
            [
             0,
             "#0d0887"
            ],
            [
             0.1111111111111111,
             "#46039f"
            ],
            [
             0.2222222222222222,
             "#7201a8"
            ],
            [
             0.3333333333333333,
             "#9c179e"
            ],
            [
             0.4444444444444444,
             "#bd3786"
            ],
            [
             0.5555555555555556,
             "#d8576b"
            ],
            [
             0.6666666666666666,
             "#ed7953"
            ],
            [
             0.7777777777777778,
             "#fb9f3a"
            ],
            [
             0.8888888888888888,
             "#fdca26"
            ],
            [
             1,
             "#f0f921"
            ]
           ],
           "sequentialminus": [
            [
             0,
             "#0d0887"
            ],
            [
             0.1111111111111111,
             "#46039f"
            ],
            [
             0.2222222222222222,
             "#7201a8"
            ],
            [
             0.3333333333333333,
             "#9c179e"
            ],
            [
             0.4444444444444444,
             "#bd3786"
            ],
            [
             0.5555555555555556,
             "#d8576b"
            ],
            [
             0.6666666666666666,
             "#ed7953"
            ],
            [
             0.7777777777777778,
             "#fb9f3a"
            ],
            [
             0.8888888888888888,
             "#fdca26"
            ],
            [
             1,
             "#f0f921"
            ]
           ]
          },
          "colorway": [
           "#636efa",
           "#EF553B",
           "#00cc96",
           "#ab63fa",
           "#FFA15A",
           "#19d3f3",
           "#FF6692",
           "#B6E880",
           "#FF97FF",
           "#FECB52"
          ],
          "font": {
           "color": "#2a3f5f"
          },
          "geo": {
           "bgcolor": "white",
           "lakecolor": "white",
           "landcolor": "#E5ECF6",
           "showlakes": true,
           "showland": true,
           "subunitcolor": "white"
          },
          "hoverlabel": {
           "align": "left"
          },
          "hovermode": "closest",
          "mapbox": {
           "style": "light"
          },
          "paper_bgcolor": "white",
          "plot_bgcolor": "#E5ECF6",
          "polar": {
           "angularaxis": {
            "gridcolor": "white",
            "linecolor": "white",
            "ticks": ""
           },
           "bgcolor": "#E5ECF6",
           "radialaxis": {
            "gridcolor": "white",
            "linecolor": "white",
            "ticks": ""
           }
          },
          "scene": {
           "xaxis": {
            "backgroundcolor": "#E5ECF6",
            "gridcolor": "white",
            "gridwidth": 2,
            "linecolor": "white",
            "showbackground": true,
            "ticks": "",
            "zerolinecolor": "white"
           },
           "yaxis": {
            "backgroundcolor": "#E5ECF6",
            "gridcolor": "white",
            "gridwidth": 2,
            "linecolor": "white",
            "showbackground": true,
            "ticks": "",
            "zerolinecolor": "white"
           },
           "zaxis": {
            "backgroundcolor": "#E5ECF6",
            "gridcolor": "white",
            "gridwidth": 2,
            "linecolor": "white",
            "showbackground": true,
            "ticks": "",
            "zerolinecolor": "white"
           }
          },
          "shapedefaults": {
           "line": {
            "color": "#2a3f5f"
           }
          },
          "ternary": {
           "aaxis": {
            "gridcolor": "white",
            "linecolor": "white",
            "ticks": ""
           },
           "baxis": {
            "gridcolor": "white",
            "linecolor": "white",
            "ticks": ""
           },
           "bgcolor": "#E5ECF6",
           "caxis": {
            "gridcolor": "white",
            "linecolor": "white",
            "ticks": ""
           }
          },
          "title": {
           "x": 0.05
          },
          "xaxis": {
           "automargin": true,
           "gridcolor": "white",
           "linecolor": "white",
           "ticks": "",
           "title": {
            "standoff": 15
           },
           "zerolinecolor": "white",
           "zerolinewidth": 2
          },
          "yaxis": {
           "automargin": true,
           "gridcolor": "white",
           "linecolor": "white",
           "ticks": "",
           "title": {
            "standoff": 15
           },
           "zerolinecolor": "white",
           "zerolinewidth": 2
          }
         }
        },
        "title": {
         "text": "Antigüedad vs Cumplimiento Objetivo"
        },
        "xaxis": {
         "anchor": "y",
         "domain": [
          0,
          1
         ],
         "title": {
          "text": "Antigüedad (meses)"
         }
        },
        "yaxis": {
         "anchor": "x",
         "domain": [
          0,
          1
         ],
         "title": {
          "text": "% Cumplimiento Objetivo"
         }
        }
       }
      }
     },
     "metadata": {},
     "output_type": "display_data"
    }
   ],
   "source": [
    "# Filtrar valores negativos en 'Monto de Venta'\n",
    "df_scatter = df[df['Monto de Venta'] >= 0].copy()\n",
    "\n",
    "fig3 = px.scatter(df_scatter,\n",
    "                  x='Antigüedad del Asesor (meses)',\n",
    "                  y='% Cumplimiento Objetivo',\n",
    "                  color='¿Capacitado?',\n",
    "                  size='Monto de Venta',\n",
    "                  hover_name='Asesor',\n",
    "                  title='Antigüedad vs Cumplimiento Objetivo',\n",
    "                  labels={\n",
    "                      'Antigüedad del Asesor (meses)': 'Antigüedad (meses)',\n",
    "                      '% Cumplimiento Objetivo': '% Cumplimiento Objetivo',\n",
    "                      '¿Capacitado?': '¿Capacitado?'\n",
    "                  },\n",
    "                  size_max=30)\n",
    "fig3.show()"
   ]
  },
  {
   "cell_type": "code",
   "execution_count": 12,
   "id": "199cb3bf",
   "metadata": {},
   "outputs": [
    {
     "data": {
      "application/vnd.plotly.v1+json": {
       "config": {
        "plotlyServerURL": "https://plot.ly"
       },
       "data": [
        {
         "hovertemplate": "<b>%{hovertext}</b><br><br>¿Capacitado?=No<br>Antigüedad (meses)=%{x}<br>Monto de Venta=%{y}<br>% Cumplimiento Objetivo=%{marker.size}<extra></extra>",
         "hovertext": [
          "A34",
          "A19",
          "A22",
          "A14",
          "A17",
          "A39",
          "A3",
          "A21",
          "A13",
          "A19",
          "A20",
          "A42",
          "A48",
          "A45",
          "A37",
          "A30",
          "A40",
          "A10",
          "A4",
          "A38",
          "A50",
          "A16",
          "A45",
          "A38",
          "A46",
          "A39",
          "A7",
          "A40",
          "A40",
          "A11",
          "A3",
          "A10",
          "A34",
          "A15",
          "A34",
          "A38",
          "A35",
          "A50",
          "A38",
          "A24",
          "A37",
          "A31",
          "A13",
          "A24",
          "A22",
          "A2",
          "A13",
          "A25",
          "A8",
          "A1",
          "A13",
          "A44",
          "A2",
          "A49",
          "A44",
          "A29",
          "A1",
          "A30",
          "A4",
          "A7",
          "A40",
          "A41",
          "A18",
          "A46",
          "A17",
          "A19",
          "A41",
          "A6",
          "A23",
          "A34",
          "A34",
          "A27",
          "A20",
          "A4",
          "A16",
          "A27",
          "A32",
          "A2",
          "A22",
          "A34",
          "A39",
          "A32",
          "A14",
          "A26",
          "A26",
          "A16",
          "A44",
          "A34",
          "A16",
          "A25",
          "A14",
          "A26",
          "A23",
          "A47",
          "A7",
          "A29",
          "A27",
          "A2",
          "A17",
          "A48",
          "A28",
          "A14",
          "A17",
          "A43",
          "A47",
          "A35",
          "A32",
          "A32",
          "A28",
          "A27",
          "A35",
          "A16",
          "A3",
          "A45",
          "A35",
          "A17",
          "A32",
          "A42",
          "A35",
          "A28",
          "A13",
          "A34",
          "A46",
          "A39",
          "A10",
          "A19",
          "A3",
          "A11",
          "A8",
          "A1",
          "A49",
          "A49",
          "A18",
          "A2",
          "A44",
          "A8",
          "A43",
          "A18",
          "A41",
          "A49",
          "A19",
          "A44",
          "A7",
          "A47",
          "A10",
          "A33",
          "A2",
          "A41",
          "A23",
          "A31",
          "A34",
          "A32",
          "A21",
          "A32",
          "A33",
          "A15",
          "A20",
          "A30",
          "A19",
          "A23",
          "A44",
          "A12",
          "A13",
          "A14",
          "A19",
          "A33",
          "A46",
          "A16",
          "A7",
          "A5",
          "A33",
          "A4",
          "A38",
          "A16",
          "A44",
          "A48",
          "A34",
          "A14",
          "A43",
          "A38",
          "A38",
          "A2",
          "A6",
          "A38",
          "A40",
          "A26",
          "A19",
          "A20",
          "A28",
          "A39",
          "A48",
          "A48",
          "A12",
          "A49",
          "A19",
          "A7",
          "A16",
          "A17",
          "A6",
          "A2",
          "A2",
          "A17",
          "A37",
          "A27",
          "A19",
          "A18",
          "A1",
          "A44",
          "A14",
          "A10",
          "A8",
          "A34",
          "A4",
          "A28",
          "A11",
          "A28",
          "A40",
          "A43",
          "A12",
          "A10",
          "A38",
          "A9",
          "A4",
          "A18",
          "A7",
          "A39",
          "A29",
          "A41",
          "A33",
          "A34",
          "A7",
          "A37",
          "A6",
          "A15",
          "A32",
          "A31",
          "A28",
          "A26",
          "A38",
          "A13",
          "A42",
          "A4",
          "A1",
          "A37",
          "A21",
          "A49",
          "A15",
          "A17",
          "A34",
          "A6",
          "A23",
          "A36",
          "A24",
          "A40",
          "A8",
          "A15",
          "A11",
          "A9",
          "A36",
          "A25",
          "A24",
          "A41",
          "A38",
          "A18",
          "A43",
          "A32",
          "A2",
          "A43",
          "A14",
          "A15",
          "A28",
          "A25",
          "A6",
          "A20",
          "A4",
          "A35",
          "A13",
          "A31",
          "A14",
          "A34",
          "A26",
          "A45",
          "A8",
          "A5",
          "A22",
          "A18",
          "A7",
          "A22",
          "A10",
          "A26",
          "A24",
          "A47",
          "A21",
          "A16",
          "A4",
          "A35",
          "A14",
          "A7",
          "A22",
          "A8",
          "A14",
          "A39",
          "A20",
          "A28",
          "A50",
          "A32",
          "A41",
          "A46",
          "A13",
          "A38",
          "A46",
          "A1",
          "A23",
          "A2",
          "A25",
          "A25",
          "A23",
          "A26",
          "A26",
          "A42",
          "A28",
          "A9",
          "A46",
          "A1",
          "A5",
          "A9",
          "A3",
          "A50",
          "A24",
          "A50",
          "A28",
          "A9",
          "A35",
          "A24",
          "A33",
          "A31",
          "A10",
          "A35",
          "A50",
          "A46",
          "A7",
          "A15",
          "A32",
          "A44",
          "A18",
          "A37",
          "A35",
          "A10",
          "A38",
          "A38",
          "A24",
          "A38",
          "A19",
          "A14",
          "A28",
          "A39",
          "A45",
          "A32",
          "A43",
          "A29",
          "A38",
          "A18",
          "A49",
          "A49",
          "A32",
          "A10",
          "A45",
          "A40",
          "A1",
          "A10",
          "A43",
          "A5",
          "A33",
          "A9",
          "A33",
          "A36",
          "A45",
          "A35",
          "A15",
          "A44",
          "A30",
          "A13",
          "A26",
          "A5",
          "A26",
          "A9",
          "A44",
          "A2",
          "A37",
          "A28",
          "A30",
          "A31",
          "A16",
          "A48",
          "A11",
          "A29",
          "A9",
          "A2",
          "A48",
          "A3",
          "A27",
          "A37",
          "A46",
          "A43",
          "A23",
          "A17",
          "A48",
          "A27",
          "A46",
          "A37",
          "A8",
          "A25",
          "A39",
          "A46",
          "A40",
          "A47",
          "A25",
          "A34",
          "A25",
          "A11",
          "A26",
          "A37",
          "A17",
          "A26",
          "A3",
          "A18",
          "A20",
          "A45",
          "A43",
          "A6",
          "A33",
          "A2",
          "A28",
          "A34",
          "A38",
          "A41",
          "A26",
          "A37",
          "A2",
          "A24",
          "A35",
          "A19",
          "A50",
          "A30",
          "A18",
          "A26",
          "A44",
          "A45",
          "A48",
          "A45",
          "A4",
          "A25",
          "A25",
          "A16",
          "A42",
          "A1",
          "A15",
          "A44",
          "A16",
          "A48",
          "A9",
          "A25",
          "A31",
          "A15",
          "A43",
          "A50",
          "A28",
          "A33",
          "A50",
          "A24",
          "A49",
          "A24",
          "A44",
          "A40",
          "A47",
          "A8",
          "A15",
          "A50",
          "A22",
          "A10",
          "A28",
          "A29",
          "A33",
          "A10",
          "A25",
          "A4",
          "A38",
          "A25",
          "A29",
          "A45",
          "A6",
          "A18",
          "A18",
          "A49",
          "A4",
          "A39",
          "A35",
          "A7",
          "A30",
          "A30",
          "A25",
          "A6",
          "A24",
          "A27",
          "A9",
          "A48",
          "A45",
          "A24",
          "A49",
          "A19",
          "A36",
          "A48",
          "A9",
          "A46",
          "A5",
          "A40",
          "A20",
          "A47",
          "A28",
          "A3",
          "A28",
          "A17"
         ],
         "legendgroup": "No",
         "marker": {
          "color": "#636efa",
          "size": {
           "bdata": "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",
           "dtype": "f8"
          },
          "sizemode": "area",
          "sizeref": 0.347875,
          "symbol": "circle"
         },
         "mode": "markers",
         "name": "No",
         "showlegend": true,
         "type": "scattergl",
         "x": {
          "bdata": "Fwc5OhYlLS0dBRwRNxctNDEHMzM4Ci46LxoeJhIBAzERKQwdGTMkNRkLJhEICgcGAQEnFR4wFjY3GTUPNx0MAS8CCBYaFR8rDhcwMw8jJDQ2HCcsBAoGHjYuMSsKNSAqKg8REjMTDAUYMCYsIiAFOiouHiUXFxIfFQIXCB4SNSE2LCEzHDgiORgFFxM7MjslKTI3CyETAhMgCikLKQkIGCkbBSMVEDkfGiMVJyI5DwY4MQEIKQwvKBEiIzcBMg8qJwU0DBMvDDMwMQUZHSYhFwsYBzIvMiUMOgQXHxocLyUyFAImICQyGwU2BhokDBk7DzInFhIQJBQaAjM4IjcUGTUvLCcMNhA3HjMqNScOECEvOx8tHzcEKQobECQtNRQtOzYgBh4NGB8UFTMPGjYLCxsTFxwFDyYOCBMpOBM1MyUJIDMgCA44AxgrEhIwMBA3ODgmJCoRERYrHhYKMSgBNAkUIyQJBSYTKxQkKx4ZHScVCBUSKBo5NzU0Ei80IjMgKxYrKhEfNSYEAgwjLiMwDw8tBhYgOxYbJjkJIi0cORALKggrKDscLi8OBwoPHzMPBDApOQMDGhEYGBcgFyIVIysYMS4qCCgZLzQFETUOOggoAR0lHQU1ETYrMgUeNxoEFTsTIjUHNis0AygRDjsmNSgXJAMkBTQxCjYgLiw6FgYEEy0sNBwPEwkP",
          "dtype": "i1"
         },
         "xaxis": "x",
         "y": {
          "bdata": "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",
          "dtype": "f8"
         },
         "yaxis": "y"
        },
        {
         "hovertemplate": "<b>%{hovertext}</b><br><br>¿Capacitado?=Sí<br>Antigüedad (meses)=%{x}<br>Monto de Venta=%{y}<br>% Cumplimiento Objetivo=%{marker.size}<extra></extra>",
         "hovertext": [
          "A6",
          "A33",
          "A15",
          "A7",
          "A16",
          "A6",
          "A9",
          "A48",
          "A38",
          "A6",
          "A33",
          "A44",
          "A29",
          "A33",
          "A10",
          "A42",
          "A35",
          "A29",
          "A28",
          "A16",
          "A8",
          "A10",
          "A28",
          "A28",
          "A3",
          "A34",
          "A28",
          "A24",
          "A9",
          "A24",
          "A47",
          "A48",
          "A21",
          "A42",
          "A38",
          "A19",
          "A42",
          "A12",
          "A4",
          "A13",
          "A22",
          "A35",
          "A33",
          "A49",
          "A46",
          "A46",
          "A39",
          "A25",
          "A4",
          "A32",
          "A46",
          "A31",
          "A8",
          "A18",
          "A14",
          "A16",
          "A49",
          "A16",
          "A7",
          "A10",
          "A47",
          "A41",
          "A47",
          "A8",
          "A50",
          "A12",
          "A39",
          "A21",
          "A44",
          "A12",
          "A40",
          "A3",
          "A30",
          "A46",
          "A33",
          "A50",
          "A35",
          "A16",
          "A15",
          "A15",
          "A40",
          "A16",
          "A25",
          "A4",
          "A31",
          "A37",
          "A23",
          "A42",
          "A13",
          "A36",
          "A45",
          "A27",
          "A44",
          "A46",
          "A37",
          "A28",
          "A32",
          "A21",
          "A36",
          "A14",
          "A33",
          "A25",
          "A44",
          "A15",
          "A32",
          "A38",
          "A29",
          "A28",
          "A38",
          "A20",
          "A24",
          "A24",
          "A12",
          "A23",
          "A32",
          "A2",
          "A34",
          "A47",
          "A12",
          "A50",
          "A45",
          "A4",
          "A19",
          "A18",
          "A47",
          "A15",
          "A6",
          "A35",
          "A2",
          "A6",
          "A5",
          "A20",
          "A32",
          "A49",
          "A44",
          "A8",
          "A39",
          "A45",
          "A41",
          "A26",
          "A18",
          "A15",
          "A21",
          "A39",
          "A45",
          "A38",
          "A31",
          "A23",
          "A4",
          "A27",
          "A5",
          "A11",
          "A23",
          "A22",
          "A37",
          "A46",
          "A30",
          "A38",
          "A29",
          "A29",
          "A9",
          "A3",
          "A27",
          "A26",
          "A42",
          "A7",
          "A47",
          "A43",
          "A29",
          "A5",
          "A44",
          "A30",
          "A9",
          "A27",
          "A37",
          "A18",
          "A43",
          "A34",
          "A15",
          "A27",
          "A16",
          "A44",
          "A4",
          "A18",
          "A2",
          "A42",
          "A40",
          "A28",
          "A17",
          "A17",
          "A42",
          "A14",
          "A49",
          "A27",
          "A15",
          "A21",
          "A21",
          "A31",
          "A34",
          "A11",
          "A24",
          "A20",
          "A26",
          "A41",
          "A6",
          "A22",
          "A9",
          "A14",
          "A37",
          "A10",
          "A28",
          "A12",
          "A15",
          "A44",
          "A42",
          "A14",
          "A35",
          "A6",
          "A42",
          "A44",
          "A18",
          "A49",
          "A3",
          "A36",
          "A43",
          "A5",
          "A31",
          "A19",
          "A27",
          "A44",
          "A40",
          "A10",
          "A20",
          "A10",
          "A26",
          "A22",
          "A5",
          "A50",
          "A25",
          "A31",
          "A50",
          "A1",
          "A34",
          "A22",
          "A23",
          "A22",
          "A37",
          "A3",
          "A41",
          "A33",
          "A23",
          "A10",
          "A33",
          "A43",
          "A26",
          "A17",
          "A33",
          "A23",
          "A21",
          "A10",
          "A45",
          "A31",
          "A12",
          "A12",
          "A39",
          "A19",
          "A32",
          "A27",
          "A31",
          "A10",
          "A3",
          "A32",
          "A19",
          "A39",
          "A2",
          "A38",
          "A6",
          "A26",
          "A42",
          "A43",
          "A16",
          "A20",
          "A19",
          "A21",
          "A19",
          "A47",
          "A35",
          "A17",
          "A37",
          "A9",
          "A42",
          "A36",
          "A7",
          "A34",
          "A30",
          "A18",
          "A37",
          "A45",
          "A24",
          "A50",
          "A50",
          "A32",
          "A33",
          "A44",
          "A50",
          "A46",
          "A28",
          "A23",
          "A35",
          "A40",
          "A20",
          "A50",
          "A13",
          "A5",
          "A25",
          "A16",
          "A21",
          "A39",
          "A19",
          "A31",
          "A35",
          "A10",
          "A5",
          "A39",
          "A29",
          "A28",
          "A43",
          "A36",
          "A34",
          "A17",
          "A10",
          "A19",
          "A45",
          "A47",
          "A24",
          "A7",
          "A24",
          "A50",
          "A25",
          "A34",
          "A47",
          "A20",
          "A46",
          "A31",
          "A7",
          "A18",
          "A28",
          "A39",
          "A47",
          "A28",
          "A28",
          "A35",
          "A23",
          "A8",
          "A35",
          "A21",
          "A32",
          "A23",
          "A17",
          "A6",
          "A35",
          "A19",
          "A29",
          "A5",
          "A50",
          "A41",
          "A9",
          "A32",
          "A6",
          "A29",
          "A15",
          "A30",
          "A22",
          "A38",
          "A8",
          "A45",
          "A42",
          "A11",
          "A50",
          "A30",
          "A42",
          "A41",
          "A29",
          "A13",
          "A42",
          "A29",
          "A12",
          "A3",
          "A7",
          "A42",
          "A38",
          "A50",
          "A32",
          "A14",
          "A7",
          "A20",
          "A29",
          "A25",
          "A20",
          "A37",
          "A4",
          "A28",
          "A31",
          "A2",
          "A30",
          "A17",
          "A5",
          "A41",
          "A45",
          "A32",
          "A41",
          "A35",
          "A28",
          "A8",
          "A7",
          "A23",
          "A44",
          "A50",
          "A40",
          "A35",
          "A15",
          "A9",
          "A21",
          "A28",
          "A45",
          "A24",
          "A29",
          "A31",
          "A24",
          "A36",
          "A48",
          "A18",
          "A48",
          "A40",
          "A44",
          "A30",
          "A27",
          "A21",
          "A31",
          "A17",
          "A12",
          "A26",
          "A50",
          "A18",
          "A35",
          "A2",
          "A34",
          "A12",
          "A20",
          "A5",
          "A43",
          "A6",
          "A50",
          "A23",
          "A9",
          "A26",
          "A43",
          "A40",
          "A30",
          "A12",
          "A9",
          "A20",
          "A2",
          "A45",
          "A4",
          "A48",
          "A31",
          "A9",
          "A35",
          "A15",
          "A22",
          "A38",
          "A3",
          "A13",
          "A29",
          "A29",
          "A20",
          "A37",
          "A10",
          "A4",
          "A13",
          "A19",
          "A15",
          "A34",
          "A2",
          "A39",
          "A8",
          "A26",
          "A47",
          "A48",
          "A15",
          "A16",
          "A49",
          "A10",
          "A47",
          "A46",
          "A7",
          "A2",
          "A50",
          "A34",
          "A19",
          "A33",
          "A45",
          "A40",
          "A30",
          "A7",
          "A23",
          "A31",
          "A46",
          "A34",
          "A33",
          "A4",
          "A9",
          "A33",
          "A30",
          "A50",
          "A16",
          "A44",
          "A6",
          "A23",
          "A3",
          "A5",
          "A11",
          "A8",
          "A48",
          "A38",
          "A30",
          "A22",
          "A24",
          "A34",
          "A50",
          "A17"
         ],
         "legendgroup": "Sí",
         "marker": {
          "color": "#EF553B",
          "size": {
           "bdata": "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",
           "dtype": "f8"
          },
          "sizemode": "area",
          "sizeref": 0.347875,
          "symbol": "circle"
         },
         "mode": "markers",
         "name": "Sí",
         "showlegend": true,
         "type": "scattergl",
         "x": {
          "bdata": "BQYMBAgfJRorKCEoCQIfHjoDCTI5DxkGODAIKBk2HQQuAiQOECk4AScBMyg5LSEuBBcsDBEKIzQ0ARYaCTQGOCEHCQsCAzgYGx4PLzsbFCkENQgWBxYQDwUDBQ8ZCBYIIAQXHTQvEgEnJxMfDQEhISAcDDY5KiIHHwgaFA8iKS0oFQQxMAYhEC8qAhgBHBQwARozKzEMBwUOMBE7MiQTMwUTKwwkEisiMDkdLRg7CiUYFRQ1ChkvJDAPLCgoBg0RECkBDDc4JA8WLDIhDy4dOzgfFiMHNhMHFBceEikTNgQBDzYIDwIQAzg3AiM5FCI2OBQZDiswAismLRgzHjsXFTc3BDYOEwUkEh4VLx43BS0NLRQ3BRolHQUZDTcJJR4mNQEDAw40Hjo2MQ45OzEIIB0LLQ0bGjA0NgMFDR0IMyofGjo5JjMDBAQoMxQ0GwMYCBkdNhUnGCw2Ggk4JCoWAQklIA0sJQofGCkJKioEIA4NGDItICw4IR8MMxkfAycIHRQGHTklOC4IFTU6By8RBA8sFiQJDxQIOiESIzIDGx0qETsdMRopBR81MgoCCyMTAjMCOAUbByE6EQYEHyEjJDQdIiQzIDQYDDQBBxEiKwc7Ax0WJh0yNioXFTYvFwEPETMOMgY2BQ0zDRsHGSEtJTo4NhcmOzYbLTIfJTcuDwY7FxEUKQ8sLjQ6Fx8DAxIbMwoxBA==",
          "dtype": "i1"
         },
         "xaxis": "x",
         "y": {
          "bdata": "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",
          "dtype": "f8"
         },
         "yaxis": "y"
        },
        {
         "hovertemplate": "<b>%{hovertext}</b><br><br>¿Capacitado?=Desconocido<br>Antigüedad (meses)=%{x}<br>Monto de Venta=%{y}<br>% Cumplimiento Objetivo=%{marker.size}<extra></extra>",
         "hovertext": [
          "A19",
          "A7",
          "A23",
          "A23",
          "A15",
          "A46",
          "A32",
          "A14",
          "A33",
          "A12",
          "A35",
          "A8",
          "A27",
          "A20",
          "A27",
          "A42",
          "A1",
          "A8",
          "A32",
          "A10",
          "A37",
          "A4",
          "A34",
          "A34",
          "A24",
          "A15",
          "A24",
          "A42",
          "A30",
          "A43",
          "A38",
          "A10",
          "A8",
          "A20",
          "A29",
          "A4",
          "A7",
          "A7",
          "A35",
          "A39",
          "A14",
          "A15",
          "A12",
          "A40",
          "A46",
          "A5",
          "A16",
          "A2",
          "A24",
          "A24",
          "A39",
          "A20",
          "A12",
          "A31",
          "A13",
          "A27",
          "A28",
          "A15",
          "A5",
          "A2",
          "A27",
          "A20",
          "A25",
          "A37",
          "A2",
          "A4",
          "A25",
          "A16",
          "A23",
          "A16",
          "A31",
          "A23",
          "A12",
          "A34",
          "A20",
          "A25",
          "A37",
          "A40",
          "A45",
          "A31",
          "A13",
          "A24",
          "A37",
          "A19",
          "A38",
          "A17",
          "A45",
          "A26",
          "A47",
          "A15",
          "A22",
          "A15",
          "A14",
          "A41",
          "A47",
          "A20",
          "A25",
          "A10",
          "A44",
          "A10"
         ],
         "legendgroup": "Desconocido",
         "marker": {
          "color": "#00cc96",
          "size": {
           "bdata": "4XoUrkcRW0BSuB6F69FbQHsUrkfhOlVAzczMzMycVEBmZmZmZjZZQBSuR+F6hFBApHA9CteTUEA9CtejcL1YQM3MzMzMPFJAUrgehevxWECuR+F6FC5WQHsUrkfhilBAFK5H4XokVkCkcD0K18NTQNejcD0KJ1JArkfhehQOS0B7FK5H4bpcQPYoXI/CpVBA9ihcj8LFW0DNzMzMzOxXQB+F61G4/lpAhetRuB7lV0Bcj8L1KMxTQAAAAAAAYFVAmpmZmZkpWEB7FK5H4SpZQKRwPQrXI1BAH4XrUbiuUUCuR+F6FH5cQHsUrkfh6lZA4XoUrkfxVECamZmZmVlTQArXo3A9ylZAUrgehevRW0DXo3A9CudWQFyPwvUobFpAUrgeheuBXECkcD0K10NaQM3MzMzMXFVAzczMzMycVkDNzMzMzKxQQM3MzMzMvFtAw/UoXI8iXUDhehSuR0FWQD0K16NwLVtASOF6FK63VkApXI/C9WhKQMP1KFyPoldApHA9CtdzWUAfhetRuF5SQKRwPQrXI1VAexSuR+FqVkCkcD0K1yNOQBSuR+F6VF5ASOF6FK4HV0AK16NwPapbQAAAAAAAoFlAMzMzMzPTXEAAAAAAADBbQOxRuB6Fi1dAFK5H4XrUVkC4HoXrUShXQIXrUbgepVFASOF6FK7nV0B7FK5H4UpXQEjhehSuh1JA4XoUrkcRUEDhehSuR+FbQLgehetRyF5AKVyPwvUIVkApXI/C9QhaQKRwPQrXo1VAMzMzMzMTVUAAAAAAAMBUQJqZmZmZ2VdAFK5H4XrUUECamZmZmXlSQNejcD0Kl1hAexSuR+EqVkAUrkfhenRUQPYoXI/CtVhA4XoUrkehTUDhehSuRxFVQI/C9Shcv1RAZmZmZmYGTEBI4XoUrsdQQGZmZmZmdlZAj8L1KFz/UkCF61G4HsVNQOxRuB6Fi1ZA9ihcj8I1UkDNzMzMzGxXQD0K16Nw3VJAcT0K16PgVkDD9Shcj1JXQClcj8L12FhAw/UoXI+yXEDNzMzMzGxWQHE9CtejAFdAKVyPwvWITUA=",
           "dtype": "f8"
          },
          "sizemode": "area",
          "sizeref": 0.347875,
          "symbol": "circle"
         },
         "mode": "markers",
         "name": "Desconocido",
         "showlegend": true,
         "type": "scattergl",
         "x": {
          "bdata": "MTENMxEQGQQdAyAeCjEYOCM6GhsXBwkmHjQxEiECOxQDLwEdHyk7HgUyBS8yLCkeFSgPNhQqIhwHCQ42CCoCLS44IgYuMxwqMxMKNiwMGSkPBi4uBwEPNxUUMQYhOh0RMDItDg==",
          "dtype": "i1"
         },
         "xaxis": "x",
         "y": {
          "bdata": "FK5H4crV00CamZmZ2eXEQArXo3ANXtFA16NwPWrRzEDNzMzMTIjCQK5H4XrU/rpAH4XrUdiJwkAUrkfhOpLKQHsUrkehqtNA9ihcj5KR0UDNzMzMbHvZQAAAAABgX8NAAAAAACBTz0Bcj8L1CBrPQBSuR+E6Q81AuB6F6zFIykAUrkfhGpvDQFK4HoXb39VA4XoUrkfoxECuR+F6hNDQQMP1KFxvFtRAexSuR6EZz0DNzMzMjDHKQMP1KFwvXcdAPQrXo/Cq2UBxPQrX4yPOQK5H4XoU6shACtejcF0ly0CF61G4nivDQPYoXI+iLsZArkfhenSP0kCkcD0Kl/TYQNejcD1KKsdAPQrXoxBozEA9Ctej8KPAQLgehethWdJA9ihcj+LF1UAK16Nw7VvQQLgehetRGtBA9ihcj+L8y0ApXI/C9WvTQPYoXI8S3NRAhetRuJ6lxkAzMzMzE9TSQPYoXI/iocJAmpmZmWmn0EDNzMzM3FnQQOxRuB4l2MZAzczMzNzW0EApXI/CFXjPQOxRuB41cNBA9ihcj+LKyUBxPQrXQ1vQQK5H4Xok2NNAhetRuH4+yUCkcD0KBwHWQI/C9SgcadFAuB6F6yFC0kBxPQrXw03LQFyPwvUIWM1AhetRuF6Uz0A9CtejENTCQM3MzMx8gNZAFK5H4fpnx0C4HoXrsUnFQIXrUbgeEqJAzczMzNyB0UA9CtejAJLTQNejcD0qTc9AXI/C9QhgxkDhehSuRyidQK5H4XpUt81AMzMzM+Ox0kAAAAAAMEXWQIXrUbhumdZAUrgehZsQ1kAK16NwncfEQBSuR+G6ZsFAPQrXo+DW0UDXo3A9CifFQLgehesxQ8FAhetRuG700UAAAAAAwObKQK5H4XrUSMVA9ihcj+J7zUDXo3A9yizLQK5H4XrUcMhAAAAAAIAw0kDNzMzMDPXRQD0K16MggtJAKVyPwiWz0EBxPQrXwxXOQClcj8IV9spAw/UoXH/G0UA9CtejkD/SQJqZmZmZCshAH4XrUWg81UAUrkfhakzQQClcj8J1FMZA9ihcj8Lyv0A=",
          "dtype": "f8"
         },
         "yaxis": "y"
        }
       ],
       "layout": {
        "legend": {
         "itemsizing": "constant",
         "title": {
          "text": "¿Capacitado?"
         },
         "tracegroupgap": 0
        },
        "template": {
         "data": {
          "bar": [
           {
            "error_x": {
             "color": "#2a3f5f"
            },
            "error_y": {
             "color": "#2a3f5f"
            },
            "marker": {
             "line": {
              "color": "#E5ECF6",
              "width": 0.5
             },
             "pattern": {
              "fillmode": "overlay",
              "size": 10,
              "solidity": 0.2
             }
            },
            "type": "bar"
           }
          ],
          "barpolar": [
           {
            "marker": {
             "line": {
              "color": "#E5ECF6",
              "width": 0.5
             },
             "pattern": {
              "fillmode": "overlay",
              "size": 10,
              "solidity": 0.2
             }
            },
            "type": "barpolar"
           }
          ],
          "carpet": [
           {
            "aaxis": {
             "endlinecolor": "#2a3f5f",
             "gridcolor": "white",
             "linecolor": "white",
             "minorgridcolor": "white",
             "startlinecolor": "#2a3f5f"
            },
            "baxis": {
             "endlinecolor": "#2a3f5f",
             "gridcolor": "white",
             "linecolor": "white",
             "minorgridcolor": "white",
             "startlinecolor": "#2a3f5f"
            },
            "type": "carpet"
           }
          ],
          "choropleth": [
           {
            "colorbar": {
             "outlinewidth": 0,
             "ticks": ""
            },
            "type": "choropleth"
           }
          ],
          "contour": [
           {
            "colorbar": {
             "outlinewidth": 0,
             "ticks": ""
            },
            "colorscale": [
             [
              0,
              "#0d0887"
             ],
             [
              0.1111111111111111,
              "#46039f"
             ],
             [
              0.2222222222222222,
              "#7201a8"
             ],
             [
              0.3333333333333333,
              "#9c179e"
             ],
             [
              0.4444444444444444,
              "#bd3786"
             ],
             [
              0.5555555555555556,
              "#d8576b"
             ],
             [
              0.6666666666666666,
              "#ed7953"
             ],
             [
              0.7777777777777778,
              "#fb9f3a"
             ],
             [
              0.8888888888888888,
              "#fdca26"
             ],
             [
              1,
              "#f0f921"
             ]
            ],
            "type": "contour"
           }
          ],
          "contourcarpet": [
           {
            "colorbar": {
             "outlinewidth": 0,
             "ticks": ""
            },
            "type": "contourcarpet"
           }
          ],
          "heatmap": [
           {
            "colorbar": {
             "outlinewidth": 0,
             "ticks": ""
            },
            "colorscale": [
             [
              0,
              "#0d0887"
             ],
             [
              0.1111111111111111,
              "#46039f"
             ],
             [
              0.2222222222222222,
              "#7201a8"
             ],
             [
              0.3333333333333333,
              "#9c179e"
             ],
             [
              0.4444444444444444,
              "#bd3786"
             ],
             [
              0.5555555555555556,
              "#d8576b"
             ],
             [
              0.6666666666666666,
              "#ed7953"
             ],
             [
              0.7777777777777778,
              "#fb9f3a"
             ],
             [
              0.8888888888888888,
              "#fdca26"
             ],
             [
              1,
              "#f0f921"
             ]
            ],
            "type": "heatmap"
           }
          ],
          "histogram": [
           {
            "marker": {
             "pattern": {
              "fillmode": "overlay",
              "size": 10,
              "solidity": 0.2
             }
            },
            "type": "histogram"
           }
          ],
          "histogram2d": [
           {
            "colorbar": {
             "outlinewidth": 0,
             "ticks": ""
            },
            "colorscale": [
             [
              0,
              "#0d0887"
             ],
             [
              0.1111111111111111,
              "#46039f"
             ],
             [
              0.2222222222222222,
              "#7201a8"
             ],
             [
              0.3333333333333333,
              "#9c179e"
             ],
             [
              0.4444444444444444,
              "#bd3786"
             ],
             [
              0.5555555555555556,
              "#d8576b"
             ],
             [
              0.6666666666666666,
              "#ed7953"
             ],
             [
              0.7777777777777778,
              "#fb9f3a"
             ],
             [
              0.8888888888888888,
              "#fdca26"
             ],
             [
              1,
              "#f0f921"
             ]
            ],
            "type": "histogram2d"
           }
          ],
          "histogram2dcontour": [
           {
            "colorbar": {
             "outlinewidth": 0,
             "ticks": ""
            },
            "colorscale": [
             [
              0,
              "#0d0887"
             ],
             [
              0.1111111111111111,
              "#46039f"
             ],
             [
              0.2222222222222222,
              "#7201a8"
             ],
             [
              0.3333333333333333,
              "#9c179e"
             ],
             [
              0.4444444444444444,
              "#bd3786"
             ],
             [
              0.5555555555555556,
              "#d8576b"
             ],
             [
              0.6666666666666666,
              "#ed7953"
             ],
             [
              0.7777777777777778,
              "#fb9f3a"
             ],
             [
              0.8888888888888888,
              "#fdca26"
             ],
             [
              1,
              "#f0f921"
             ]
            ],
            "type": "histogram2dcontour"
           }
          ],
          "mesh3d": [
           {
            "colorbar": {
             "outlinewidth": 0,
             "ticks": ""
            },
            "type": "mesh3d"
           }
          ],
          "parcoords": [
           {
            "line": {
             "colorbar": {
              "outlinewidth": 0,
              "ticks": ""
             }
            },
            "type": "parcoords"
           }
          ],
          "pie": [
           {
            "automargin": true,
            "type": "pie"
           }
          ],
          "scatter": [
           {
            "fillpattern": {
             "fillmode": "overlay",
             "size": 10,
             "solidity": 0.2
            },
            "type": "scatter"
           }
          ],
          "scatter3d": [
           {
            "line": {
             "colorbar": {
              "outlinewidth": 0,
              "ticks": ""
             }
            },
            "marker": {
             "colorbar": {
              "outlinewidth": 0,
              "ticks": ""
             }
            },
            "type": "scatter3d"
           }
          ],
          "scattercarpet": [
           {
            "marker": {
             "colorbar": {
              "outlinewidth": 0,
              "ticks": ""
             }
            },
            "type": "scattercarpet"
           }
          ],
          "scattergeo": [
           {
            "marker": {
             "colorbar": {
              "outlinewidth": 0,
              "ticks": ""
             }
            },
            "type": "scattergeo"
           }
          ],
          "scattergl": [
           {
            "marker": {
             "colorbar": {
              "outlinewidth": 0,
              "ticks": ""
             }
            },
            "type": "scattergl"
           }
          ],
          "scattermap": [
           {
            "marker": {
             "colorbar": {
              "outlinewidth": 0,
              "ticks": ""
             }
            },
            "type": "scattermap"
           }
          ],
          "scattermapbox": [
           {
            "marker": {
             "colorbar": {
              "outlinewidth": 0,
              "ticks": ""
             }
            },
            "type": "scattermapbox"
           }
          ],
          "scatterpolar": [
           {
            "marker": {
             "colorbar": {
              "outlinewidth": 0,
              "ticks": ""
             }
            },
            "type": "scatterpolar"
           }
          ],
          "scatterpolargl": [
           {
            "marker": {
             "colorbar": {
              "outlinewidth": 0,
              "ticks": ""
             }
            },
            "type": "scatterpolargl"
           }
          ],
          "scatterternary": [
           {
            "marker": {
             "colorbar": {
              "outlinewidth": 0,
              "ticks": ""
             }
            },
            "type": "scatterternary"
           }
          ],
          "surface": [
           {
            "colorbar": {
             "outlinewidth": 0,
             "ticks": ""
            },
            "colorscale": [
             [
              0,
              "#0d0887"
             ],
             [
              0.1111111111111111,
              "#46039f"
             ],
             [
              0.2222222222222222,
              "#7201a8"
             ],
             [
              0.3333333333333333,
              "#9c179e"
             ],
             [
              0.4444444444444444,
              "#bd3786"
             ],
             [
              0.5555555555555556,
              "#d8576b"
             ],
             [
              0.6666666666666666,
              "#ed7953"
             ],
             [
              0.7777777777777778,
              "#fb9f3a"
             ],
             [
              0.8888888888888888,
              "#fdca26"
             ],
             [
              1,
              "#f0f921"
             ]
            ],
            "type": "surface"
           }
          ],
          "table": [
           {
            "cells": {
             "fill": {
              "color": "#EBF0F8"
             },
             "line": {
              "color": "white"
             }
            },
            "header": {
             "fill": {
              "color": "#C8D4E3"
             },
             "line": {
              "color": "white"
             }
            },
            "type": "table"
           }
          ]
         },
         "layout": {
          "annotationdefaults": {
           "arrowcolor": "#2a3f5f",
           "arrowhead": 0,
           "arrowwidth": 1
          },
          "autotypenumbers": "strict",
          "coloraxis": {
           "colorbar": {
            "outlinewidth": 0,
            "ticks": ""
           }
          },
          "colorscale": {
           "diverging": [
            [
             0,
             "#8e0152"
            ],
            [
             0.1,
             "#c51b7d"
            ],
            [
             0.2,
             "#de77ae"
            ],
            [
             0.3,
             "#f1b6da"
            ],
            [
             0.4,
             "#fde0ef"
            ],
            [
             0.5,
             "#f7f7f7"
            ],
            [
             0.6,
             "#e6f5d0"
            ],
            [
             0.7,
             "#b8e186"
            ],
            [
             0.8,
             "#7fbc41"
            ],
            [
             0.9,
             "#4d9221"
            ],
            [
             1,
             "#276419"
            ]
           ],
           "sequential": [
            [
             0,
             "#0d0887"
            ],
            [
             0.1111111111111111,
             "#46039f"
            ],
            [
             0.2222222222222222,
             "#7201a8"
            ],
            [
             0.3333333333333333,
             "#9c179e"
            ],
            [
             0.4444444444444444,
             "#bd3786"
            ],
            [
             0.5555555555555556,
             "#d8576b"
            ],
            [
             0.6666666666666666,
             "#ed7953"
            ],
            [
             0.7777777777777778,
             "#fb9f3a"
            ],
            [
             0.8888888888888888,
             "#fdca26"
            ],
            [
             1,
             "#f0f921"
            ]
           ],
           "sequentialminus": [
            [
             0,
             "#0d0887"
            ],
            [
             0.1111111111111111,
             "#46039f"
            ],
            [
             0.2222222222222222,
             "#7201a8"
            ],
            [
             0.3333333333333333,
             "#9c179e"
            ],
            [
             0.4444444444444444,
             "#bd3786"
            ],
            [
             0.5555555555555556,
             "#d8576b"
            ],
            [
             0.6666666666666666,
             "#ed7953"
            ],
            [
             0.7777777777777778,
             "#fb9f3a"
            ],
            [
             0.8888888888888888,
             "#fdca26"
            ],
            [
             1,
             "#f0f921"
            ]
           ]
          },
          "colorway": [
           "#636efa",
           "#EF553B",
           "#00cc96",
           "#ab63fa",
           "#FFA15A",
           "#19d3f3",
           "#FF6692",
           "#B6E880",
           "#FF97FF",
           "#FECB52"
          ],
          "font": {
           "color": "#2a3f5f"
          },
          "geo": {
           "bgcolor": "white",
           "lakecolor": "white",
           "landcolor": "#E5ECF6",
           "showlakes": true,
           "showland": true,
           "subunitcolor": "white"
          },
          "hoverlabel": {
           "align": "left"
          },
          "hovermode": "closest",
          "mapbox": {
           "style": "light"
          },
          "paper_bgcolor": "white",
          "plot_bgcolor": "#E5ECF6",
          "polar": {
           "angularaxis": {
            "gridcolor": "white",
            "linecolor": "white",
            "ticks": ""
           },
           "bgcolor": "#E5ECF6",
           "radialaxis": {
            "gridcolor": "white",
            "linecolor": "white",
            "ticks": ""
           }
          },
          "scene": {
           "xaxis": {
            "backgroundcolor": "#E5ECF6",
            "gridcolor": "white",
            "gridwidth": 2,
            "linecolor": "white",
            "showbackground": true,
            "ticks": "",
            "zerolinecolor": "white"
           },
           "yaxis": {
            "backgroundcolor": "#E5ECF6",
            "gridcolor": "white",
            "gridwidth": 2,
            "linecolor": "white",
            "showbackground": true,
            "ticks": "",
            "zerolinecolor": "white"
           },
           "zaxis": {
            "backgroundcolor": "#E5ECF6",
            "gridcolor": "white",
            "gridwidth": 2,
            "linecolor": "white",
            "showbackground": true,
            "ticks": "",
            "zerolinecolor": "white"
           }
          },
          "shapedefaults": {
           "line": {
            "color": "#2a3f5f"
           }
          },
          "ternary": {
           "aaxis": {
            "gridcolor": "white",
            "linecolor": "white",
            "ticks": ""
           },
           "baxis": {
            "gridcolor": "white",
            "linecolor": "white",
            "ticks": ""
           },
           "bgcolor": "#E5ECF6",
           "caxis": {
            "gridcolor": "white",
            "linecolor": "white",
            "ticks": ""
           }
          },
          "title": {
           "x": 0.05
          },
          "xaxis": {
           "automargin": true,
           "gridcolor": "white",
           "linecolor": "white",
           "ticks": "",
           "title": {
            "standoff": 15
           },
           "zerolinecolor": "white",
           "zerolinewidth": 2
          },
          "yaxis": {
           "automargin": true,
           "gridcolor": "white",
           "linecolor": "white",
           "ticks": "",
           "title": {
            "standoff": 15
           },
           "zerolinecolor": "white",
           "zerolinewidth": 2
          }
         }
        },
        "title": {
         "text": "Antigüedad vs Cumplimiento Objetivo"
        },
        "xaxis": {
         "anchor": "y",
         "domain": [
          0,
          1
         ],
         "title": {
          "text": "Antigüedad (meses)"
         }
        },
        "yaxis": {
         "anchor": "x",
         "domain": [
          0,
          1
         ],
         "title": {
          "text": "Monto de Venta"
         }
        }
       }
      }
     },
     "metadata": {},
     "output_type": "display_data"
    }
   ],
   "source": [
    "# Filtrar valores negativos en '% Cumplimiento Objetivo'\n",
    "df_scatter_pos = df_scatter[df_scatter['% Cumplimiento Objetivo'] >= 0].copy()\n",
    "\n",
    "fig3 = px.scatter(df_scatter_pos,\n",
    "                  x='Antigüedad del Asesor (meses)',\n",
    "                  y='Monto de Venta',\n",
    "                  color='¿Capacitado?',\n",
    "                  size='% Cumplimiento Objetivo',\n",
    "                  hover_name='Asesor',\n",
    "                  title='Antigüedad vs Cumplimiento Objetivo',\n",
    "                  labels={\n",
    "                      'Antigüedad del Asesor (meses)': 'Antigüedad (meses)',\n",
    "                      '% Cumplimiento Objetivo': '% Cumplimiento Objetivo',\n",
    "                      '¿Capacitado?': '¿Capacitado?'\n",
    "                  },\n",
    "                  size_max=20)\n",
    "fig3.show()"
   ]
  },
  {
   "cell_type": "markdown",
   "id": "1e034b82",
   "metadata": {},
   "source": [
    "## Tercera historia: Análisis de Clientes"
   ]
  },
  {
   "cell_type": "code",
   "execution_count": 13,
   "id": "27abf733",
   "metadata": {},
   "outputs": [
    {
     "data": {
      "text/plain": [
       "Index(['ID del Cliente', 'Zona', 'Canal', 'Producto', 'Monto de Venta',\n",
       "       'Edad del Cliente', '¿Capacitado?', 'Inversión en Publicidad', 'Mes',\n",
       "       'Asesor', '% Cumplimiento Objetivo', '% Clientes Nuevos',\n",
       "       'Participación en Campañas', 'Antigüedad del Asesor (meses)'],\n",
       "      dtype='object')"
      ]
     },
     "execution_count": 13,
     "metadata": {},
     "output_type": "execute_result"
    }
   ],
   "source": [
    "df.columns"
   ]
  },
  {
   "cell_type": "code",
   "execution_count": 14,
   "id": "3156e8a4",
   "metadata": {},
   "outputs": [
    {
     "data": {
      "text/plain": [
       "array(['Baja', 'Ninguna', 'Media', 'Alta', 'Desconocido'], dtype=object)"
      ]
     },
     "execution_count": 14,
     "metadata": {},
     "output_type": "execute_result"
    }
   ],
   "source": [
    "df['Participación en Campañas'].unique()"
   ]
  },
  {
   "cell_type": "code",
   "execution_count": 18,
   "id": "86a6fa23",
   "metadata": {},
   "outputs": [
    {
     "data": {
      "application/vnd.plotly.v1+json": {
       "config": {
        "plotlyServerURL": "https://plot.ly"
       },
       "data": [
        {
         "customdata": [
          [
           27,
           "Plan Retiro"
          ],
          [
           31,
           "Inversión Segura"
          ],
          [
           59,
           "Plan Retiro"
          ],
          [
           52,
           "Ahorro Plus"
          ],
          [
           38,
           "Plan Retiro"
          ],
          [
           62,
           "Plan Retiro"
          ],
          [
           19,
           "Plan Retiro"
          ],
          [
           33,
           "Ahorro Plus"
          ],
          [
           52,
           "Inversión Segura"
          ],
          [
           56,
           "Inversión Segura"
          ],
          [
           19,
           "Ahorro Plus"
          ],
          [
           44,
           "Inversión Segura"
          ],
          [
           25,
           "Ahorro Plus"
          ],
          [
           64,
           "Plan Retiro"
          ],
          [
           57,
           "Inversión Segura"
          ],
          [
           30,
           "Inversión Segura"
          ],
          [
           22,
           "Plan Retiro"
          ],
          [
           29,
           "Inversión Segura"
          ],
          [
           54,
           "Inversión Segura"
          ],
          [
           69,
           "Ahorro Plus"
          ],
          [
           46,
           "Inversión Segura"
          ],
          [
           -1,
           "Plan Retiro"
          ],
          [
           49,
           "Ahorro Plus"
          ],
          [
           47,
           "Plan Retiro"
          ],
          [
           36,
           "Ahorro Plus"
          ],
          [
           60,
           "Ahorro Plus"
          ],
          [
           53,
           "Ahorro Plus"
          ],
          [
           69,
           "Ahorro Plus"
          ],
          [
           53,
           "Ahorro Plus"
          ],
          [
           26,
           "Plan Retiro"
          ],
          [
           32,
           "Inversión Segura"
          ],
          [
           26,
           "Plan Retiro"
          ],
          [
           67,
           "Plan Retiro"
          ],
          [
           22,
           "Plan Retiro"
          ],
          [
           61,
           "Ahorro Plus"
          ],
          [
           59,
           "Plan Retiro"
          ],
          [
           24,
           "Plan Retiro"
          ],
          [
           59,
           "Inversión Segura"
          ],
          [
           48,
           "Plan Retiro"
          ],
          [
           49,
           "Plan Retiro"
          ],
          [
           34,
           "Plan Retiro"
          ],
          [
           49,
           "Inversión Segura"
          ],
          [
           56,
           "Plan Retiro"
          ],
          [
           24,
           "Inversión Segura"
          ],
          [
           64,
           "Inversión Segura"
          ],
          [
           48,
           "Ahorro Plus"
          ],
          [
           50,
           "Inversión Segura"
          ],
          [
           45,
           "Ahorro Plus"
          ],
          [
           18,
           "Plan Retiro"
          ],
          [
           45,
           "Plan Retiro"
          ],
          [
           19,
           "Ahorro Plus"
          ],
          [
           41,
           "Inversión Segura"
          ],
          [
           21,
           "Inversión Segura"
          ],
          [
           43,
           "Ahorro Plus"
          ],
          [
           20,
           "Ahorro Plus"
          ],
          [
           59,
           "Plan Retiro"
          ],
          [
           19,
           "Inversión Segura"
          ],
          [
           37,
           "Ahorro Plus"
          ],
          [
           55,
           "Ahorro Plus"
          ],
          [
           59,
           "Ahorro Plus"
          ],
          [
           59,
           "Ahorro Plus"
          ],
          [
           62,
           "Ahorro Plus"
          ],
          [
           60,
           "Ahorro Plus"
          ],
          [
           44,
           "Plan Retiro"
          ],
          [
           33,
           "Inversión Segura"
          ],
          [
           27,
           "Ahorro Plus"
          ],
          [
           -1,
           "Ahorro Plus"
          ],
          [
           32,
           "Plan Retiro"
          ],
          [
           54,
           "Plan Retiro"
          ],
          [
           37,
           "Plan Retiro"
          ],
          [
           51,
           "Ahorro Plus"
          ],
          [
           39,
           "Inversión Segura"
          ],
          [
           49,
           "Inversión Segura"
          ],
          [
           37,
           "Inversión Segura"
          ],
          [
           49,
           "Inversión Segura"
          ],
          [
           48,
           "Plan Retiro"
          ],
          [
           -1,
           "Inversión Segura"
          ],
          [
           31,
           "Inversión Segura"
          ],
          [
           32,
           "Inversión Segura"
          ],
          [
           31,
           "Ahorro Plus"
          ],
          [
           22,
           "Plan Retiro"
          ],
          [
           42,
           "Ahorro Plus"
          ],
          [
           18,
           "Plan Retiro"
          ],
          [
           -1,
           "Ahorro Plus"
          ],
          [
           46,
           "Inversión Segura"
          ],
          [
           37,
           "Ahorro Plus"
          ],
          [
           18,
           "Ahorro Plus"
          ],
          [
           34,
           "Plan Retiro"
          ],
          [
           19,
           "Ahorro Plus"
          ],
          [
           20,
           "Plan Retiro"
          ],
          [
           52,
           "Plan Retiro"
          ],
          [
           22,
           "Plan Retiro"
          ],
          [
           61,
           "Ahorro Plus"
          ],
          [
           -1,
           "Ahorro Plus"
          ],
          [
           60,
           "Inversión Segura"
          ],
          [
           25,
           "Ahorro Plus"
          ],
          [
           43,
           "Ahorro Plus"
          ],
          [
           45,
           "Inversión Segura"
          ],
          [
           32,
           "Ahorro Plus"
          ],
          [
           23,
           "Plan Retiro"
          ],
          [
           69,
           "Plan Retiro"
          ],
          [
           24,
           "Ahorro Plus"
          ],
          [
           21,
           "Ahorro Plus"
          ],
          [
           60,
           "Plan Retiro"
          ],
          [
           54,
           "Plan Retiro"
          ],
          [
           63,
           "Ahorro Plus"
          ],
          [
           30,
           "Ahorro Plus"
          ],
          [
           63,
           "Inversión Segura"
          ],
          [
           62,
           "Ahorro Plus"
          ],
          [
           47,
           "Plan Retiro"
          ],
          [
           69,
           "Inversión Segura"
          ],
          [
           32,
           "Ahorro Plus"
          ],
          [
           42,
           "Ahorro Plus"
          ],
          [
           69,
           "Inversión Segura"
          ],
          [
           59,
           "Plan Retiro"
          ],
          [
           65,
           "Plan Retiro"
          ],
          [
           60,
           "Inversión Segura"
          ],
          [
           21,
           "Inversión Segura"
          ],
          [
           31,
           "Inversión Segura"
          ],
          [
           48,
           "Ahorro Plus"
          ],
          [
           54,
           "Inversión Segura"
          ],
          [
           43,
           "Ahorro Plus"
          ],
          [
           65,
           "Inversión Segura"
          ],
          [
           56,
           "Ahorro Plus"
          ],
          [
           47,
           "Inversión Segura"
          ],
          [
           47,
           "Ahorro Plus"
          ],
          [
           47,
           "Ahorro Plus"
          ],
          [
           24,
           "Inversión Segura"
          ],
          [
           23,
           "Inversión Segura"
          ],
          [
           54,
           "Plan Retiro"
          ],
          [
           19,
           "Inversión Segura"
          ],
          [
           35,
           "Plan Retiro"
          ],
          [
           20,
           "Inversión Segura"
          ],
          [
           54,
           "Plan Retiro"
          ],
          [
           39,
           "Inversión Segura"
          ],
          [
           33,
           "Ahorro Plus"
          ],
          [
           48,
           "Plan Retiro"
          ],
          [
           31,
           "Inversión Segura"
          ],
          [
           45,
           "Ahorro Plus"
          ],
          [
           22,
           "Plan Retiro"
          ],
          [
           36,
           "Ahorro Plus"
          ],
          [
           52,
           "Inversión Segura"
          ],
          [
           21,
           "Plan Retiro"
          ],
          [
           33,
           "Inversión Segura"
          ],
          [
           31,
           "Plan Retiro"
          ],
          [
           66,
           "Inversión Segura"
          ],
          [
           18,
           "Plan Retiro"
          ],
          [
           25,
           "Plan Retiro"
          ],
          [
           66,
           "Ahorro Plus"
          ],
          [
           42,
           "Ahorro Plus"
          ],
          [
           67,
           "Inversión Segura"
          ],
          [
           22,
           "Plan Retiro"
          ],
          [
           35,
           "Inversión Segura"
          ],
          [
           64,
           "Ahorro Plus"
          ],
          [
           23,
           "Ahorro Plus"
          ],
          [
           65,
           "Plan Retiro"
          ],
          [
           56,
           "Plan Retiro"
          ],
          [
           47,
           "Plan Retiro"
          ],
          [
           37,
           "Plan Retiro"
          ],
          [
           -1,
           "Plan Retiro"
          ],
          [
           40,
           "Inversión Segura"
          ],
          [
           29,
           "Inversión Segura"
          ],
          [
           45,
           "Plan Retiro"
          ],
          [
           51,
           "Inversión Segura"
          ],
          [
           30,
           "Inversión Segura"
          ],
          [
           52,
           "Inversión Segura"
          ],
          [
           42,
           "Ahorro Plus"
          ],
          [
           68,
           "Ahorro Plus"
          ],
          [
           40,
           "Plan Retiro"
          ],
          [
           47,
           "Inversión Segura"
          ],
          [
           40,
           "Ahorro Plus"
          ],
          [
           32,
           "Inversión Segura"
          ],
          [
           40,
           "Inversión Segura"
          ],
          [
           41,
           "Plan Retiro"
          ],
          [
           24,
           "Ahorro Plus"
          ],
          [
           44,
           "Plan Retiro"
          ],
          [
           62,
           "Inversión Segura"
          ],
          [
           -1,
           "Ahorro Plus"
          ],
          [
           45,
           "Ahorro Plus"
          ],
          [
           34,
           "Plan Retiro"
          ],
          [
           45,
           "Ahorro Plus"
          ],
          [
           58,
           "Ahorro Plus"
          ],
          [
           62,
           "Inversión Segura"
          ],
          [
           66,
           "Inversión Segura"
          ],
          [
           26,
           "Inversión Segura"
          ],
          [
           50,
           "Ahorro Plus"
          ],
          [
           61,
           "Plan Retiro"
          ],
          [
           56,
           "Ahorro Plus"
          ],
          [
           47,
           "Inversión Segura"
          ],
          [
           34,
           "Ahorro Plus"
          ],
          [
           46,
           "Plan Retiro"
          ],
          [
           52,
           "Ahorro Plus"
          ],
          [
           24,
           "Inversión Segura"
          ],
          [
           38,
           "Inversión Segura"
          ],
          [
           42,
           "Plan Retiro"
          ],
          [
           59,
           "Ahorro Plus"
          ],
          [
           23,
           "Inversión Segura"
          ],
          [
           20,
           "Inversión Segura"
          ],
          [
           39,
           "Plan Retiro"
          ],
          [
           64,
           "Ahorro Plus"
          ],
          [
           36,
           "Plan Retiro"
          ],
          [
           42,
           "Ahorro Plus"
          ],
          [
           25,
           "Ahorro Plus"
          ],
          [
           45,
           "Inversión Segura"
          ],
          [
           62,
           "Ahorro Plus"
          ],
          [
           27,
           "Plan Retiro"
          ],
          [
           51,
           "Inversión Segura"
          ],
          [
           41,
           "Ahorro Plus"
          ],
          [
           23,
           "Inversión Segura"
          ],
          [
           41,
           "Plan Retiro"
          ],
          [
           28,
           "Ahorro Plus"
          ],
          [
           55,
           "Inversión Segura"
          ],
          [
           68,
           "Plan Retiro"
          ],
          [
           65,
           "Ahorro Plus"
          ],
          [
           18,
           "Plan Retiro"
          ],
          [
           46,
           "Plan Retiro"
          ],
          [
           52,
           "Ahorro Plus"
          ],
          [
           -1,
           "Inversión Segura"
          ],
          [
           44,
           "Inversión Segura"
          ],
          [
           58,
           "Plan Retiro"
          ],
          [
           34,
           "Plan Retiro"
          ],
          [
           65,
           "Inversión Segura"
          ],
          [
           48,
           "Inversión Segura"
          ],
          [
           48,
           "Ahorro Plus"
          ],
          [
           41,
           "Inversión Segura"
          ],
          [
           32,
           "Ahorro Plus"
          ],
          [
           23,
           "Ahorro Plus"
          ],
          [
           44,
           "Plan Retiro"
          ]
         ],
         "hovertemplate": "Participación en Campañas=Baja<br>Inversión en Publicidad=%{x}<br>% Clientes Nuevos=%{y}<br>Monto de Venta=%{marker.size}<br>Edad del Cliente=%{customdata[0]}<br>Producto=%{customdata[1]}<extra></extra>",
         "legendgroup": "Baja",
         "marker": {
          "color": "#636efa",
          "size": {
           "bdata": "CtejcD0ezUBI4XoUjpbQQFyPwvXo6cBAmpmZmdnlxEAfhetROM3JQM3MzMzM6MZAw/UoXK/Z00CF61G4XnjMQB+F61EYV8NAMzMzM/PJzEAfhetR6KnWQMP1KFyPAbVAw/UoXO/Q2EDD9ShcbyHLQArXo3B9RNFAZmZmZuZDr0DD9Shc74nFQFyPwvWo8dNAzczMzGwK0UAAAAAAQNXQQArXo3A968VAZmZmZqaXxUCF61G43kPUQEjhehSOn8hAXI/C9YgAxUBmZmZmlvHUQM3MzMxse9lAcT0K1wMty0DXo3A9CnbDQD0K16NQ785AH4XrUbg1y0BI4XoU7kjHQOF6FK5HJs9AZmZmZuYYskBcj8L1CBrPQJqZmZlZD9NAXI/C9Yhax0A9CtejUN7GQD0K16Mgl9BA16NwPdpy00D2KFyPwljAQAAAAAAAkdZA9ihcj+K80kB7FK5HAbLaQFK4HoWbitNAUrgehdvf1UCPwvUovBjHQEjhehQOgstA4XoUrlee0kBSuB6FK3zUQJqZmZlJqdFAFK5H4To7zEB7FK5HgYbIQClcj8JV18RArkfhelTLwEAfhetReAfFQAAAAADABNhArkfhetQv0UB7FK5HgSPYQGZmZmYWLNBAw/UoXC/5yEBcj8L1aHe7QNejcD3KPNBA16NwPRri0UAAAAAAILfSQOxRuB4lF9RAAAAAAKB4xkCkcD0KF9zMQKRwPQqHndBAFK5H4Voaz0BSuB6F60PFQEjhehRuIMVAuB6F6yE01EDNzMzMvFLVQGZmZmb2XNJAexSuRyF5vkCF61G4bt7WQLgehesxJshAuB6F6xGsyEAzMzMzc/TRQNejcD1KLtVAPQrXo1CZyEA9Ctej0JrPQI/C9Sh8RsdAMzMzM5Mow0CPwvUovJjOQHsUrkfBRMRA7FG4HrVC0EAzMzMz48LVQI/C9SjMP9NAw/UoXG+zyUDNzMzMrM7IQK5H4XqE3dBAPQrXo6Ar0ED2KFyPoubGQI/C9Sh808xAPQrXo/CoxUDXo3A9SijAQHsUrkdhM8xAcT0K14PWx0DsUbgeVX/QQDMzMzMzucBAPQrXozD+zkDhehSul8bQQMP1KFwfVdBAMzMzMyNF10A9CtejEGjMQPYoXI9yQtdAPQrXo/CjwEDsUbgeVTnVQHsUrkeh389APQrXo0C100A9Ctej0EbCQAAAAABABrlA9ihcj+L8y0D2KFyPAnnHQBSuR+HK99VAH4XrUTivwEA9CtejsEfMQAAAAABAhs5APQrXoxDHx0Bcj8L1qBXGQPYoXI/iocJAexSuR0GpyEDD9Shcb1XOQFyPwvVoIcpArkfhenTOxUDsUbgedazRQK5H4XpUpcNAZmZmZgZVyEC4HoXrkdnNQClcj8I1Oc1AKVyPwkVh0EDsUbgepUXRQK5H4Xok2NNAw/UoXK+5zUCF61G4fj7JQKRwPQrXXqJA9ihcj2K5xkA9Ctej0BPQQJqZmZnZBcxAmpmZmQkk0ECuR+F6VEXBQHE9CtcjzclAFK5H4aqo1kC4HoXrka3LQFK4HoUrtMxAH4XrUXhbxUDNzMzMfDvSQKRwPQrH+9RACtejcN1pzkBxPQrXw03LQIXrUbh+T85AFK5H4fqJ0UAfhetR+KLPQFyPwvUoYslAuB6F63FMy0Bcj8L1CFjNQM3MzMzsL89AhetRuB6xzECamZmZ6ePUQAAAAAAgjMtACtejcG3010DhehSuh7rPQJqZmZmZmtJAFK5H4fpnx0AfhetRCKTWQDMzMzPTzs9AmpmZmbmjwUCF61G4HhKiQM3MzMzcgdFAhetRuB71vkD2KFyPwo3MQOF6FK5nT8xAFK5H4bqSv0DNzMzMbIbRQOxRuB4l89RAXI/C9QhgxkDhehSuRyidQK5H4XpUt81AH4XrUdg21UAzMzMzU7jEQD0K16PgOdFA16NwPQq9xEBSuB6Fq2fQQAAAAACAh9hAPQrXo+DW0UCkcD0KV/PSQGZmZmZGAtBAXI/C9Yj21kDsUbgexSjYQFyPwvUIAcdAUrgehevVw0AfhetR2CfKQGZmZmZmlMBApHA9Cifo00BxPQrXgw7GQD0K16MAwtZAAAAAAIBBy0BmZmZmJgDPQPYoXI+ir8dAhetRuJ4zvUBxPQrXA4HFQMP1KFz/z9BAmpmZmTl1ykCkcD0Kd+fPQPYoXI+Cic9AzczMzAzNxECF61G43uLFQGZmZmamctRAcT0K16Mlu0ApXI/C1a/TQJqZmZkJMthArkfhelRhxkBSuB6Fi97OQClcj8IVhMpAmpmZmTlyyEA9CtejMA7HQLgehesRZchA7FG4HqXHz0AUrkfhakzQQOxRuB4Fi9NAzczMzKzVw0AAAAAAgCfFQDMzMzNzjstArkfhepTcyEA9CtejgE7QQOxRuB5FcLhA",
           "dtype": "f8"
          },
          "sizemode": "area",
          "sizeref": 81.198475,
          "symbol": "circle"
         },
         "mode": "markers",
         "name": "Baja",
         "showlegend": true,
         "type": "scattergl",
         "x": {
          "bdata": "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",
          "dtype": "f8"
         },
         "xaxis": "x",
         "y": {
          "bdata": "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",
          "dtype": "f8"
         },
         "yaxis": "y"
        },
        {
         "customdata": [
          [
           63,
           "Inversión Segura"
          ],
          [
           58,
           "Inversión Segura"
          ],
          [
           31,
           "Ahorro Plus"
          ],
          [
           38,
           "Ahorro Plus"
          ],
          [
           39,
           "Ahorro Plus"
          ],
          [
           29,
           "Plan Retiro"
          ],
          [
           35,
           "Ahorro Plus"
          ],
          [
           28,
           "Ahorro Plus"
          ],
          [
           66,
           "Inversión Segura"
          ],
          [
           35,
           "Inversión Segura"
          ],
          [
           33,
           "Plan Retiro"
          ],
          [
           65,
           "Inversión Segura"
          ],
          [
           43,
           "Ahorro Plus"
          ],
          [
           32,
           "Ahorro Plus"
          ],
          [
           43,
           "Inversión Segura"
          ],
          [
           33,
           "Ahorro Plus"
          ],
          [
           46,
           "Ahorro Plus"
          ],
          [
           40,
           "Plan Retiro"
          ],
          [
           33,
           "Inversión Segura"
          ],
          [
           20,
           "Ahorro Plus"
          ],
          [
           59,
           "Inversión Segura"
          ],
          [
           38,
           "Inversión Segura"
          ],
          [
           42,
           "Ahorro Plus"
          ],
          [
           39,
           "Inversión Segura"
          ],
          [
           62,
           "Plan Retiro"
          ],
          [
           40,
           "Inversión Segura"
          ],
          [
           30,
           "Ahorro Plus"
          ],
          [
           -1,
           "Inversión Segura"
          ],
          [
           69,
           "Ahorro Plus"
          ],
          [
           37,
           "Inversión Segura"
          ],
          [
           54,
           "Inversión Segura"
          ],
          [
           26,
           "Plan Retiro"
          ],
          [
           -1,
           "Ahorro Plus"
          ],
          [
           21,
           "Ahorro Plus"
          ],
          [
           48,
           "Plan Retiro"
          ],
          [
           36,
           "Ahorro Plus"
          ],
          [
           27,
           "Plan Retiro"
          ],
          [
           19,
           "Plan Retiro"
          ],
          [
           63,
           "Plan Retiro"
          ],
          [
           21,
           "Ahorro Plus"
          ],
          [
           43,
           "Plan Retiro"
          ],
          [
           67,
           "Inversión Segura"
          ],
          [
           34,
           "Inversión Segura"
          ],
          [
           49,
           "Inversión Segura"
          ],
          [
           59,
           "Ahorro Plus"
          ],
          [
           44,
           "Ahorro Plus"
          ],
          [
           66,
           "Inversión Segura"
          ],
          [
           42,
           "Inversión Segura"
          ],
          [
           64,
           "Ahorro Plus"
          ],
          [
           39,
           "Inversión Segura"
          ],
          [
           42,
           "Plan Retiro"
          ],
          [
           37,
           "Plan Retiro"
          ],
          [
           18,
           "Plan Retiro"
          ],
          [
           68,
           "Plan Retiro"
          ],
          [
           41,
           "Ahorro Plus"
          ],
          [
           48,
           "Plan Retiro"
          ],
          [
           45,
           "Plan Retiro"
          ],
          [
           41,
           "Ahorro Plus"
          ],
          [
           29,
           "Ahorro Plus"
          ],
          [
           62,
           "Plan Retiro"
          ],
          [
           39,
           "Inversión Segura"
          ],
          [
           33,
           "Ahorro Plus"
          ],
          [
           62,
           "Ahorro Plus"
          ],
          [
           49,
           "Plan Retiro"
          ],
          [
           64,
           "Inversión Segura"
          ],
          [
           62,
           "Ahorro Plus"
          ],
          [
           -1,
           "Plan Retiro"
          ],
          [
           57,
           "Ahorro Plus"
          ],
          [
           52,
           "Inversión Segura"
          ],
          [
           40,
           "Inversión Segura"
          ],
          [
           57,
           "Ahorro Plus"
          ],
          [
           30,
           "Inversión Segura"
          ],
          [
           22,
           "Inversión Segura"
          ],
          [
           62,
           "Plan Retiro"
          ],
          [
           -1,
           "Plan Retiro"
          ],
          [
           64,
           "Plan Retiro"
          ],
          [
           41,
           "Plan Retiro"
          ],
          [
           33,
           "Plan Retiro"
          ],
          [
           25,
           "Plan Retiro"
          ],
          [
           46,
           "Ahorro Plus"
          ],
          [
           56,
           "Inversión Segura"
          ],
          [
           62,
           "Plan Retiro"
          ],
          [
           25,
           "Inversión Segura"
          ],
          [
           43,
           "Inversión Segura"
          ],
          [
           26,
           "Inversión Segura"
          ],
          [
           36,
           "Ahorro Plus"
          ],
          [
           68,
           "Plan Retiro"
          ],
          [
           29,
           "Plan Retiro"
          ],
          [
           44,
           "Inversión Segura"
          ],
          [
           28,
           "Inversión Segura"
          ],
          [
           60,
           "Plan Retiro"
          ],
          [
           55,
           "Inversión Segura"
          ],
          [
           18,
           "Inversión Segura"
          ],
          [
           52,
           "Inversión Segura"
          ],
          [
           63,
           "Ahorro Plus"
          ],
          [
           33,
           "Ahorro Plus"
          ],
          [
           45,
           "Plan Retiro"
          ],
          [
           43,
           "Ahorro Plus"
          ],
          [
           -1,
           "Ahorro Plus"
          ],
          [
           31,
           "Ahorro Plus"
          ],
          [
           31,
           "Inversión Segura"
          ],
          [
           33,
           "Plan Retiro"
          ],
          [
           63,
           "Ahorro Plus"
          ],
          [
           40,
           "Inversión Segura"
          ],
          [
           24,
           "Inversión Segura"
          ],
          [
           34,
           "Ahorro Plus"
          ],
          [
           58,
           "Ahorro Plus"
          ],
          [
           27,
           "Inversión Segura"
          ],
          [
           67,
           "Ahorro Plus"
          ],
          [
           44,
           "Inversión Segura"
          ],
          [
           51,
           "Plan Retiro"
          ],
          [
           34,
           "Inversión Segura"
          ],
          [
           43,
           "Plan Retiro"
          ],
          [
           47,
           "Inversión Segura"
          ],
          [
           67,
           "Ahorro Plus"
          ],
          [
           52,
           "Plan Retiro"
          ],
          [
           36,
           "Plan Retiro"
          ],
          [
           67,
           "Ahorro Plus"
          ],
          [
           21,
           "Inversión Segura"
          ],
          [
           63,
           "Inversión Segura"
          ],
          [
           28,
           "Plan Retiro"
          ],
          [
           29,
           "Ahorro Plus"
          ],
          [
           43,
           "Plan Retiro"
          ],
          [
           40,
           "Inversión Segura"
          ],
          [
           43,
           "Ahorro Plus"
          ],
          [
           39,
           "Ahorro Plus"
          ],
          [
           35,
           "Plan Retiro"
          ],
          [
           50,
           "Ahorro Plus"
          ],
          [
           60,
           "Ahorro Plus"
          ],
          [
           32,
           "Inversión Segura"
          ],
          [
           69,
           "Inversión Segura"
          ],
          [
           35,
           "Plan Retiro"
          ],
          [
           61,
           "Inversión Segura"
          ],
          [
           35,
           "Plan Retiro"
          ],
          [
           -1,
           "Plan Retiro"
          ],
          [
           19,
           "Inversión Segura"
          ],
          [
           61,
           "Plan Retiro"
          ],
          [
           42,
           "Inversión Segura"
          ],
          [
           38,
           "Inversión Segura"
          ],
          [
           49,
           "Plan Retiro"
          ],
          [
           39,
           "Plan Retiro"
          ],
          [
           46,
           "Ahorro Plus"
          ],
          [
           -1,
           "Inversión Segura"
          ],
          [
           30,
           "Ahorro Plus"
          ],
          [
           46,
           "Plan Retiro"
          ],
          [
           68,
           "Ahorro Plus"
          ],
          [
           38,
           "Plan Retiro"
          ],
          [
           25,
           "Inversión Segura"
          ],
          [
           -1,
           "Plan Retiro"
          ],
          [
           63,
           "Plan Retiro"
          ],
          [
           65,
           "Ahorro Plus"
          ],
          [
           64,
           "Ahorro Plus"
          ],
          [
           30,
           "Ahorro Plus"
          ],
          [
           60,
           "Inversión Segura"
          ],
          [
           31,
           "Inversión Segura"
          ],
          [
           51,
           "Plan Retiro"
          ],
          [
           25,
           "Ahorro Plus"
          ],
          [
           62,
           "Ahorro Plus"
          ],
          [
           30,
           "Ahorro Plus"
          ],
          [
           35,
           "Plan Retiro"
          ],
          [
           35,
           "Inversión Segura"
          ],
          [
           62,
           "Plan Retiro"
          ],
          [
           28,
           "Plan Retiro"
          ],
          [
           36,
           "Plan Retiro"
          ],
          [
           62,
           "Inversión Segura"
          ],
          [
           61,
           "Inversión Segura"
          ],
          [
           35,
           "Ahorro Plus"
          ],
          [
           50,
           "Plan Retiro"
          ],
          [
           69,
           "Inversión Segura"
          ],
          [
           52,
           "Ahorro Plus"
          ],
          [
           52,
           "Plan Retiro"
          ],
          [
           65,
           "Inversión Segura"
          ],
          [
           62,
           "Plan Retiro"
          ],
          [
           25,
           "Ahorro Plus"
          ],
          [
           61,
           "Plan Retiro"
          ],
          [
           38,
           "Plan Retiro"
          ],
          [
           57,
           "Inversión Segura"
          ],
          [
           38,
           "Plan Retiro"
          ],
          [
           60,
           "Plan Retiro"
          ],
          [
           40,
           "Plan Retiro"
          ],
          [
           49,
           "Plan Retiro"
          ],
          [
           50,
           "Ahorro Plus"
          ],
          [
           44,
           "Plan Retiro"
          ],
          [
           62,
           "Ahorro Plus"
          ],
          [
           61,
           "Plan Retiro"
          ],
          [
           68,
           "Inversión Segura"
          ],
          [
           65,
           "Plan Retiro"
          ],
          [
           40,
           "Plan Retiro"
          ],
          [
           67,
           "Ahorro Plus"
          ],
          [
           28,
           "Ahorro Plus"
          ],
          [
           55,
           "Inversión Segura"
          ],
          [
           23,
           "Ahorro Plus"
          ],
          [
           62,
           "Ahorro Plus"
          ],
          [
           28,
           "Plan Retiro"
          ],
          [
           57,
           "Inversión Segura"
          ],
          [
           50,
           "Ahorro Plus"
          ],
          [
           36,
           "Inversión Segura"
          ],
          [
           36,
           "Plan Retiro"
          ],
          [
           40,
           "Ahorro Plus"
          ],
          [
           -1,
           "Ahorro Plus"
          ],
          [
           18,
           "Ahorro Plus"
          ],
          [
           51,
           "Inversión Segura"
          ],
          [
           33,
           "Inversión Segura"
          ],
          [
           57,
           "Plan Retiro"
          ],
          [
           51,
           "Ahorro Plus"
          ],
          [
           62,
           "Ahorro Plus"
          ],
          [
           58,
           "Plan Retiro"
          ],
          [
           35,
           "Inversión Segura"
          ],
          [
           69,
           "Ahorro Plus"
          ],
          [
           33,
           "Ahorro Plus"
          ],
          [
           69,
           "Ahorro Plus"
          ],
          [
           22,
           "Ahorro Plus"
          ],
          [
           32,
           "Plan Retiro"
          ],
          [
           64,
           "Plan Retiro"
          ],
          [
           27,
           "Plan Retiro"
          ],
          [
           58,
           "Plan Retiro"
          ],
          [
           20,
           "Ahorro Plus"
          ],
          [
           65,
           "Ahorro Plus"
          ],
          [
           26,
           "Ahorro Plus"
          ],
          [
           47,
           "Ahorro Plus"
          ],
          [
           59,
           "Ahorro Plus"
          ],
          [
           54,
           "Ahorro Plus"
          ],
          [
           27,
           "Plan Retiro"
          ],
          [
           46,
           "Inversión Segura"
          ],
          [
           68,
           "Plan Retiro"
          ],
          [
           67,
           "Ahorro Plus"
          ],
          [
           19,
           "Ahorro Plus"
          ],
          [
           42,
           "Plan Retiro"
          ],
          [
           35,
           "Plan Retiro"
          ],
          [
           36,
           "Inversión Segura"
          ],
          [
           33,
           "Ahorro Plus"
          ],
          [
           21,
           "Inversión Segura"
          ],
          [
           32,
           "Plan Retiro"
          ],
          [
           66,
           "Plan Retiro"
          ],
          [
           55,
           "Inversión Segura"
          ],
          [
           34,
           "Plan Retiro"
          ],
          [
           44,
           "Inversión Segura"
          ],
          [
           23,
           "Plan Retiro"
          ],
          [
           40,
           "Inversión Segura"
          ],
          [
           43,
           "Plan Retiro"
          ],
          [
           68,
           "Plan Retiro"
          ],
          [
           20,
           "Plan Retiro"
          ],
          [
           65,
           "Ahorro Plus"
          ],
          [
           56,
           "Ahorro Plus"
          ],
          [
           25,
           "Ahorro Plus"
          ],
          [
           21,
           "Plan Retiro"
          ],
          [
           20,
           "Ahorro Plus"
          ],
          [
           49,
           "Inversión Segura"
          ],
          [
           69,
           "Inversión Segura"
          ],
          [
           65,
           "Ahorro Plus"
          ],
          [
           67,
           "Inversión Segura"
          ]
         ],
         "hovertemplate": "Participación en Campañas=Ninguna<br>Inversión en Publicidad=%{x}<br>% Clientes Nuevos=%{y}<br>Monto de Venta=%{marker.size}<br>Edad del Cliente=%{customdata[0]}<br>Producto=%{customdata[1]}<extra></extra>",
         "legendgroup": "Ninguna",
         "marker": {
          "color": "#EF553B",
          "size": {
           "bdata": "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",
           "dtype": "f8"
          },
          "sizemode": "area",
          "sizeref": 81.198475,
          "symbol": "circle"
         },
         "mode": "markers",
         "name": "Ninguna",
         "showlegend": true,
         "type": "scattergl",
         "x": {
          "bdata": "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",
          "dtype": "f8"
         },
         "xaxis": "x",
         "y": {
          "bdata": "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",
          "dtype": "f8"
         },
         "yaxis": "y"
        },
        {
         "customdata": [
          [
           47,
           "Inversión Segura"
          ],
          [
           42,
           "Ahorro Plus"
          ],
          [
           65,
           "Plan Retiro"
          ],
          [
           51,
           "Ahorro Plus"
          ],
          [
           52,
           "Inversión Segura"
          ],
          [
           28,
           "Inversión Segura"
          ],
          [
           24,
           "Inversión Segura"
          ],
          [
           34,
           "Ahorro Plus"
          ],
          [
           68,
           "Ahorro Plus"
          ],
          [
           61,
           "Ahorro Plus"
          ],
          [
           60,
           "Inversión Segura"
          ],
          [
           64,
           "Ahorro Plus"
          ],
          [
           21,
           "Ahorro Plus"
          ],
          [
           24,
           "Ahorro Plus"
          ],
          [
           29,
           "Plan Retiro"
          ],
          [
           34,
           "Plan Retiro"
          ],
          [
           34,
           "Inversión Segura"
          ],
          [
           53,
           "Inversión Segura"
          ],
          [
           45,
           "Plan Retiro"
          ],
          [
           62,
           "Inversión Segura"
          ],
          [
           69,
           "Plan Retiro"
          ],
          [
           54,
           "Plan Retiro"
          ],
          [
           64,
           "Plan Retiro"
          ],
          [
           63,
           "Inversión Segura"
          ],
          [
           69,
           "Plan Retiro"
          ],
          [
           44,
           "Inversión Segura"
          ],
          [
           37,
           "Ahorro Plus"
          ],
          [
           23,
           "Inversión Segura"
          ],
          [
           53,
           "Ahorro Plus"
          ],
          [
           35,
           "Inversión Segura"
          ],
          [
           22,
           "Inversión Segura"
          ],
          [
           53,
           "Ahorro Plus"
          ],
          [
           46,
           "Inversión Segura"
          ],
          [
           69,
           "Plan Retiro"
          ],
          [
           36,
           "Ahorro Plus"
          ],
          [
           55,
           "Plan Retiro"
          ],
          [
           64,
           "Plan Retiro"
          ],
          [
           37,
           "Inversión Segura"
          ],
          [
           21,
           "Plan Retiro"
          ],
          [
           40,
           "Inversión Segura"
          ],
          [
           28,
           "Ahorro Plus"
          ],
          [
           46,
           "Inversión Segura"
          ],
          [
           51,
           "Plan Retiro"
          ],
          [
           59,
           "Ahorro Plus"
          ],
          [
           52,
           "Plan Retiro"
          ],
          [
           38,
           "Ahorro Plus"
          ],
          [
           19,
           "Ahorro Plus"
          ],
          [
           69,
           "Inversión Segura"
          ],
          [
           -1,
           "Inversión Segura"
          ],
          [
           33,
           "Plan Retiro"
          ],
          [
           48,
           "Inversión Segura"
          ],
          [
           60,
           "Inversión Segura"
          ],
          [
           29,
           "Plan Retiro"
          ],
          [
           64,
           "Inversión Segura"
          ],
          [
           60,
           "Ahorro Plus"
          ],
          [
           28,
           "Plan Retiro"
          ],
          [
           29,
           "Plan Retiro"
          ],
          [
           19,
           "Plan Retiro"
          ],
          [
           27,
           "Inversión Segura"
          ],
          [
           57,
           "Ahorro Plus"
          ],
          [
           50,
           "Ahorro Plus"
          ],
          [
           58,
           "Ahorro Plus"
          ],
          [
           54,
           "Inversión Segura"
          ],
          [
           33,
           "Ahorro Plus"
          ],
          [
           67,
           "Inversión Segura"
          ],
          [
           49,
           "Inversión Segura"
          ],
          [
           43,
           "Ahorro Plus"
          ],
          [
           19,
           "Ahorro Plus"
          ],
          [
           43,
           "Ahorro Plus"
          ],
          [
           49,
           "Ahorro Plus"
          ],
          [
           51,
           "Ahorro Plus"
          ],
          [
           65,
           "Plan Retiro"
          ],
          [
           56,
           "Ahorro Plus"
          ],
          [
           53,
           "Ahorro Plus"
          ],
          [
           19,
           "Inversión Segura"
          ],
          [
           46,
           "Plan Retiro"
          ],
          [
           29,
           "Plan Retiro"
          ],
          [
           31,
           "Inversión Segura"
          ],
          [
           41,
           "Ahorro Plus"
          ],
          [
           53,
           "Ahorro Plus"
          ],
          [
           42,
           "Ahorro Plus"
          ],
          [
           50,
           "Plan Retiro"
          ],
          [
           53,
           "Plan Retiro"
          ],
          [
           20,
           "Plan Retiro"
          ],
          [
           33,
           "Ahorro Plus"
          ],
          [
           21,
           "Inversión Segura"
          ],
          [
           29,
           "Plan Retiro"
          ],
          [
           33,
           "Inversión Segura"
          ],
          [
           24,
           "Inversión Segura"
          ],
          [
           63,
           "Ahorro Plus"
          ],
          [
           61,
           "Ahorro Plus"
          ],
          [
           61,
           "Inversión Segura"
          ],
          [
           51,
           "Plan Retiro"
          ],
          [
           60,
           "Ahorro Plus"
          ],
          [
           50,
           "Inversión Segura"
          ],
          [
           45,
           "Plan Retiro"
          ],
          [
           63,
           "Inversión Segura"
          ],
          [
           49,
           "Plan Retiro"
          ],
          [
           26,
           "Inversión Segura"
          ],
          [
           42,
           "Plan Retiro"
          ],
          [
           44,
           "Plan Retiro"
          ],
          [
           37,
           "Ahorro Plus"
          ],
          [
           49,
           "Plan Retiro"
          ],
          [
           56,
           "Inversión Segura"
          ],
          [
           -1,
           "Plan Retiro"
          ],
          [
           52,
           "Ahorro Plus"
          ],
          [
           63,
           "Plan Retiro"
          ],
          [
           64,
           "Ahorro Plus"
          ],
          [
           37,
           "Inversión Segura"
          ],
          [
           65,
           "Inversión Segura"
          ],
          [
           37,
           "Ahorro Plus"
          ],
          [
           62,
           "Inversión Segura"
          ],
          [
           26,
           "Inversión Segura"
          ],
          [
           21,
           "Inversión Segura"
          ],
          [
           36,
           "Inversión Segura"
          ],
          [
           44,
           "Ahorro Plus"
          ],
          [
           62,
           "Inversión Segura"
          ],
          [
           60,
           "Ahorro Plus"
          ],
          [
           30,
           "Plan Retiro"
          ],
          [
           69,
           "Plan Retiro"
          ],
          [
           64,
           "Inversión Segura"
          ],
          [
           39,
           "Ahorro Plus"
          ],
          [
           36,
           "Plan Retiro"
          ],
          [
           59,
           "Plan Retiro"
          ],
          [
           65,
           "Ahorro Plus"
          ],
          [
           60,
           "Plan Retiro"
          ],
          [
           37,
           "Inversión Segura"
          ],
          [
           65,
           "Ahorro Plus"
          ],
          [
           56,
           "Ahorro Plus"
          ],
          [
           31,
           "Plan Retiro"
          ],
          [
           43,
           "Inversión Segura"
          ],
          [
           59,
           "Plan Retiro"
          ],
          [
           55,
           "Inversión Segura"
          ],
          [
           69,
           "Plan Retiro"
          ],
          [
           59,
           "Inversión Segura"
          ],
          [
           45,
           "Ahorro Plus"
          ],
          [
           64,
           "Plan Retiro"
          ],
          [
           29,
           "Plan Retiro"
          ],
          [
           41,
           "Inversión Segura"
          ],
          [
           42,
           "Ahorro Plus"
          ],
          [
           69,
           "Inversión Segura"
          ],
          [
           21,
           "Plan Retiro"
          ],
          [
           49,
           "Plan Retiro"
          ],
          [
           66,
           "Inversión Segura"
          ],
          [
           24,
           "Plan Retiro"
          ],
          [
           28,
           "Plan Retiro"
          ],
          [
           40,
           "Inversión Segura"
          ],
          [
           40,
           "Ahorro Plus"
          ],
          [
           67,
           "Ahorro Plus"
          ],
          [
           60,
           "Inversión Segura"
          ],
          [
           42,
           "Plan Retiro"
          ],
          [
           50,
           "Inversión Segura"
          ],
          [
           53,
           "Inversión Segura"
          ],
          [
           47,
           "Plan Retiro"
          ],
          [
           45,
           "Ahorro Plus"
          ],
          [
           20,
           "Ahorro Plus"
          ],
          [
           63,
           "Inversión Segura"
          ],
          [
           46,
           "Inversión Segura"
          ],
          [
           64,
           "Ahorro Plus"
          ],
          [
           42,
           "Plan Retiro"
          ],
          [
           66,
           "Inversión Segura"
          ],
          [
           27,
           "Inversión Segura"
          ],
          [
           24,
           "Ahorro Plus"
          ],
          [
           69,
           "Inversión Segura"
          ],
          [
           50,
           "Inversión Segura"
          ],
          [
           18,
           "Inversión Segura"
          ],
          [
           61,
           "Plan Retiro"
          ],
          [
           21,
           "Plan Retiro"
          ],
          [
           24,
           "Ahorro Plus"
          ],
          [
           25,
           "Inversión Segura"
          ],
          [
           53,
           "Ahorro Plus"
          ],
          [
           44,
           "Plan Retiro"
          ],
          [
           45,
           "Plan Retiro"
          ],
          [
           58,
           "Plan Retiro"
          ],
          [
           39,
           "Ahorro Plus"
          ],
          [
           19,
           "Plan Retiro"
          ],
          [
           53,
           "Ahorro Plus"
          ],
          [
           18,
           "Ahorro Plus"
          ],
          [
           62,
           "Plan Retiro"
          ],
          [
           23,
           "Plan Retiro"
          ],
          [
           41,
           "Ahorro Plus"
          ],
          [
           47,
           "Inversión Segura"
          ],
          [
           54,
           "Inversión Segura"
          ],
          [
           29,
           "Ahorro Plus"
          ],
          [
           46,
           "Inversión Segura"
          ],
          [
           50,
           "Inversión Segura"
          ],
          [
           56,
           "Plan Retiro"
          ],
          [
           61,
           "Ahorro Plus"
          ],
          [
           24,
           "Plan Retiro"
          ],
          [
           60,
           "Inversión Segura"
          ],
          [
           55,
           "Plan Retiro"
          ],
          [
           48,
           "Plan Retiro"
          ],
          [
           28,
           "Ahorro Plus"
          ],
          [
           21,
           "Inversión Segura"
          ],
          [
           66,
           "Inversión Segura"
          ],
          [
           23,
           "Ahorro Plus"
          ],
          [
           56,
           "Ahorro Plus"
          ],
          [
           45,
           "Inversión Segura"
          ],
          [
           66,
           "Plan Retiro"
          ],
          [
           40,
           "Inversión Segura"
          ],
          [
           59,
           "Plan Retiro"
          ],
          [
           32,
           "Inversión Segura"
          ],
          [
           64,
           "Ahorro Plus"
          ],
          [
           27,
           "Plan Retiro"
          ],
          [
           32,
           "Inversión Segura"
          ],
          [
           64,
           "Plan Retiro"
          ],
          [
           55,
           "Plan Retiro"
          ],
          [
           25,
           "Plan Retiro"
          ],
          [
           37,
           "Ahorro Plus"
          ],
          [
           20,
           "Ahorro Plus"
          ],
          [
           62,
           "Inversión Segura"
          ],
          [
           30,
           "Plan Retiro"
          ],
          [
           65,
           "Plan Retiro"
          ],
          [
           24,
           "Plan Retiro"
          ],
          [
           55,
           "Ahorro Plus"
          ],
          [
           51,
           "Ahorro Plus"
          ],
          [
           58,
           "Inversión Segura"
          ],
          [
           39,
           "Ahorro Plus"
          ],
          [
           60,
           "Plan Retiro"
          ],
          [
           33,
           "Ahorro Plus"
          ],
          [
           63,
           "Ahorro Plus"
          ],
          [
           42,
           "Inversión Segura"
          ],
          [
           34,
           "Inversión Segura"
          ],
          [
           43,
           "Ahorro Plus"
          ],
          [
           23,
           "Plan Retiro"
          ],
          [
           42,
           "Plan Retiro"
          ],
          [
           35,
           "Ahorro Plus"
          ],
          [
           45,
           "Plan Retiro"
          ],
          [
           68,
           "Ahorro Plus"
          ],
          [
           49,
           "Inversión Segura"
          ],
          [
           65,
           "Ahorro Plus"
          ],
          [
           43,
           "Inversión Segura"
          ],
          [
           41,
           "Inversión Segura"
          ],
          [
           22,
           "Inversión Segura"
          ],
          [
           42,
           "Inversión Segura"
          ],
          [
           27,
           "Ahorro Plus"
          ],
          [
           64,
           "Plan Retiro"
          ],
          [
           64,
           "Inversión Segura"
          ],
          [
           67,
           "Plan Retiro"
          ],
          [
           64,
           "Inversión Segura"
          ],
          [
           68,
           "Plan Retiro"
          ],
          [
           60,
           "Ahorro Plus"
          ],
          [
           36,
           "Plan Retiro"
          ],
          [
           45,
           "Plan Retiro"
          ],
          [
           45,
           "Plan Retiro"
          ],
          [
           43,
           "Inversión Segura"
          ],
          [
           57,
           "Plan Retiro"
          ],
          [
           55,
           "Plan Retiro"
          ],
          [
           45,
           "Inversión Segura"
          ],
          [
           39,
           "Inversión Segura"
          ],
          [
           58,
           "Ahorro Plus"
          ],
          [
           23,
           "Inversión Segura"
          ],
          [
           40,
           "Plan Retiro"
          ],
          [
           38,
           "Ahorro Plus"
          ],
          [
           56,
           "Ahorro Plus"
          ],
          [
           35,
           "Ahorro Plus"
          ],
          [
           64,
           "Inversión Segura"
          ],
          [
           44,
           "Ahorro Plus"
          ],
          [
           23,
           "Plan Retiro"
          ],
          [
           48,
           "Inversión Segura"
          ],
          [
           38,
           "Ahorro Plus"
          ],
          [
           54,
           "Ahorro Plus"
          ],
          [
           58,
           "Ahorro Plus"
          ],
          [
           19,
           "Ahorro Plus"
          ],
          [
           69,
           "Ahorro Plus"
          ],
          [
           52,
           "Ahorro Plus"
          ],
          [
           42,
           "Plan Retiro"
          ],
          [
           60,
           "Ahorro Plus"
          ],
          [
           42,
           "Inversión Segura"
          ],
          [
           42,
           "Plan Retiro"
          ],
          [
           68,
           "Inversión Segura"
          ],
          [
           35,
           "Inversión Segura"
          ],
          [
           23,
           "Ahorro Plus"
          ],
          [
           23,
           "Plan Retiro"
          ],
          [
           49,
           "Inversión Segura"
          ],
          [
           59,
           "Inversión Segura"
          ],
          [
           27,
           "Ahorro Plus"
          ],
          [
           41,
           "Plan Retiro"
          ],
          [
           26,
           "Inversión Segura"
          ],
          [
           57,
           "Ahorro Plus"
          ],
          [
           62,
           "Inversión Segura"
          ],
          [
           26,
           "Plan Retiro"
          ],
          [
           35,
           "Plan Retiro"
          ],
          [
           19,
           "Ahorro Plus"
          ],
          [
           62,
           "Plan Retiro"
          ],
          [
           48,
           "Ahorro Plus"
          ],
          [
           -1,
           "Inversión Segura"
          ],
          [
           63,
           "Plan Retiro"
          ],
          [
           30,
           "Inversión Segura"
          ],
          [
           29,
           "Ahorro Plus"
          ],
          [
           26,
           "Inversión Segura"
          ],
          [
           19,
           "Ahorro Plus"
          ],
          [
           40,
           "Plan Retiro"
          ],
          [
           56,
           "Plan Retiro"
          ],
          [
           57,
           "Ahorro Plus"
          ],
          [
           56,
           "Plan Retiro"
          ],
          [
           40,
           "Inversión Segura"
          ],
          [
           31,
           "Inversión Segura"
          ],
          [
           22,
           "Inversión Segura"
          ],
          [
           48,
           "Plan Retiro"
          ],
          [
           37,
           "Ahorro Plus"
          ],
          [
           62,
           "Plan Retiro"
          ],
          [
           45,
           "Ahorro Plus"
          ],
          [
           28,
           "Ahorro Plus"
          ],
          [
           22,
           "Inversión Segura"
          ],
          [
           36,
           "Inversión Segura"
          ],
          [
           41,
           "Plan Retiro"
          ],
          [
           58,
           "Plan Retiro"
          ],
          [
           61,
           "Inversión Segura"
          ],
          [
           52,
           "Ahorro Plus"
          ],
          [
           36,
           "Inversión Segura"
          ],
          [
           24,
           "Ahorro Plus"
          ],
          [
           66,
           "Plan Retiro"
          ],
          [
           35,
           "Ahorro Plus"
          ],
          [
           33,
           "Ahorro Plus"
          ],
          [
           53,
           "Plan Retiro"
          ],
          [
           35,
           "Ahorro Plus"
          ],
          [
           42,
           "Inversión Segura"
          ],
          [
           45,
           "Inversión Segura"
          ],
          [
           68,
           "Plan Retiro"
          ],
          [
           43,
           "Inversión Segura"
          ],
          [
           38,
           "Plan Retiro"
          ],
          [
           37,
           "Plan Retiro"
          ],
          [
           62,
           "Plan Retiro"
          ],
          [
           24,
           "Inversión Segura"
          ],
          [
           24,
           "Inversión Segura"
          ],
          [
           61,
           "Ahorro Plus"
          ],
          [
           -1,
           "Plan Retiro"
          ],
          [
           53,
           "Plan Retiro"
          ],
          [
           58,
           "Inversión Segura"
          ],
          [
           52,
           "Plan Retiro"
          ],
          [
           22,
           "Plan Retiro"
          ],
          [
           69,
           "Ahorro Plus"
          ],
          [
           64,
           "Plan Retiro"
          ],
          [
           52,
           "Ahorro Plus"
          ],
          [
           69,
           "Ahorro Plus"
          ],
          [
           31,
           "Inversión Segura"
          ],
          [
           67,
           "Ahorro Plus"
          ],
          [
           32,
           "Plan Retiro"
          ]
         ],
         "hovertemplate": "Participación en Campañas=Media<br>Inversión en Publicidad=%{x}<br>% Clientes Nuevos=%{y}<br>Monto de Venta=%{marker.size}<br>Edad del Cliente=%{customdata[0]}<br>Producto=%{customdata[1]}<extra></extra>",
         "legendgroup": "Media",
         "marker": {
          "color": "#00cc96",
          "size": {
           "bdata": "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",
           "dtype": "f8"
          },
          "sizemode": "area",
          "sizeref": 81.198475,
          "symbol": "circle"
         },
         "mode": "markers",
         "name": "Media",
         "showlegend": true,
         "type": "scattergl",
         "x": {
          "bdata": "KVyPwvU8nkDhehSux/SsQB+F61E40qFAcT0K1yMIqUBI4XoUrjahQJqZmZmZV6ZAPQrXo3CYnEAfhetRuE2mQArXo3A9zqZAw/UoXA9sokAzMzMzswqmQB+F61E4mKBAPQrXo3DXo0DXo3A9ilOlQHsUrkfhv69AH4XrUThmqUA9CtejcMOtQM3MzMzMAp5AH4XrUfi/sEAzMzMzMzquQArXo3A9ip5AFK5H4XqelECuR+F6lEaqQM3MzMxMyaFAw/UoXI+drEAUrkfhemmaQPYoXI9CJatA16NwPQqzqUDNzMzMTGagQMP1KFwP3aJA4XoUrkd1rUBxPQrXo3CmQMP1KFwPOaBAmpmZmZlxmkDhehSuR22hQEjhehQumahA9ihcj8JjmUAAAAAAAAD4f+xRuB5FDLBAcT0K16O/rEDXo3A9CoOoQJqZmZkZsa1A16NwPcqYsEDhehSuxwKlQK5H4XpUbbBAw/UoXI/toEAfhetRuNuoQBSuR+F6hZxAXI/C9SgjkkAzMzMzs+SwQD0K16Nw0atA7FG4HoU/pUAAAAAAAJGgQPYoXI/CvKVAhetRuJ6dsUAfhetReNuwQFyPwvWoTqhAw/UoXA/YpkCamZmZmVKsQPYoXI/C67NAPQrXo/C5q0DNzMzMzM+mQM3MzMzMRplAexSuR+H+mUAUrkfhenueQK5H4XoUzKNAAAAAAAAA+H+uR+F6lIugQHE9CtcjRadAXI/C9ahSqkCamZmZGWKoQFyPwvUoUatASOF6FK6pqEDD9Shcj5uvQAAAAAAAGqVArkfhehSMnECPwvUo3M2jQM3MzMzMMZJAPQrXo3A5okDNzMzMTBGkQHsUrkdhoKZAhetRuB4FrEC4HoXrUVh1QArXo3C9Ua5AhetRuB4UpkCamZmZ2fSxQOF6FK7HGKhAzczMzEwMoEBmZmZm5nOwQAAAAAAAAPh/uB6F61FDnkAzMzMzM+6vQBSuR+F65qlAj8L1KNxjqUDXo3A9Cg2jQGZmZmZmcaFAexSuR+FNokDXo3A9CuScQM3MzMzM6JVA7FG4HgWyqUDXo3A9iv2oQOxRuB6FrqpArkfhehQ1kECF61G4HkuiQFyPwvWo6qdAuB6F61Hmm0DNzMzMTAOyQArXo3C9GalAMzMzM7OgrUAfhetROF2lQMP1KFxPQrBAj8L1KFyJpkA9CtejMDmxQBSuR+H6aatAhetRuJ7DqUCamZmZGfCmQDMzMzOzraRAAAAAAICTr0DD9Shcj6KiQJqZmZmZx6VAMzMzMzPmrEBSuB6F6zatQBSuR+H6VKJAKVyPwvW6qUDD9ShcD8+wQMP1KFwPbqBAw/UoXM/BsUBI4XoUriurQKRwPQrXcKZACtejcD2pnUA9CtejcJSdQM3MzMzMYrNAcT0K1yNup0DNzMzMTPGsQHE9Ctejl6xA4XoUrseerUAAAAAAADCpQAAAAAAAjapA4XoUrkc3p0AzMzMzM8WoQOF6FK7HoKRAFK5H4XrYokAfhetRuO6uQClcj8L1W6ZA16NwPQrrnUD2KFyPQrqrQJqZmZkZxadA7FG4HgXZrkAAAAAAAC+UQHE9CtcjP6xAH4XrUbhFpUAK16NwvT+hQFK4HoXrs6xAFK5H4TqPtEBSuB6FayGoQArXo3C9aKlA9ihcj0LKpEAzMzMzM4WkQClcj8K1ZbFAFK5H4XpUjECPwvUoXGmPQNejcD2KWaxA9ihcj0KlpEDhehSux0WrQClcj8L1tKNACtejcL3/qUDhehSuxyShQHE9CtcjSqFAFK5H4Xp7p0CkcD0KV92vQI/C9ShclZ9AXI/C9ai6q0DhehSuR5atQNejcD2KK6RA7FG4HoXUskDXo3A9CqWfQIXrUbgeKq1AhetRuN4AskAK16NwPYmhQAAAAAAAgKxACtejcL1yq0DsUbgehSmsQBSuR+F6lplAuB6F65ElsEC4HoXrUWOjQLgehetRqbBACtejcL2arEAfhetRODKiQFK4HoXrHapAj8L1KJxLs0DNzMzMTPSnQI/C9SjcgKRAuB6F61GSgkDsUbgehbucQKRwPQpXKqxAexSuR+FMpkCamZmZmVKqQEjhehQu1apAPQrXo3CsnEAAAAAAAMWtQKRwPQrX66BA9ihcj8K/pEBI4XoUrhedQFK4HoVrH69A7FG4HgUgrUBmZmZm5r+rQJqZmZmZHapAUrgehevvm0CF61G4nsehQGZmZmamHbJA7FG4HgUbtUCuR+F6VCyxQPYoXI9CbKhAhetRuB5jnkB7FK5H4RKLQPYoXI/CypZAH4XrUTi3rEAfhetR+AuxQHE9CtcjO6JACtejcL2XoEBmZmZmZrygQGZmZmZmiKtAFK5H4XrnmkBSuB6Fa3WpQI/C9Shch6pAFK5H4frTp0DNzMzMTNekQJqZmZmZ2JpArkfhepTVoUA9CtejcDOVQArXo3A99o9AuB6F69E9rkAAAAAAAK2YQHE9CtejeKxApHA9CtduoEA9CtejcICjQMP1KFwPAKZA9ihcj8L3pkCPwvUonD6wQIXrUbgeWahAXI/C9aj3rUBcj8L1KLmqQJqZmZmZJaJAAAAAAAAA+H/NzMzMTB+sQBSuR+G6l7NAKVyPwvVqrEDXo3A9CjmhQOxRuB4FnaJAmpmZmRnltEAzMzMzM96lQPYoXI9Ca6BAZmZmZubIqUDsUbgeheWgQEjhehQuW6NA4XoUrkfEskCamZmZmQKdQJqZmZkZQqtAPQrXo3DIpUAfhetRuCmjQIXrUbieo6xAUrgehSvFsUA9CtejcKSgQClcj8I1AbBAUrgehevEnUAzMzMzM5KTQAAAAAAAtaZA7FG4HoXan0A9CtejsIGzQKRwPQrXua1ArkfhepSip0AzMzMzs4qmQGZmZmZmnJxAcT0K16Msr0DNzMzMzEmmQArXo3C9nqBAMzMzM7Myq0CuR+F6lBuqQI/C9Sgcy7FA7FG4HoUapkBI4XoULmmhQKRwPQpXl6tAhetRuB5msUBxPQrXo4ynQPYoXI/CF61AH4XrUTgAo0AK16Nw/RK2QIXrUbgeQ69ASOF6FK5VpUBI4XoUrmyjQArXo3A9H7BAFK5H4Xo9lUBSuB6F6+yfQPYoXI9COaZASOF6FK6/j0Bcj8L1KNB6QLgehevRJ6VAAAAAAAAKqkDD9Shcj+ujQIXrUbie4qRAMzMzM7PypUCPwvUoXFqgQAAAAADAu7FAcT0K1yOlp0B7FK5HYQGnQB+F61G4xqdAcT0K1+NotECkcD0Kl4WxQB+F61G4zqRA4XoUrkeVn0CamZmZmWWrQOF6FK6HgrZAAAAAAAAA+H/Xo3A9ijqvQD0K16NwGZRACtejcL1gpEBI4XoULm6pQHE9Ctcjq6tAj8L1KNx5rkDD9ShcDxqmQArXo3A93rJAj8L1KNwKpUDhehSuR7utQNejcD0KDKxA16NwPQq3p0AK16Nw/X2xQKRwPQrXL6lA16NwPYr0oEDXo3A9CvmaQGZmZmbm9aNAFK5H4fooq0Bcj8L16ESwQFK4HoXr1qhASOF6FK4mlECuR+F6FE6iQM3MzMxMhKdA9ihcj0K7rUAAAAAAAAD4fwAAAAAAFaxA",
          "dtype": "f8"
         },
         "xaxis": "x",
         "y": {
          "bdata": "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",
          "dtype": "f8"
         },
         "yaxis": "y"
        },
        {
         "customdata": [
          [
           69,
           "Plan Retiro"
          ],
          [
           27,
           "Plan Retiro"
          ],
          [
           28,
           "Inversión Segura"
          ],
          [
           59,
           "Inversión Segura"
          ],
          [
           43,
           "Inversión Segura"
          ],
          [
           64,
           "Inversión Segura"
          ],
          [
           59,
           "Ahorro Plus"
          ],
          [
           29,
           "Plan Retiro"
          ],
          [
           30,
           "Inversión Segura"
          ],
          [
           44,
           "Plan Retiro"
          ],
          [
           60,
           "Inversión Segura"
          ],
          [
           -1,
           "Plan Retiro"
          ],
          [
           38,
           "Inversión Segura"
          ],
          [
           25,
           "Plan Retiro"
          ],
          [
           64,
           "Inversión Segura"
          ],
          [
           47,
           "Ahorro Plus"
          ],
          [
           31,
           "Inversión Segura"
          ],
          [
           27,
           "Inversión Segura"
          ],
          [
           24,
           "Inversión Segura"
          ],
          [
           46,
           "Inversión Segura"
          ],
          [
           53,
           "Ahorro Plus"
          ],
          [
           36,
           "Inversión Segura"
          ],
          [
           30,
           "Plan Retiro"
          ],
          [
           33,
           "Inversión Segura"
          ],
          [
           51,
           "Ahorro Plus"
          ],
          [
           39,
           "Inversión Segura"
          ],
          [
           64,
           "Ahorro Plus"
          ],
          [
           56,
           "Inversión Segura"
          ],
          [
           68,
           "Inversión Segura"
          ],
          [
           49,
           "Plan Retiro"
          ],
          [
           35,
           "Ahorro Plus"
          ],
          [
           21,
           "Plan Retiro"
          ],
          [
           30,
           "Plan Retiro"
          ],
          [
           36,
           "Ahorro Plus"
          ],
          [
           47,
           "Inversión Segura"
          ],
          [
           48,
           "Ahorro Plus"
          ],
          [
           41,
           "Ahorro Plus"
          ],
          [
           33,
           "Ahorro Plus"
          ],
          [
           41,
           "Plan Retiro"
          ],
          [
           18,
           "Ahorro Plus"
          ],
          [
           38,
           "Inversión Segura"
          ],
          [
           28,
           "Plan Retiro"
          ],
          [
           24,
           "Ahorro Plus"
          ],
          [
           59,
           "Ahorro Plus"
          ],
          [
           61,
           "Ahorro Plus"
          ],
          [
           36,
           "Ahorro Plus"
          ],
          [
           28,
           "Inversión Segura"
          ],
          [
           57,
           "Ahorro Plus"
          ],
          [
           20,
           "Plan Retiro"
          ],
          [
           66,
           "Inversión Segura"
          ],
          [
           33,
           "Inversión Segura"
          ],
          [
           47,
           "Ahorro Plus"
          ],
          [
           45,
           "Inversión Segura"
          ],
          [
           49,
           "Ahorro Plus"
          ],
          [
           30,
           "Ahorro Plus"
          ],
          [
           37,
           "Inversión Segura"
          ],
          [
           58,
           "Plan Retiro"
          ],
          [
           51,
           "Plan Retiro"
          ],
          [
           29,
           "Plan Retiro"
          ],
          [
           57,
           "Ahorro Plus"
          ],
          [
           29,
           "Ahorro Plus"
          ],
          [
           26,
           "Plan Retiro"
          ],
          [
           44,
           "Ahorro Plus"
          ],
          [
           31,
           "Inversión Segura"
          ],
          [
           19,
           "Plan Retiro"
          ],
          [
           56,
           "Inversión Segura"
          ],
          [
           38,
           "Ahorro Plus"
          ],
          [
           27,
           "Inversión Segura"
          ],
          [
           63,
           "Inversión Segura"
          ],
          [
           54,
           "Inversión Segura"
          ],
          [
           -1,
           "Plan Retiro"
          ],
          [
           31,
           "Plan Retiro"
          ],
          [
           23,
           "Plan Retiro"
          ],
          [
           53,
           "Inversión Segura"
          ],
          [
           53,
           "Ahorro Plus"
          ],
          [
           31,
           "Inversión Segura"
          ],
          [
           55,
           "Ahorro Plus"
          ],
          [
           40,
           "Inversión Segura"
          ],
          [
           62,
           "Ahorro Plus"
          ],
          [
           22,
           "Plan Retiro"
          ],
          [
           38,
           "Plan Retiro"
          ],
          [
           57,
           "Inversión Segura"
          ],
          [
           68,
           "Plan Retiro"
          ],
          [
           56,
           "Inversión Segura"
          ],
          [
           31,
           "Ahorro Plus"
          ],
          [
           23,
           "Ahorro Plus"
          ],
          [
           34,
           "Ahorro Plus"
          ],
          [
           58,
           "Plan Retiro"
          ],
          [
           22,
           "Plan Retiro"
          ],
          [
           44,
           "Ahorro Plus"
          ],
          [
           40,
           "Inversión Segura"
          ],
          [
           32,
           "Inversión Segura"
          ],
          [
           48,
           "Inversión Segura"
          ],
          [
           36,
           "Plan Retiro"
          ],
          [
           37,
           "Ahorro Plus"
          ],
          [
           52,
           "Ahorro Plus"
          ],
          [
           46,
           "Ahorro Plus"
          ],
          [
           23,
           "Ahorro Plus"
          ],
          [
           39,
           "Inversión Segura"
          ],
          [
           19,
           "Plan Retiro"
          ],
          [
           61,
           "Ahorro Plus"
          ],
          [
           28,
           "Ahorro Plus"
          ],
          [
           20,
           "Inversión Segura"
          ],
          [
           18,
           "Inversión Segura"
          ],
          [
           46,
           "Plan Retiro"
          ],
          [
           23,
           "Inversión Segura"
          ],
          [
           50,
           "Inversión Segura"
          ],
          [
           44,
           "Inversión Segura"
          ],
          [
           37,
           "Inversión Segura"
          ],
          [
           55,
           "Inversión Segura"
          ],
          [
           30,
           "Ahorro Plus"
          ],
          [
           39,
           "Plan Retiro"
          ],
          [
           45,
           "Plan Retiro"
          ],
          [
           68,
           "Inversión Segura"
          ],
          [
           40,
           "Inversión Segura"
          ],
          [
           30,
           "Ahorro Plus"
          ],
          [
           48,
           "Inversión Segura"
          ],
          [
           28,
           "Ahorro Plus"
          ],
          [
           51,
           "Inversión Segura"
          ],
          [
           36,
           "Plan Retiro"
          ],
          [
           63,
           "Ahorro Plus"
          ],
          [
           66,
           "Plan Retiro"
          ],
          [
           57,
           "Inversión Segura"
          ],
          [
           25,
           "Ahorro Plus"
          ],
          [
           28,
           "Inversión Segura"
          ],
          [
           56,
           "Plan Retiro"
          ],
          [
           42,
           "Plan Retiro"
          ],
          [
           43,
           "Inversión Segura"
          ],
          [
           55,
           "Plan Retiro"
          ],
          [
           68,
           "Plan Retiro"
          ],
          [
           28,
           "Plan Retiro"
          ],
          [
           58,
           "Ahorro Plus"
          ],
          [
           45,
           "Inversión Segura"
          ],
          [
           64,
           "Plan Retiro"
          ],
          [
           52,
           "Ahorro Plus"
          ],
          [
           34,
           "Plan Retiro"
          ],
          [
           62,
           "Plan Retiro"
          ],
          [
           68,
           "Ahorro Plus"
          ],
          [
           55,
           "Ahorro Plus"
          ],
          [
           59,
           "Inversión Segura"
          ],
          [
           55,
           "Inversión Segura"
          ],
          [
           39,
           "Plan Retiro"
          ],
          [
           35,
           "Ahorro Plus"
          ],
          [
           55,
           "Ahorro Plus"
          ],
          [
           21,
           "Inversión Segura"
          ],
          [
           26,
           "Ahorro Plus"
          ],
          [
           69,
           "Inversión Segura"
          ],
          [
           60,
           "Ahorro Plus"
          ],
          [
           49,
           "Plan Retiro"
          ],
          [
           35,
           "Plan Retiro"
          ],
          [
           -1,
           "Inversión Segura"
          ],
          [
           33,
           "Plan Retiro"
          ],
          [
           64,
           "Plan Retiro"
          ],
          [
           56,
           "Ahorro Plus"
          ],
          [
           65,
           "Ahorro Plus"
          ],
          [
           21,
           "Plan Retiro"
          ],
          [
           61,
           "Ahorro Plus"
          ],
          [
           35,
           "Ahorro Plus"
          ],
          [
           43,
           "Ahorro Plus"
          ],
          [
           61,
           "Ahorro Plus"
          ],
          [
           -1,
           "Ahorro Plus"
          ],
          [
           36,
           "Inversión Segura"
          ],
          [
           54,
           "Inversión Segura"
          ],
          [
           48,
           "Ahorro Plus"
          ],
          [
           59,
           "Ahorro Plus"
          ],
          [
           27,
           "Inversión Segura"
          ],
          [
           47,
           "Inversión Segura"
          ],
          [
           44,
           "Inversión Segura"
          ],
          [
           56,
           "Ahorro Plus"
          ],
          [
           26,
           "Inversión Segura"
          ],
          [
           50,
           "Plan Retiro"
          ],
          [
           61,
           "Ahorro Plus"
          ],
          [
           21,
           "Inversión Segura"
          ],
          [
           51,
           "Plan Retiro"
          ],
          [
           46,
           "Ahorro Plus"
          ],
          [
           59,
           "Ahorro Plus"
          ],
          [
           68,
           "Inversión Segura"
          ],
          [
           26,
           "Inversión Segura"
          ],
          [
           62,
           "Plan Retiro"
          ],
          [
           49,
           "Ahorro Plus"
          ],
          [
           22,
           "Plan Retiro"
          ],
          [
           49,
           "Ahorro Plus"
          ],
          [
           27,
           "Plan Retiro"
          ],
          [
           56,
           "Plan Retiro"
          ],
          [
           24,
           "Ahorro Plus"
          ],
          [
           20,
           "Plan Retiro"
          ],
          [
           46,
           "Inversión Segura"
          ],
          [
           29,
           "Inversión Segura"
          ],
          [
           36,
           "Plan Retiro"
          ],
          [
           20,
           "Inversión Segura"
          ],
          [
           25,
           "Inversión Segura"
          ],
          [
           64,
           "Ahorro Plus"
          ],
          [
           40,
           "Inversión Segura"
          ],
          [
           20,
           "Ahorro Plus"
          ],
          [
           26,
           "Inversión Segura"
          ],
          [
           30,
           "Ahorro Plus"
          ],
          [
           32,
           "Ahorro Plus"
          ],
          [
           41,
           "Inversión Segura"
          ],
          [
           54,
           "Inversión Segura"
          ],
          [
           -1,
           "Plan Retiro"
          ],
          [
           27,
           "Plan Retiro"
          ],
          [
           29,
           "Inversión Segura"
          ],
          [
           31,
           "Ahorro Plus"
          ],
          [
           58,
           "Ahorro Plus"
          ],
          [
           53,
           "Inversión Segura"
          ],
          [
           40,
           "Inversión Segura"
          ],
          [
           60,
           "Inversión Segura"
          ],
          [
           60,
           "Inversión Segura"
          ],
          [
           -1,
           "Inversión Segura"
          ],
          [
           -1,
           "Ahorro Plus"
          ],
          [
           57,
           "Plan Retiro"
          ],
          [
           49,
           "Inversión Segura"
          ],
          [
           37,
           "Ahorro Plus"
          ],
          [
           45,
           "Plan Retiro"
          ],
          [
           50,
           "Plan Retiro"
          ],
          [
           21,
           "Inversión Segura"
          ],
          [
           63,
           "Inversión Segura"
          ],
          [
           20,
           "Plan Retiro"
          ],
          [
           33,
           "Plan Retiro"
          ],
          [
           64,
           "Plan Retiro"
          ],
          [
           19,
           "Ahorro Plus"
          ],
          [
           67,
           "Plan Retiro"
          ],
          [
           29,
           "Plan Retiro"
          ],
          [
           30,
           "Ahorro Plus"
          ],
          [
           52,
           "Ahorro Plus"
          ],
          [
           43,
           "Ahorro Plus"
          ],
          [
           63,
           "Ahorro Plus"
          ],
          [
           31,
           "Ahorro Plus"
          ],
          [
           41,
           "Ahorro Plus"
          ],
          [
           58,
           "Plan Retiro"
          ],
          [
           18,
           "Ahorro Plus"
          ],
          [
           39,
           "Plan Retiro"
          ],
          [
           36,
           "Plan Retiro"
          ],
          [
           66,
           "Inversión Segura"
          ],
          [
           54,
           "Inversión Segura"
          ],
          [
           33,
           "Inversión Segura"
          ],
          [
           40,
           "Plan Retiro"
          ],
          [
           39,
           "Ahorro Plus"
          ],
          [
           33,
           "Ahorro Plus"
          ],
          [
           43,
           "Plan Retiro"
          ],
          [
           18,
           "Plan Retiro"
          ],
          [
           30,
           "Inversión Segura"
          ],
          [
           60,
           "Ahorro Plus"
          ],
          [
           35,
           "Ahorro Plus"
          ],
          [
           57,
           "Ahorro Plus"
          ],
          [
           68,
           "Plan Retiro"
          ],
          [
           59,
           "Inversión Segura"
          ],
          [
           67,
           "Ahorro Plus"
          ],
          [
           65,
           "Inversión Segura"
          ],
          [
           37,
           "Inversión Segura"
          ],
          [
           26,
           "Plan Retiro"
          ],
          [
           62,
           "Ahorro Plus"
          ],
          [
           43,
           "Inversión Segura"
          ],
          [
           57,
           "Plan Retiro"
          ],
          [
           30,
           "Inversión Segura"
          ],
          [
           66,
           "Ahorro Plus"
          ],
          [
           42,
           "Ahorro Plus"
          ],
          [
           23,
           "Plan Retiro"
          ],
          [
           31,
           "Plan Retiro"
          ],
          [
           20,
           "Plan Retiro"
          ],
          [
           52,
           "Plan Retiro"
          ],
          [
           41,
           "Plan Retiro"
          ],
          [
           35,
           "Ahorro Plus"
          ],
          [
           66,
           "Inversión Segura"
          ],
          [
           41,
           "Plan Retiro"
          ],
          [
           18,
           "Ahorro Plus"
          ],
          [
           53,
           "Plan Retiro"
          ],
          [
           62,
           "Plan Retiro"
          ],
          [
           51,
           "Plan Retiro"
          ],
          [
           33,
           "Inversión Segura"
          ],
          [
           51,
           "Inversión Segura"
          ],
          [
           46,
           "Plan Retiro"
          ],
          [
           33,
           "Inversión Segura"
          ],
          [
           59,
           "Inversión Segura"
          ],
          [
           36,
           "Ahorro Plus"
          ],
          [
           38,
           "Ahorro Plus"
          ],
          [
           65,
           "Ahorro Plus"
          ],
          [
           60,
           "Ahorro Plus"
          ],
          [
           48,
           "Ahorro Plus"
          ],
          [
           69,
           "Ahorro Plus"
          ],
          [
           48,
           "Plan Retiro"
          ],
          [
           32,
           "Ahorro Plus"
          ],
          [
           21,
           "Ahorro Plus"
          ],
          [
           -1,
           "Inversión Segura"
          ],
          [
           43,
           "Inversión Segura"
          ],
          [
           21,
           "Inversión Segura"
          ],
          [
           32,
           "Ahorro Plus"
          ],
          [
           52,
           "Ahorro Plus"
          ],
          [
           22,
           "Ahorro Plus"
          ],
          [
           37,
           "Plan Retiro"
          ],
          [
           30,
           "Ahorro Plus"
          ],
          [
           21,
           "Plan Retiro"
          ],
          [
           28,
           "Ahorro Plus"
          ],
          [
           54,
           "Ahorro Plus"
          ],
          [
           30,
           "Inversión Segura"
          ],
          [
           69,
           "Plan Retiro"
          ],
          [
           43,
           "Ahorro Plus"
          ],
          [
           48,
           "Ahorro Plus"
          ],
          [
           34,
           "Plan Retiro"
          ],
          [
           30,
           "Inversión Segura"
          ],
          [
           56,
           "Plan Retiro"
          ],
          [
           37,
           "Inversión Segura"
          ],
          [
           31,
           "Inversión Segura"
          ],
          [
           53,
           "Ahorro Plus"
          ],
          [
           33,
           "Plan Retiro"
          ],
          [
           64,
           "Ahorro Plus"
          ],
          [
           57,
           "Plan Retiro"
          ],
          [
           68,
           "Inversión Segura"
          ],
          [
           69,
           "Plan Retiro"
          ],
          [
           36,
           "Plan Retiro"
          ],
          [
           59,
           "Ahorro Plus"
          ],
          [
           30,
           "Inversión Segura"
          ],
          [
           24,
           "Ahorro Plus"
          ],
          [
           42,
           "Ahorro Plus"
          ],
          [
           46,
           "Inversión Segura"
          ],
          [
           34,
           "Plan Retiro"
          ],
          [
           63,
           "Plan Retiro"
          ],
          [
           28,
           "Ahorro Plus"
          ],
          [
           51,
           "Plan Retiro"
          ],
          [
           47,
           "Ahorro Plus"
          ],
          [
           49,
           "Inversión Segura"
          ],
          [
           39,
           "Inversión Segura"
          ],
          [
           24,
           "Plan Retiro"
          ],
          [
           26,
           "Plan Retiro"
          ],
          [
           -1,
           "Inversión Segura"
          ],
          [
           57,
           "Ahorro Plus"
          ],
          [
           18,
           "Ahorro Plus"
          ],
          [
           44,
           "Plan Retiro"
          ],
          [
           33,
           "Ahorro Plus"
          ],
          [
           55,
           "Ahorro Plus"
          ],
          [
           40,
           "Inversión Segura"
          ],
          [
           59,
           "Plan Retiro"
          ],
          [
           50,
           "Ahorro Plus"
          ],
          [
           67,
           "Inversión Segura"
          ],
          [
           54,
           "Inversión Segura"
          ],
          [
           65,
           "Inversión Segura"
          ],
          [
           31,
           "Inversión Segura"
          ],
          [
           34,
           "Ahorro Plus"
          ],
          [
           40,
           "Plan Retiro"
          ],
          [
           35,
           "Plan Retiro"
          ],
          [
           32,
           "Ahorro Plus"
          ]
         ],
         "hovertemplate": "Participación en Campañas=Alta<br>Inversión en Publicidad=%{x}<br>% Clientes Nuevos=%{y}<br>Monto de Venta=%{marker.size}<br>Edad del Cliente=%{customdata[0]}<br>Producto=%{customdata[1]}<extra></extra>",
         "legendgroup": "Alta",
         "marker": {
          "color": "#ab63fa",
          "size": {
           "bdata": "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",
           "dtype": "f8"
          },
          "sizemode": "area",
          "sizeref": 81.198475,
          "symbol": "circle"
         },
         "mode": "markers",
         "name": "Alta",
         "showlegend": true,
         "type": "scattergl",
         "x": {
          "bdata": "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",
          "dtype": "f8"
         },
         "xaxis": "x",
         "y": {
          "bdata": "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",
          "dtype": "f8"
         },
         "yaxis": "y"
        },
        {
         "customdata": [
          [
           67,
           "Ahorro Plus"
          ],
          [
           62,
           "Ahorro Plus"
          ],
          [
           62,
           "Inversión Segura"
          ],
          [
           34,
           "Plan Retiro"
          ],
          [
           48,
           "Plan Retiro"
          ],
          [
           68,
           "Ahorro Plus"
          ],
          [
           29,
           "Ahorro Plus"
          ],
          [
           36,
           "Inversión Segura"
          ],
          [
           41,
           "Inversión Segura"
          ],
          [
           29,
           "Inversión Segura"
          ],
          [
           38,
           "Ahorro Plus"
          ],
          [
           45,
           "Inversión Segura"
          ],
          [
           19,
           "Inversión Segura"
          ],
          [
           61,
           "Inversión Segura"
          ],
          [
           52,
           "Plan Retiro"
          ]
         ],
         "hovertemplate": "Participación en Campañas=Desconocido<br>Inversión en Publicidad=%{x}<br>% Clientes Nuevos=%{y}<br>Monto de Venta=%{marker.size}<br>Edad del Cliente=%{customdata[0]}<br>Producto=%{customdata[1]}<extra></extra>",
         "legendgroup": "Desconocido",
         "marker": {
          "color": "#FFA15A",
          "size": {
           "bdata": "9ihcj2KfzkAK16Nwnb/KQPYoXI8i78dAexSuRyHR00A9CtejsCXLQPYoXI9CmslACtejcA361kCPwvUoPC3SQArXo3CdP9JACtejcH3qzECF61G4zgvXQI/C9Sjs6NdAAAAAADBF1kBxPQrXE1nVQK5H4Xrk5NFA",
           "dtype": "f8"
          },
          "sizemode": "area",
          "sizeref": 81.198475,
          "symbol": "circle"
         },
         "mode": "markers",
         "name": "Desconocido",
         "showlegend": true,
         "type": "scattergl",
         "x": {
          "bdata": "CtejcD1vn0DhehSux02iQM3MzMyMSbNAzczMzMxkpkBSuB6F6+usQLgehevRb7BAH4XrUbgHrkCkcD0K1zGvQFyPwvUoypBAXI/C9Sikl0DNzMzMDECyQEjhehSu3KlAj8L1KFwypEBI4XoUrhaXQIXrUbgeUaVA",
          "dtype": "f8"
         },
         "xaxis": "x",
         "y": {
          "bdata": "PQrXo3A96j9I4XoUrkfRP3E9CtejcM0/SOF6FK5H4T+uR+F6FK7nPzMzMzMzM+M/cT0K16Nw3T+amZmZmZnJP+xRuB6F6+k/cT0K16Nw3T8K16NwPQrXP9ejcD0K1+s/j8L1KFyP0j+amZmZmZnJP5qZmZmZmeE/",
          "dtype": "f8"
         },
         "yaxis": "y"
        }
       ],
       "layout": {
        "legend": {
         "itemsizing": "constant",
         "title": {
          "text": "Participación en Campañas"
         },
         "tracegroupgap": 0
        },
        "template": {
         "data": {
          "bar": [
           {
            "error_x": {
             "color": "#2a3f5f"
            },
            "error_y": {
             "color": "#2a3f5f"
            },
            "marker": {
             "line": {
              "color": "#E5ECF6",
              "width": 0.5
             },
             "pattern": {
              "fillmode": "overlay",
              "size": 10,
              "solidity": 0.2
             }
            },
            "type": "bar"
           }
          ],
          "barpolar": [
           {
            "marker": {
             "line": {
              "color": "#E5ECF6",
              "width": 0.5
             },
             "pattern": {
              "fillmode": "overlay",
              "size": 10,
              "solidity": 0.2
             }
            },
            "type": "barpolar"
           }
          ],
          "carpet": [
           {
            "aaxis": {
             "endlinecolor": "#2a3f5f",
             "gridcolor": "white",
             "linecolor": "white",
             "minorgridcolor": "white",
             "startlinecolor": "#2a3f5f"
            },
            "baxis": {
             "endlinecolor": "#2a3f5f",
             "gridcolor": "white",
             "linecolor": "white",
             "minorgridcolor": "white",
             "startlinecolor": "#2a3f5f"
            },
            "type": "carpet"
           }
          ],
          "choropleth": [
           {
            "colorbar": {
             "outlinewidth": 0,
             "ticks": ""
            },
            "type": "choropleth"
           }
          ],
          "contour": [
           {
            "colorbar": {
             "outlinewidth": 0,
             "ticks": ""
            },
            "colorscale": [
             [
              0,
              "#0d0887"
             ],
             [
              0.1111111111111111,
              "#46039f"
             ],
             [
              0.2222222222222222,
              "#7201a8"
             ],
             [
              0.3333333333333333,
              "#9c179e"
             ],
             [
              0.4444444444444444,
              "#bd3786"
             ],
             [
              0.5555555555555556,
              "#d8576b"
             ],
             [
              0.6666666666666666,
              "#ed7953"
             ],
             [
              0.7777777777777778,
              "#fb9f3a"
             ],
             [
              0.8888888888888888,
              "#fdca26"
             ],
             [
              1,
              "#f0f921"
             ]
            ],
            "type": "contour"
           }
          ],
          "contourcarpet": [
           {
            "colorbar": {
             "outlinewidth": 0,
             "ticks": ""
            },
            "type": "contourcarpet"
           }
          ],
          "heatmap": [
           {
            "colorbar": {
             "outlinewidth": 0,
             "ticks": ""
            },
            "colorscale": [
             [
              0,
              "#0d0887"
             ],
             [
              0.1111111111111111,
              "#46039f"
             ],
             [
              0.2222222222222222,
              "#7201a8"
             ],
             [
              0.3333333333333333,
              "#9c179e"
             ],
             [
              0.4444444444444444,
              "#bd3786"
             ],
             [
              0.5555555555555556,
              "#d8576b"
             ],
             [
              0.6666666666666666,
              "#ed7953"
             ],
             [
              0.7777777777777778,
              "#fb9f3a"
             ],
             [
              0.8888888888888888,
              "#fdca26"
             ],
             [
              1,
              "#f0f921"
             ]
            ],
            "type": "heatmap"
           }
          ],
          "histogram": [
           {
            "marker": {
             "pattern": {
              "fillmode": "overlay",
              "size": 10,
              "solidity": 0.2
             }
            },
            "type": "histogram"
           }
          ],
          "histogram2d": [
           {
            "colorbar": {
             "outlinewidth": 0,
             "ticks": ""
            },
            "colorscale": [
             [
              0,
              "#0d0887"
             ],
             [
              0.1111111111111111,
              "#46039f"
             ],
             [
              0.2222222222222222,
              "#7201a8"
             ],
             [
              0.3333333333333333,
              "#9c179e"
             ],
             [
              0.4444444444444444,
              "#bd3786"
             ],
             [
              0.5555555555555556,
              "#d8576b"
             ],
             [
              0.6666666666666666,
              "#ed7953"
             ],
             [
              0.7777777777777778,
              "#fb9f3a"
             ],
             [
              0.8888888888888888,
              "#fdca26"
             ],
             [
              1,
              "#f0f921"
             ]
            ],
            "type": "histogram2d"
           }
          ],
          "histogram2dcontour": [
           {
            "colorbar": {
             "outlinewidth": 0,
             "ticks": ""
            },
            "colorscale": [
             [
              0,
              "#0d0887"
             ],
             [
              0.1111111111111111,
              "#46039f"
             ],
             [
              0.2222222222222222,
              "#7201a8"
             ],
             [
              0.3333333333333333,
              "#9c179e"
             ],
             [
              0.4444444444444444,
              "#bd3786"
             ],
             [
              0.5555555555555556,
              "#d8576b"
             ],
             [
              0.6666666666666666,
              "#ed7953"
             ],
             [
              0.7777777777777778,
              "#fb9f3a"
             ],
             [
              0.8888888888888888,
              "#fdca26"
             ],
             [
              1,
              "#f0f921"
             ]
            ],
            "type": "histogram2dcontour"
           }
          ],
          "mesh3d": [
           {
            "colorbar": {
             "outlinewidth": 0,
             "ticks": ""
            },
            "type": "mesh3d"
           }
          ],
          "parcoords": [
           {
            "line": {
             "colorbar": {
              "outlinewidth": 0,
              "ticks": ""
             }
            },
            "type": "parcoords"
           }
          ],
          "pie": [
           {
            "automargin": true,
            "type": "pie"
           }
          ],
          "scatter": [
           {
            "fillpattern": {
             "fillmode": "overlay",
             "size": 10,
             "solidity": 0.2
            },
            "type": "scatter"
           }
          ],
          "scatter3d": [
           {
            "line": {
             "colorbar": {
              "outlinewidth": 0,
              "ticks": ""
             }
            },
            "marker": {
             "colorbar": {
              "outlinewidth": 0,
              "ticks": ""
             }
            },
            "type": "scatter3d"
           }
          ],
          "scattercarpet": [
           {
            "marker": {
             "colorbar": {
              "outlinewidth": 0,
              "ticks": ""
             }
            },
            "type": "scattercarpet"
           }
          ],
          "scattergeo": [
           {
            "marker": {
             "colorbar": {
              "outlinewidth": 0,
              "ticks": ""
             }
            },
            "type": "scattergeo"
           }
          ],
          "scattergl": [
           {
            "marker": {
             "colorbar": {
              "outlinewidth": 0,
              "ticks": ""
             }
            },
            "type": "scattergl"
           }
          ],
          "scattermap": [
           {
            "marker": {
             "colorbar": {
              "outlinewidth": 0,
              "ticks": ""
             }
            },
            "type": "scattermap"
           }
          ],
          "scattermapbox": [
           {
            "marker": {
             "colorbar": {
              "outlinewidth": 0,
              "ticks": ""
             }
            },
            "type": "scattermapbox"
           }
          ],
          "scatterpolar": [
           {
            "marker": {
             "colorbar": {
              "outlinewidth": 0,
              "ticks": ""
             }
            },
            "type": "scatterpolar"
           }
          ],
          "scatterpolargl": [
           {
            "marker": {
             "colorbar": {
              "outlinewidth": 0,
              "ticks": ""
             }
            },
            "type": "scatterpolargl"
           }
          ],
          "scatterternary": [
           {
            "marker": {
             "colorbar": {
              "outlinewidth": 0,
              "ticks": ""
             }
            },
            "type": "scatterternary"
           }
          ],
          "surface": [
           {
            "colorbar": {
             "outlinewidth": 0,
             "ticks": ""
            },
            "colorscale": [
             [
              0,
              "#0d0887"
             ],
             [
              0.1111111111111111,
              "#46039f"
             ],
             [
              0.2222222222222222,
              "#7201a8"
             ],
             [
              0.3333333333333333,
              "#9c179e"
             ],
             [
              0.4444444444444444,
              "#bd3786"
             ],
             [
              0.5555555555555556,
              "#d8576b"
             ],
             [
              0.6666666666666666,
              "#ed7953"
             ],
             [
              0.7777777777777778,
              "#fb9f3a"
             ],
             [
              0.8888888888888888,
              "#fdca26"
             ],
             [
              1,
              "#f0f921"
             ]
            ],
            "type": "surface"
           }
          ],
          "table": [
           {
            "cells": {
             "fill": {
              "color": "#EBF0F8"
             },
             "line": {
              "color": "white"
             }
            },
            "header": {
             "fill": {
              "color": "#C8D4E3"
             },
             "line": {
              "color": "white"
             }
            },
            "type": "table"
           }
          ]
         },
         "layout": {
          "annotationdefaults": {
           "arrowcolor": "#2a3f5f",
           "arrowhead": 0,
           "arrowwidth": 1
          },
          "autotypenumbers": "strict",
          "coloraxis": {
           "colorbar": {
            "outlinewidth": 0,
            "ticks": ""
           }
          },
          "colorscale": {
           "diverging": [
            [
             0,
             "#8e0152"
            ],
            [
             0.1,
             "#c51b7d"
            ],
            [
             0.2,
             "#de77ae"
            ],
            [
             0.3,
             "#f1b6da"
            ],
            [
             0.4,
             "#fde0ef"
            ],
            [
             0.5,
             "#f7f7f7"
            ],
            [
             0.6,
             "#e6f5d0"
            ],
            [
             0.7,
             "#b8e186"
            ],
            [
             0.8,
             "#7fbc41"
            ],
            [
             0.9,
             "#4d9221"
            ],
            [
             1,
             "#276419"
            ]
           ],
           "sequential": [
            [
             0,
             "#0d0887"
            ],
            [
             0.1111111111111111,
             "#46039f"
            ],
            [
             0.2222222222222222,
             "#7201a8"
            ],
            [
             0.3333333333333333,
             "#9c179e"
            ],
            [
             0.4444444444444444,
             "#bd3786"
            ],
            [
             0.5555555555555556,
             "#d8576b"
            ],
            [
             0.6666666666666666,
             "#ed7953"
            ],
            [
             0.7777777777777778,
             "#fb9f3a"
            ],
            [
             0.8888888888888888,
             "#fdca26"
            ],
            [
             1,
             "#f0f921"
            ]
           ],
           "sequentialminus": [
            [
             0,
             "#0d0887"
            ],
            [
             0.1111111111111111,
             "#46039f"
            ],
            [
             0.2222222222222222,
             "#7201a8"
            ],
            [
             0.3333333333333333,
             "#9c179e"
            ],
            [
             0.4444444444444444,
             "#bd3786"
            ],
            [
             0.5555555555555556,
             "#d8576b"
            ],
            [
             0.6666666666666666,
             "#ed7953"
            ],
            [
             0.7777777777777778,
             "#fb9f3a"
            ],
            [
             0.8888888888888888,
             "#fdca26"
            ],
            [
             1,
             "#f0f921"
            ]
           ]
          },
          "colorway": [
           "#636efa",
           "#EF553B",
           "#00cc96",
           "#ab63fa",
           "#FFA15A",
           "#19d3f3",
           "#FF6692",
           "#B6E880",
           "#FF97FF",
           "#FECB52"
          ],
          "font": {
           "color": "#2a3f5f"
          },
          "geo": {
           "bgcolor": "white",
           "lakecolor": "white",
           "landcolor": "#E5ECF6",
           "showlakes": true,
           "showland": true,
           "subunitcolor": "white"
          },
          "hoverlabel": {
           "align": "left"
          },
          "hovermode": "closest",
          "mapbox": {
           "style": "light"
          },
          "paper_bgcolor": "white",
          "plot_bgcolor": "#E5ECF6",
          "polar": {
           "angularaxis": {
            "gridcolor": "white",
            "linecolor": "white",
            "ticks": ""
           },
           "bgcolor": "#E5ECF6",
           "radialaxis": {
            "gridcolor": "white",
            "linecolor": "white",
            "ticks": ""
           }
          },
          "scene": {
           "xaxis": {
            "backgroundcolor": "#E5ECF6",
            "gridcolor": "white",
            "gridwidth": 2,
            "linecolor": "white",
            "showbackground": true,
            "ticks": "",
            "zerolinecolor": "white"
           },
           "yaxis": {
            "backgroundcolor": "#E5ECF6",
            "gridcolor": "white",
            "gridwidth": 2,
            "linecolor": "white",
            "showbackground": true,
            "ticks": "",
            "zerolinecolor": "white"
           },
           "zaxis": {
            "backgroundcolor": "#E5ECF6",
            "gridcolor": "white",
            "gridwidth": 2,
            "linecolor": "white",
            "showbackground": true,
            "ticks": "",
            "zerolinecolor": "white"
           }
          },
          "shapedefaults": {
           "line": {
            "color": "#2a3f5f"
           }
          },
          "ternary": {
           "aaxis": {
            "gridcolor": "white",
            "linecolor": "white",
            "ticks": ""
           },
           "baxis": {
            "gridcolor": "white",
            "linecolor": "white",
            "ticks": ""
           },
           "bgcolor": "#E5ECF6",
           "caxis": {
            "gridcolor": "white",
            "linecolor": "white",
            "ticks": ""
           }
          },
          "title": {
           "x": 0.05
          },
          "xaxis": {
           "automargin": true,
           "gridcolor": "white",
           "linecolor": "white",
           "ticks": "",
           "title": {
            "standoff": 15
           },
           "zerolinecolor": "white",
           "zerolinewidth": 2
          },
          "yaxis": {
           "automargin": true,
           "gridcolor": "white",
           "linecolor": "white",
           "ticks": "",
           "title": {
            "standoff": 15
           },
           "zerolinecolor": "white",
           "zerolinewidth": 2
          }
         }
        },
        "title": {
         "text": "% Clientes Nuevos vs Inversión en Publicidad"
        },
        "xaxis": {
         "anchor": "y",
         "domain": [
          0,
          1
         ],
         "title": {
          "text": "Inversión en Publicidad"
         }
        },
        "yaxis": {
         "anchor": "x",
         "domain": [
          0,
          1
         ],
         "title": {
          "text": "% Clientes Nuevos"
         }
        }
       }
      }
     },
     "metadata": {},
     "output_type": "display_data"
    }
   ],
   "source": [
    "df_filtrado = df[df['Monto de Venta'] >= 0]\n",
    "\n",
    "fig1 = px.scatter(\n",
    "    df_filtrado,\n",
    "    x=\"Inversión en Publicidad\",\n",
    "    y=\"% Clientes Nuevos\",\n",
    "    color=\"Participación en Campañas\",\n",
    "    size=\"Monto de Venta\",\n",
    "    hover_data=[\"Edad del Cliente\", \"Producto\"],\n",
    "    title=\"% Clientes Nuevos vs Inversión en Publicidad\"\n",
    ")\n",
    "fig1.show()"
   ]
  },
  {
   "cell_type": "code",
   "execution_count": 20,
   "id": "cf64765a",
   "metadata": {},
   "outputs": [
    {
     "data": {
      "application/vnd.plotly.v1+json": {
       "config": {
        "plotlyServerURL": "https://plot.ly"
       },
       "data": [
        {
         "customdata": [
          [
           3115.12,
           "Baja"
          ],
          [
           3069.54,
           "Baja"
          ],
          [
           3678.46,
           "Alta"
          ],
          [
           2281.11,
           "Media"
          ],
          [
           2295.39,
           "Alta"
          ],
          [
           2977.42,
           "Baja"
          ],
          [
           3268.62,
           "Baja"
          ],
          [
           2926.84,
           "Baja"
          ],
          [
           3761.69,
           "Ninguna"
          ],
          [
           3862.91,
           "Ninguna"
          ],
          [
           3008.65,
           "Alta"
          ],
          [
           2592.89,
           "Alta"
          ],
          [
           1944.38,
           "Baja"
          ],
          [
           4063.94,
           "Media"
          ],
          [
           3251.11,
           "Media"
          ],
          [
           2922.42,
           "Alta"
          ],
          [
           2448.54,
           "Alta"
          ],
          [
           3024.1,
           "Baja"
          ],
          [
           4287.97,
           "Media"
          ],
          [
           4084.13,
           "Ninguna"
          ],
          [
           1954.56,
           "Media"
          ],
          [
           1319.62,
           "Media"
          ],
          [
           3363.29,
           "Media"
          ],
          [
           3662.78,
           "Media"
          ],
          [
           2456.53,
           "Alta"
          ],
          [
           3626.47,
           "Baja"
          ],
          [
           3080.25,
           "Baja"
          ],
          [
           2071.52,
           "Ninguna"
          ],
          [
           1692.4,
           "Media"
          ],
          [
           2871.7,
           "Baja"
          ],
          [
           3148.59,
           "Media"
          ],
          [
           1624.94,
           "Media"
          ],
          [
           3859.98,
           "Baja"
          ],
          [
           2406.28,
           "Alta"
          ],
          [
           4108.27,
           "Media"
          ],
          [
           2431.94,
           "Baja"
          ],
          [
           3080.31,
           "Baja"
          ],
          [
           3205.01,
           "Alta"
          ],
          [
           4248.79,
           "Media"
          ],
          [
           3219.65,
           "Alta"
          ],
          [
           2799.27,
           "Ninguna"
          ],
          [
           1743.87,
           "Baja"
          ],
          [
           1985.08,
           "Baja"
          ],
          [
           1802.52,
           "Baja"
          ],
          [
           4205.33,
           "Media"
          ],
          [
           2414.12,
           "Ninguna"
          ],
          [
           2666.71,
           "Baja"
          ],
          [
           3734.18,
           "Ninguna"
          ],
          [
           2907.82,
           "Ninguna"
          ],
          [
           3057.77,
           "Baja"
          ],
          [
           4324.7,
           "Media"
          ],
          [
           2844.39,
           "Ninguna"
          ],
          [
           2032.16,
           "Baja"
          ],
          [
           4264.62,
           "Alta"
          ],
          [
           2670.16,
           "Ninguna"
          ],
          [
           2120.5,
           "Media"
          ],
          [
           2458.21,
           "Alta"
          ],
          [
           4747.55,
           "Baja"
          ],
          [
           2833.73,
           "Baja"
          ],
          [
           4315.47,
           "Media"
          ],
          [
           3337.69,
           "Alta"
          ],
          [
           3111.33,
           "Media"
          ],
          [
           3382.8,
           "Baja"
          ],
          [
           2924.03,
           "Media"
          ],
          [
           3184.55,
           "Baja"
          ],
          [
           3984.56,
           "Alta"
          ],
          [
           2081.05,
           "Alta"
          ],
          [
           2749.99,
           "Ninguna"
          ],
          [
           2284.2,
           "Alta"
          ],
          [
           2971.59,
           "Alta"
          ],
          [
           3496.58,
           "Media"
          ],
          [
           1285.55,
           "Ninguna"
          ],
          [
           2824.43,
           "Ninguna"
          ],
          [
           3657.94,
           "Ninguna"
          ],
          [
           2490.83,
           "Ninguna"
          ],
          [
           3827.16,
           "Alta"
          ],
          [
           1827.02,
           "Media"
          ],
          [
           1265.34,
           "Baja"
          ],
          [
           2534.93,
           "Media"
          ],
          [
           4191.87,
           "Baja"
          ],
          [
           3048.74,
           "Ninguna"
          ],
          [
           775.98,
           "Baja"
          ],
          [
           1942.4,
           "Alta"
          ],
          [
           2319.42,
           "Alta"
          ],
          [
           2693.2,
           "Alta"
          ],
          [
           2131.21,
           "Ninguna"
          ],
          [
           3586.56,
           "Media"
          ],
          [
           341.52,
           "Media"
          ],
          [
           3880.87,
           "Media"
          ],
          [
           4398.53,
           "Alta"
          ],
          [
           3138.8,
           "Alta"
          ],
          [
           3041.24,
           "Alta"
          ],
          [
           2390.48,
           "Baja"
          ],
          [
           3084.39,
           "Media"
          ],
          [
           null,
           "Ninguna"
          ],
          [
           3169.63,
           "Alta"
          ],
          [
           3315.24,
           "Media"
          ],
          [
           2958.39,
           "Alta"
          ],
          [
           4139.64,
           "Ninguna"
          ],
          [
           2866.4,
           "Desconocido"
          ],
          [
           2232.7,
           "Media"
          ],
          [
           4921.93,
           "Alta"
          ],
          [
           1849.01,
           "Media"
          ],
          [
           3289.01,
           "Media"
          ],
          [
           3701.96,
           "Desconocido"
          ],
          [
           2291.41,
           "Alta"
          ],
          [
           4159.76,
           "Ninguna"
          ],
          [
           3513.68,
           "Baja"
          ],
          [
           3198.77,
           "Media"
          ],
          [
           2269.94,
           "Baja"
          ],
          [
           1037.27,
           "Media"
          ],
          [
           null,
           "Ninguna"
          ],
          [
           5172.95,
           "Ninguna"
          ],
          [
           3698.39,
           "Ninguna"
          ],
          [
           3061.33,
           "Media"
          ],
          [
           5306.15,
           "Ninguna"
          ],
          [
           4611.3,
           "Media"
          ],
          [
           3109.77,
           "Baja"
          ],
          [
           2084.79,
           "Alta"
          ],
          [
           3062.66,
           "Ninguna"
          ],
          [
           3855.54,
           "Baja"
          ],
          [
           2034.9,
           "Baja"
          ],
          [
           3359.08,
           "Baja"
          ],
          [
           2385.28,
           "Media"
          ],
          [
           2391.65,
           "Alta"
          ],
          [
           2744.13,
           "Alta"
          ],
          [
           2787.8,
           "Media"
          ],
          [
           2657.64,
           "Ninguna"
          ],
          [
           2346.49,
           "Media"
          ],
          [
           3293.48,
           "Media"
          ],
          [
           2103.03,
           "Media"
          ],
          [
           3382.9,
           "Ninguna"
          ],
          [
           3688.98,
           "Ninguna"
          ],
          [
           1898.31,
           "Media"
          ],
          [
           4962.8,
           "Media"
          ],
          [
           2360.27,
           "Ninguna"
          ],
          [
           null,
           "Alta"
          ],
          [
           2072.01,
           "Baja"
          ],
          [
           3704.65,
           "Media"
          ],
          [
           2980.5,
           "Alta"
          ],
          [
           1524.21,
           "Baja"
          ],
          [
           3224,
           "Media"
          ],
          [
           3739.63,
           "Alta"
          ],
          [
           5215.3,
           "Alta"
          ],
          [
           1561.09,
           "Alta"
          ],
          [
           3398.5,
           "Media"
          ],
          [
           2920.22,
           "Baja"
          ],
          [
           2672.36,
           "Alta"
          ],
          [
           2451.4,
           "Baja"
          ],
          [
           2412.24,
           "Media"
          ],
          [
           1617.84,
           "Alta"
          ],
          [
           3959.36,
           "Media"
          ],
          [
           1914.76,
           "Media"
          ],
          [
           3549.13,
           "Media"
          ],
          [
           3028.84,
           "Ninguna"
          ],
          [
           2780.16,
           "Alta"
          ],
          [
           2722.86,
           "Media"
          ],
          [
           5263.23,
           "Media"
          ],
          [
           3231.53,
           "Alta"
          ],
          [
           3447.86,
           "Ninguna"
          ],
          [
           3189.99,
           "Baja"
          ],
          [
           2580.01,
           "Alta"
          ],
          [
           906.56,
           "Media"
          ],
          [
           1852.11,
           "Baja"
          ],
          [
           3858.49,
           "Alta"
          ],
          [
           4690.4,
           "Baja"
          ],
          [
           2194.39,
           "Media"
          ],
          [
           4226.16,
           "Ninguna"
          ],
          [
           2213.07,
           "Media"
          ],
          [
           1930.87,
           "Ninguna"
          ],
          [
           3005.25,
           "Ninguna"
          ],
          [
           2251.07,
           "Ninguna"
          ],
          [
           3549.33,
           "Media"
          ],
          [
           2091.25,
           "Alta"
          ],
          [
           5381.14,
           "Alta"
          ],
          [
           3787.14,
           "Media"
          ],
          [
           2878.87,
           "Alta"
          ],
          [
           3662.87,
           "Alta"
          ],
          [
           2581.77,
           "Media"
          ],
          [
           5066.6,
           "Alta"
          ],
          [
           2366.85,
           "Ninguna"
          ],
          [
           2025.26,
           "Media"
          ],
          [
           3203.79,
           "Ninguna"
          ],
          [
           2244.62,
           "Media"
          ],
          [
           3648,
           "Media"
          ],
          [
           1271.71,
           "Ninguna"
          ],
          [
           2163.3,
           "Baja"
          ],
          [
           3661.37,
           "Media"
          ],
          [
           3889.1,
           "Baja"
          ],
          [
           3342.96,
           "Media"
          ],
          [
           4287.39,
           "Ninguna"
          ],
          [
           3066.15,
           "Media"
          ],
          [
           3351.77,
           "Baja"
          ],
          [
           3523.81,
           "Alta"
          ],
          [
           2624.43,
           "Media"
          ],
          [
           4041.45,
           "Ninguna"
          ],
          [
           2408.47,
           "Alta"
          ],
          [
           4310.76,
           "Ninguna"
          ],
          [
           4804.83,
           "Ninguna"
          ],
          [
           2518.54,
           "Baja"
          ],
          [
           2101.86,
           "Ninguna"
          ],
          [
           1835.11,
           "Media"
          ],
          [
           2914.96,
           "Alta"
          ],
          [
           2569.56,
           "Ninguna"
          ],
          [
           1988.2,
           "Alta"
          ],
          [
           5425.39,
           "Baja"
          ],
          [
           2165.92,
           "Media"
          ],
          [
           3366.65,
           "Alta"
          ],
          [
           3035.42,
           "Alta"
          ],
          [
           2724.99,
           "Alta"
          ],
          [
           3983.71,
           "Media"
          ],
          [
           3551.95,
           "Media"
          ],
          [
           3342.8,
           "Media"
          ],
          [
           2578.19,
           "Ninguna"
          ],
          [
           3048.19,
           "Alta"
          ],
          [
           1787.98,
           "Media"
          ],
          [
           4617.75,
           "Baja"
          ],
          [
           5224.04,
           "Ninguna"
          ],
          [
           4396.33,
           "Media"
          ],
          [
           3126.13,
           "Media"
          ],
          [
           2570.83,
           "Baja"
          ],
          [
           1944.78,
           "Media"
          ],
          [
           4511.08,
           "Ninguna"
          ],
          [
           2188.93,
           "Alta"
          ],
          [
           2638.75,
           "Baja"
          ],
          [
           3319.04,
           "Alta"
          ],
          [
           2333.57,
           "Media"
          ],
          [
           4857.93,
           "Baja"
          ],
          [
           4051.49,
           "Ninguna"
          ],
          [
           3395.68,
           "Media"
          ],
          [
           3821.4,
           "Baja"
          ],
          [
           3049.99,
           "Media"
          ],
          [
           1718.15,
           "Media"
          ],
          [
           3099.19,
           "Alta"
          ],
          [
           2525,
           "Alta"
          ],
          [
           3077.58,
           "Alta"
          ],
          [
           2704.05,
           "Ninguna"
          ],
          [
           1818.16,
           "Alta"
          ],
          [
           2017.95,
           "Alta"
          ],
          [
           4414.61,
           "Baja"
          ],
          [
           3449.47,
           "Baja"
          ],
          [
           2669.86,
           "Baja"
          ],
          [
           1857.63,
           "Baja"
          ],
          [
           1908.1,
           "Ninguna"
          ],
          [
           2531.78,
           "Alta"
          ],
          [
           1750.33,
           "Ninguna"
          ],
          [
           1806.5,
           "Alta"
          ],
          [
           2816.03,
           "Media"
          ],
          [
           1177.88,
           "Alta"
          ],
          [
           4158.61,
           "Media"
          ],
          [
           5121.02,
           "Ninguna"
          ],
          [
           2771.8,
           "Ninguna"
          ],
          [
           4457.68,
           "Baja"
          ],
          [
           1265.64,
           "Alta"
          ],
          [
           3835.83,
           "Media"
          ],
          [
           4313.89,
           "Alta"
          ],
          [
           2322.8,
           "Media"
          ],
          [
           null,
           "Media"
          ],
          [
           3790.01,
           "Baja"
          ],
          [
           2759.43,
           "Ninguna"
          ],
          [
           3208.48,
           "Alta"
          ],
          [
           3599.65,
           "Media"
          ],
          [
           5014.23,
           "Ninguna"
          ],
          [
           3637.48,
           "Media"
          ],
          [
           2204.52,
           "Media"
          ],
          [
           3423,
           "Alta"
          ],
          [
           4160.66,
           "Ninguna"
          ],
          [
           null,
           "Ninguna"
          ],
          [
           3649.28,
           "Ninguna"
          ],
          [
           2643.91,
           "Alta"
          ],
          [
           2240.75,
           "Ninguna"
          ],
          [
           2929.66,
           "Alta"
          ],
          [
           3300.45,
           "Media"
          ],
          [
           1347.9,
           "Baja"
          ],
          [
           2311.41,
           "Ninguna"
          ],
          [
           652.68,
           "Ninguna"
          ],
          [
           4740.26,
           "Ninguna"
          ],
          [
           1746.66,
           "Ninguna"
          ],
          [
           2173.14,
           "Ninguna"
          ],
          [
           3070.92,
           "Baja"
          ],
          [
           2923.49,
           "Alta"
          ],
          [
           2788.22,
           "Media"
          ],
          [
           3878.72,
           "Baja"
          ],
          [
           4818.48,
           "Alta"
          ],
          [
           4616.47,
           "Alta"
          ],
          [
           4446.02,
           "Ninguna"
          ],
          [
           1854.63,
           "Ninguna"
          ],
          [
           2763.81,
           "Baja"
          ],
          [
           2831.4,
           "Alta"
          ],
          [
           2287.93,
           "Ninguna"
          ],
          [
           5117.19,
           "Alta"
          ],
          [
           3165.61,
           "Alta"
          ],
          [
           null,
           "Alta"
          ],
          [
           2484.94,
           "Alta"
          ],
          [
           2472,
           "Alta"
          ],
          [
           3994.86,
           "Alta"
          ],
          [
           2906.5,
           "Media"
          ],
          [
           5173.71,
           "Alta"
          ],
          [
           685.37,
           "Alta"
          ],
          [
           2388.08,
           "Alta"
          ],
          [
           1607.19,
           "Ninguna"
          ],
          [
           3804.92,
           "Media"
          ],
          [
           3201.4,
           "Baja"
          ],
          [
           4629.3,
           "Ninguna"
          ],
          [
           3990.32,
           "Media"
          ],
          [
           1026.23,
           "Ninguna"
          ],
          [
           3341.79,
           "Media"
          ],
          [
           3409.48,
           "Alta"
          ],
          [
           3531.67,
           "Media"
          ],
          [
           2423.76,
           "Alta"
          ],
          [
           3090.99,
           "Ninguna"
          ],
          [
           4454.12,
           "Media"
          ],
          [
           4429.46,
           "Ninguna"
          ],
          [
           3990.42,
           "Baja"
          ],
          [
           2511.32,
           "Alta"
          ],
          [
           3723.88,
           "Media"
          ],
          [
           3829.22,
           "Ninguna"
          ],
          [
           3268.1,
           "Ninguna"
          ],
          [
           4001.56,
           "Media"
          ],
          [
           2473.96,
           "Ninguna"
          ],
          [
           2407.81,
           "Alta"
          ],
          [
           2043.23,
           "Media"
          ],
          [
           2844.63,
           "Media"
          ],
          [
           429.01,
           "Media"
          ],
          [
           3299.52,
           "Ninguna"
          ],
          [
           3594.31,
           "Baja"
          ],
          [
           2673.31,
           "Media"
          ],
          [
           3904.5,
           "Alta"
          ],
          [
           2093.18,
           "Media"
          ],
          [
           3324.03,
           "Ninguna"
          ],
          [
           1123.01,
           "Alta"
          ],
          [
           2728.56,
           "Desconocido"
          ],
          [
           3192.81,
           "Ninguna"
          ],
          [
           3497.82,
           "Baja"
          ],
          [
           5224.89,
           "Media"
          ],
          [
           4485.59,
           "Media"
          ],
          [
           1058.42,
           "Ninguna"
          ],
          [
           null,
           "Ninguna"
          ],
          [
           2493.97,
           "Baja"
          ],
          [
           null,
           "Media"
          ],
          [
           2779.45,
           "Alta"
          ],
          [
           3633.69,
           "Alta"
          ],
          [
           2097.74,
           "Alta"
          ],
          [
           2713.73,
           "Alta"
          ],
          [
           2929.19,
           "Ninguna"
          ],
          [
           2439.04,
           "Baja"
          ],
          [
           2608.37,
           "Media"
          ],
          [
           4035,
           "Ninguna"
          ],
          [
           3183.21,
           "Alta"
          ],
          [
           2440.84,
           "Alta"
          ],
          [
           3894.31,
           "Baja"
          ],
          [
           1710.61,
           "Ninguna"
          ],
          [
           4308.52,
           "Ninguna"
          ],
          [
           1569.52,
           "Alta"
          ],
          [
           4486.93,
           "Ninguna"
          ],
          [
           2829.03,
           "Media"
          ],
          [
           2693.43,
           "Media"
          ],
          [
           3263.01,
           "Baja"
          ],
          [
           3805.64,
           "Media"
          ],
          [
           1678.97,
           "Alta"
          ],
          [
           2559.91,
           "Alta"
          ],
          [
           3590.02,
           "Media"
          ],
          [
           3761.5,
           "Baja"
          ],
          [
           1817.98,
           "Baja"
          ],
          [
           3166.51,
           "Ninguna"
          ],
          [
           4529.49,
           "Alta"
          ],
          [
           3555.13,
           "Baja"
          ],
          [
           2170.27,
           "Media"
          ],
          [
           2004.35,
           "Alta"
          ],
          [
           1726.26,
           "Media"
          ],
          [
           2288.7,
           "Baja"
          ],
          [
           3476.49,
           "Media"
          ],
          [
           4164.91,
           "Media"
          ],
          [
           1289.67,
           "Media"
          ],
          [
           3271.22,
           "Alta"
          ],
          [
           4160.61,
           "Alta"
          ],
          [
           3777.85,
           "Baja"
          ],
          [
           3594.5,
           "Media"
          ]
         ],
         "hovertemplate": "Producto=Plan Retiro<br>Edad del Cliente=%{x}<br>Monto de Venta=%{y}<br>% Clientes Nuevos=%{marker.size}<br>Inversión en Publicidad=%{customdata[0]}<br>Participación en Campañas=%{customdata[1]}<extra></extra>",
         "legendgroup": "Plan Retiro",
         "marker": {
          "color": "#636efa",
          "size": {
           "bdata": "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",
           "dtype": "f8"
          },
          "sizemode": "area",
          "sizeref": 0.0022500000000000003,
          "symbol": "circle"
         },
         "mode": "markers",
         "name": "Plan Retiro",
         "showlegend": true,
         "type": "scattergl",
         "x": {
          "bdata": "GztFQRsmPhMdIR0sQB0i/xkWLShFNkBFHv8vPkUaN0AaMRVDFhUzHho7GDA0MDEbEyIhPzgpKx0cEi0cFB07Eyw6MyodGkElEkQwEy4gHTYtJf8fFz4yNRQWJkQwHTE6Mxb/Ii0kMSowEz4WLBIx/0Ap/yE/Ii4ZFDQWHictRT4kOzxEHR87PCQXRUJFQDgqNx08RDYVHDEYHC1AKi8iIS8+KjsnQT0zFSs0JCwxIy0hQDoVHBMrPhcjNjgjGCM3NjIwIzP/PTAxQj4nFhY7GzgUG0A3LiQZFSYeQR8Y//8SGzwZPxcWKi05LTIzFCFBOC8lI0A+Q0AdQxwk/zpEJyQtLTIkLTQ5Nyg+PSYrJhIoKDwoMSw9KUQXLBo5QSgiFxwfFDQpKTUqPjMuJCo9ORc6KTAaJSAjQC4VPhs6PxtFKDg4RCowIj4qODQjJyk6IEIkQiE5RSQiGzUXIj8pK0QzFEQmRCUYGj4SLhUsOv87NSI0FkAoIywg",
          "dtype": "i1"
         },
         "xaxis": "x",
         "y": {
          "bdata": "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",
          "dtype": "f8"
         },
         "yaxis": "y"
        },
        {
         "customdata": [
          [
           2744.13,
           "Baja"
          ],
          [
           4901.64,
           "Ninguna"
          ],
          [
           1935.24,
           "Media"
          ],
          [
           2831.36,
           "Ninguna"
          ],
          [
           2203.34,
           "Media"
          ],
          [
           2859.8,
           "Media"
          ],
          [
           4263.76,
           "Alta"
          ],
          [
           1830.11,
           "Media"
          ],
          [
           2433.53,
           "Alta"
          ],
          [
           2676.49,
           "Ninguna"
          ],
          [
           2616.96,
           "Ninguna"
          ],
          [
           3963.18,
           "Baja"
          ],
          [
           4414.3,
           "Alta"
          ],
          [
           2821.35,
           "Media"
          ],
          [
           1153.73,
           "Alta"
          ],
          [
           2808.57,
           "Ninguna"
          ],
          [
           1619.17,
           "Alta"
          ],
          [
           3151.91,
           "Baja"
          ],
          [
           3388.57,
           "Baja"
          ],
          [
           2726.51,
           "Baja"
          ],
          [
           3311.5,
           "Baja"
          ],
          [
           2114.34,
           "Alta"
          ],
          [
           3809.72,
           "Media"
          ],
          [
           3074.03,
           "Alta"
          ],
          [
           3237.9,
           "Ninguna"
          ],
          [
           1920.7,
           "Media"
          ],
          [
           2452.34,
           "Alta"
          ],
          [
           3219.66,
           "Baja"
          ],
          [
           1521.42,
           "Baja"
          ],
          [
           3229.55,
           "Ninguna"
          ],
          [
           2952.3,
           "Alta"
          ],
          [
           3232.66,
           "Alta"
          ],
          [
           6226.13,
           "Alta"
          ],
          [
           3869.1,
           "Media"
          ],
          [
           4054.54,
           "Alta"
          ],
          [
           2276.65,
           "Media"
          ],
          [
           3982.66,
           "Alta"
          ],
          [
           4131.81,
           "Ninguna"
          ],
          [
           3114.85,
           "Ninguna"
          ],
          [
           1690.37,
           "Media"
          ],
          [
           2324.42,
           "Baja"
          ],
          [
           3289.52,
           "Media"
          ],
          [
           3401.79,
           "Ninguna"
          ],
          [
           3253.97,
           "Alta"
          ],
          [
           2414.53,
           "Media"
          ],
          [
           3770.64,
           "Media"
          ],
          [
           3030.8,
           "Ninguna"
          ],
          [
           2076.53,
           "Media"
          ],
          [
           3709.54,
           "Alta"
          ],
          [
           4154.35,
           "Alta"
          ],
          [
           2847.26,
           "Alta"
          ],
          [
           2885.98,
           "Ninguna"
          ],
          [
           1651.8,
           "Baja"
          ],
          [
           null,
           "Media"
          ],
          [
           2341.15,
           "Ninguna"
          ],
          [
           3679.82,
           "Media"
          ],
          [
           3398.27,
           "Ninguna"
          ],
          [
           3800.55,
           "Media"
          ],
          [
           2762.67,
           "Baja"
          ],
          [
           2507.71,
           "Alta"
          ],
          [
           1825.37,
           "Media"
          ],
          [
           1160.79,
           "Media"
          ],
          [
           3157.75,
           "Baja"
          ],
          [
           3560.72,
           "Media"
          ],
          [
           2719.76,
           "Media"
          ],
          [
           3143.79,
           "Alta"
          ],
          [
           2532.57,
           "Baja"
          ],
          [
           3220.47,
           "Baja"
          ],
          [
           2003.73,
           "Ninguna"
          ],
          [
           2986.54,
           "Ninguna"
          ],
          [
           3864.64,
           "Baja"
          ],
          [
           3214.53,
           "Ninguna"
          ],
          [
           2782.38,
           "Media"
          ],
          [
           2424.16,
           "Baja"
          ],
          [
           3340.46,
           "Baja"
          ],
          [
           2775.68,
           "Alta"
          ],
          [
           2458.31,
           "Ninguna"
          ],
          [
           3340.87,
           "Baja"
          ],
          [
           2651.82,
           "Alta"
          ],
          [
           3220.68,
           "Alta"
          ],
          [
           3042.57,
           "Alta"
          ],
          [
           4787.42,
           "Ninguna"
          ],
          [
           3625.3,
           "Media"
          ],
          [
           1617.7,
           "Media"
          ],
          [
           1237.88,
           "Ninguna"
          ],
          [
           2680.43,
           "Alta"
          ],
          [
           1950.87,
           "Media"
          ],
          [
           4217.63,
           "Baja"
          ],
          [
           2534.04,
           "Media"
          ],
          [
           2701,
           "Media"
          ],
          [
           5692.76,
           "Alta"
          ],
          [
           2822.71,
           "Alta"
          ],
          [
           3024.17,
           "Alta"
          ],
          [
           1986.63,
           "Alta"
          ],
          [
           1164.45,
           "Media"
          ],
          [
           4604.51,
           "Alta"
          ],
          [
           1803.81,
           "Baja"
          ],
          [
           3120.86,
           "Alta"
          ],
          [
           3594.5,
           "Ninguna"
          ],
          [
           2244.3,
           "Alta"
          ],
          [
           3243.15,
           "Baja"
          ],
          [
           4937.55,
           "Desconocido"
          ],
          [
           2832.61,
           "Baja"
          ],
          [
           4197.79,
           "Alta"
          ],
          [
           4244.71,
           "Baja"
          ],
          [
           4596.85,
           "Media"
          ],
          [
           4177.24,
           "Alta"
          ],
          [
           2838.34,
           "Alta"
          ],
          [
           2054.15,
           "Media"
          ],
          [
           1923.02,
           "Baja"
          ],
          [
           4035.88,
           "Baja"
          ],
          [
           4211.9,
           "Media"
          ],
          [
           2977.62,
           "Baja"
          ],
          [
           5843.95,
           "Ninguna"
          ],
          [
           4087.1,
           "Media"
          ],
          [
           1912.86,
           "Alta"
          ],
          [
           3614.08,
           "Alta"
          ],
          [
           2438.52,
           "Media"
          ],
          [
           2070.86,
           "Alta"
          ],
          [
           4378.72,
           "Ninguna"
          ],
          [
           2342.94,
           "Media"
          ],
          [
           4138.62,
           "Ninguna"
          ],
          [
           3502.29,
           "Ninguna"
          ],
          [
           2461.17,
           "Ninguna"
          ],
          [
           1402.2,
           "Media"
          ],
          [
           3308.76,
           "Alta"
          ],
          [
           2341.56,
           "Media"
          ],
          [
           2362.92,
           "Baja"
          ],
          [
           3965.94,
           "Alta"
          ],
          [
           4801.54,
           "Alta"
          ],
          [
           3792.35,
           "Media"
          ],
          [
           3294.25,
           "Alta"
          ],
          [
           2734.61,
           "Media"
          ],
          [
           4307.28,
           "Alta"
          ],
          [
           4958.47,
           "Alta"
          ],
          [
           2884.68,
           "Media"
          ],
          [
           3809.89,
           "Alta"
          ],
          [
           4409.19,
           "Media"
          ],
          [
           3232.01,
           "Ninguna"
          ],
          [
           3508.99,
           "Media"
          ],
          [
           3297.81,
           "Media"
          ],
          [
           5102.6,
           "Alta"
          ],
          [
           2646.85,
           "Media"
          ],
          [
           3699.1,
           "Media"
          ],
          [
           3864.18,
           "Baja"
          ],
          [
           1239.06,
           "Ninguna"
          ],
          [
           2493.59,
           "Ninguna"
          ],
          [
           2483.39,
           "Alta"
          ],
          [
           2970.18,
           "Alta"
          ],
          [
           2191.39,
           "Baja"
          ],
          [
           2982.49,
           "Ninguna"
          ],
          [
           4545.81,
           "Media"
          ],
          [
           3851.34,
           "Alta"
          ],
          [
           1893.11,
           "Media"
          ],
          [
           3763.34,
           "Ninguna"
          ],
          [
           1443.97,
           "Ninguna"
          ],
          [
           2999.07,
           "Media"
          ],
          [
           2478.58,
           "Alta"
          ],
          [
           3351.42,
           "Ninguna"
          ],
          [
           3659.82,
           "Media"
          ],
          [
           3454.92,
           "Ninguna"
          ],
          [
           1688.13,
           "Ninguna"
          ],
          [
           2211.61,
           "Alta"
          ],
          [
           4251.69,
           "Alta"
          ],
          [
           3925.64,
           "Alta"
          ],
          [
           2971.64,
           "Media"
          ],
          [
           2640.39,
           "Media"
          ],
          [
           2861.98,
           "Media"
          ],
          [
           2728.76,
           "Baja"
          ],
          [
           3042.55,
           "Media"
          ],
          [
           3461.54,
           "Alta"
          ],
          [
           3615.57,
           "Media"
          ],
          [
           3992.92,
           "Desconocido"
          ],
          [
           2207.87,
           "Media"
          ],
          [
           3673.96,
           "Media"
          ],
          [
           3264.57,
           "Ninguna"
          ],
          [
           2661.13,
           "Media"
          ],
          [
           3952.18,
           "Baja"
          ],
          [
           2626.6,
           "Media"
          ],
          [
           3836.15,
           "Alta"
          ],
          [
           3057.19,
           "Baja"
          ],
          [
           3456.47,
           "Alta"
          ],
          [
           3243.39,
           "Ninguna"
          ],
          [
           3761.26,
           "Ninguna"
          ],
          [
           1005.17,
           "Media"
          ],
          [
           null,
           "Ninguna"
          ],
          [
           3628.77,
           "Media"
          ],
          [
           2083.49,
           "Ninguna"
          ],
          [
           3490.89,
           "Media"
          ],
          [
           2522.48,
           "Media"
          ],
          [
           3327.87,
           "Media"
          ],
          [
           1052.76,
           "Ninguna"
          ],
          [
           5033.78,
           "Alta"
          ],
          [
           3442.5,
           "Baja"
          ],
          [
           2837.73,
           "Baja"
          ],
          [
           3802.78,
           "Ninguna"
          ],
          [
           4078.67,
           "Media"
          ],
          [
           1074.54,
           "Desconocido"
          ],
          [
           2260.91,
           "Alta"
          ],
          [
           2649.27,
           "Baja"
          ],
          [
           2788.96,
           "Alta"
          ],
          [
           3103.56,
           "Ninguna"
          ],
          [
           1520.15,
           "Baja"
          ],
          [
           null,
           "Ninguna"
          ],
          [
           2227.23,
           "Baja"
          ],
          [
           3386.24,
           "Baja"
          ],
          [
           2590.74,
           "Baja"
          ],
          [
           4312.92,
           "Ninguna"
          ],
          [
           1557.78,
           "Baja"
          ],
          [
           2444.3,
           "Alta"
          ],
          [
           3267.94,
           "Alta"
          ],
          [
           3604.76,
           "Media"
          ],
          [
           2720.4,
           "Alta"
          ],
          [
           1637.62,
           "Media"
          ],
          [
           1513.04,
           "Desconocido"
          ],
          [
           1090.99,
           "Alta"
          ],
          [
           3632.96,
           "Alta"
          ],
          [
           3435.24,
           "Alta"
          ],
          [
           2481.66,
           "Media"
          ],
          [
           4265.32,
           "Media"
          ],
          [
           2541.29,
           "Ninguna"
          ],
          [
           2791.41,
           "Baja"
          ],
          [
           2838.8,
           "Ninguna"
          ],
          [
           3874.74,
           "Baja"
          ],
          [
           4939.61,
           "Media"
          ],
          [
           4069.73,
           "Ninguna"
          ],
          [
           3717.77,
           "Alta"
          ],
          [
           1838.88,
           "Media"
          ],
          [
           3605.17,
           "Media"
          ],
          [
           2009.37,
           "Baja"
          ],
          [
           2007.85,
           "Ninguna"
          ],
          [
           1401.3,
           "Ninguna"
          ],
          [
           1481.4,
           "Ninguna"
          ],
          [
           1596.71,
           "Baja"
          ],
          [
           3434.59,
           "Media"
          ],
          [
           2313.22,
           "Alta"
          ],
          [
           104.44,
           "Alta"
          ],
          [
           3810.5,
           "Media"
          ],
          [
           2655.88,
           "Media"
          ],
          [
           2817.41,
           "Alta"
          ],
          [
           3728.01,
           "Media"
          ],
          [
           3663.43,
           "Baja"
          ],
          [
           3975.13,
           "Ninguna"
          ],
          [
           3384.29,
           "Alta"
          ],
          [
           1985.03,
           "Alta"
          ],
          [
           3324.96,
           "Alta"
          ],
          [
           5403.02,
           "Media"
          ],
          [
           3436.53,
           "Ninguna"
          ],
          [
           2096.98,
           "Alta"
          ],
          [
           1999.61,
           "Baja"
          ],
          [
           2450.93,
           "Alta"
          ],
          [
           3675.61,
           "Media"
          ],
          [
           2510.11,
           "Alta"
          ],
          [
           1001.76,
           "Baja"
          ],
          [
           4431.92,
           "Alta"
          ],
          [
           813.57,
           "Baja"
          ],
          [
           3578.19,
           "Alta"
          ],
          [
           3524.2,
           "Media"
          ],
          [
           1721.87,
           "Media"
          ],
          [
           3730.36,
           "Alta"
          ],
          [
           3059.45,
           "Alta"
          ],
          [
           4254.28,
           "Alta"
          ],
          [
           1933.32,
           "Alta"
          ],
          [
           3463.23,
           "Ninguna"
          ],
          [
           2811.79,
           "Ninguna"
          ],
          [
           1403.09,
           "Baja"
          ],
          [
           3310.34,
           "Desconocido"
          ],
          [
           3666.13,
           "Alta"
          ],
          [
           1356.86,
           "Media"
          ],
          [
           4683.06,
           "Alta"
          ],
          [
           1035.73,
           "Alta"
          ],
          [
           4064.19,
           "Alta"
          ],
          [
           3870.91,
           "Media"
          ],
          [
           1579.25,
           "Media"
          ],
          [
           3644.32,
           "Media"
          ],
          [
           2103.42,
           "Media"
          ],
          [
           2310.21,
           "Ninguna"
          ],
          [
           2939.88,
           "Media"
          ],
          [
           3116.56,
           "Media"
          ],
          [
           2957.15,
           "Ninguna"
          ],
          [
           3186.46,
           "Ninguna"
          ],
          [
           3644.19,
           "Baja"
          ],
          [
           3852.22,
           "Baja"
          ],
          [
           4368.5,
           "Ninguna"
          ],
          [
           2354,
           "Alta"
          ],
          [
           3364.96,
           "Alta"
          ],
          [
           5015.73,
           "Media"
          ],
          [
           3196.56,
           "Baja"
          ],
          [
           1526.02,
           "Alta"
          ],
          [
           3689.58,
           "Baja"
          ],
          [
           2382.51,
           "Media"
          ],
          [
           2925.59,
           "Ninguna"
          ],
          [
           1036.89,
           "Baja"
          ],
          [
           5349.1,
           "Media"
          ],
          [
           3453.62,
           "Ninguna"
          ],
          [
           2101.63,
           "Media"
          ],
          [
           2288.89,
           "Baja"
          ],
          [
           2061.91,
           "Alta"
          ],
          [
           3980.41,
           "Baja"
          ],
          [
           1483.23,
           "Baja"
          ],
          [
           1647.18,
           "Ninguna"
          ],
          [
           1856.65,
           "Media"
          ],
          [
           3991.99,
           "Alta"
          ],
          [
           4119.45,
           "Alta"
          ],
          [
           2141.42,
           "Alta"
          ],
          [
           2452.86,
           "Media"
          ],
          [
           null,
           "Alta"
          ],
          [
           2000.88,
           "Baja"
          ],
          [
           1416.88,
           "Alta"
          ],
          [
           4443.51,
           "Ninguna"
          ],
          [
           2585.18,
           "Desconocido"
          ],
          [
           3643.51,
           "Ninguna"
          ],
          [
           3639.51,
           "Ninguna"
          ],
          [
           2842.53,
           "Alta"
          ],
          [
           3881.5,
           "Baja"
          ],
          [
           1255.35,
           "Baja"
          ],
          [
           4993.69,
           "Media"
          ],
          [
           2055.01,
           "Alta"
          ],
          [
           1013.08,
           "Alta"
          ],
          [
           2825.33,
           "Alta"
          ],
          [
           3025.29,
           "Media"
          ],
          [
           2418.4,
           "Baja"
          ],
          [
           1153.46,
           "Alta"
          ],
          [
           2561.39,
           "Ninguna"
          ],
          [
           1190.67,
           "Ninguna"
          ],
          [
           2885.35,
           "Media"
          ],
          [
           2852.9,
           "Media"
          ],
          [
           2127.37,
           "Media"
          ],
          [
           2329.02,
           "Baja"
          ],
          [
           2342.42,
           "Ninguna"
          ],
          [
           4555.11,
           "Media"
          ],
          [
           2961.81,
           "Alta"
          ],
          [
           2228.59,
           "Media"
          ],
          [
           2309.64,
           "Alta"
          ],
          [
           3112.46,
           "Alta"
          ],
          [
           5650.99,
           "Media"
          ],
          [
           2458.27,
           "Alta"
          ],
          [
           2730.84,
           "Media"
          ],
          [
           4127.24,
           "Media"
          ],
          [
           5058.49,
           "Baja"
          ],
          [
           1024.59,
           "Baja"
          ],
          [
           2707.91,
           "Media"
          ],
          [
           2733.29,
           "Ninguna"
          ],
          [
           3333,
           "Media"
          ],
          [
           2549.78,
           "Media"
          ],
          [
           1477.67,
           "Desconocido"
          ],
          [
           2915.48,
           "Alta"
          ],
          [
           3634.56,
           "Baja"
          ],
          [
           2886.03,
           "Baja"
          ],
          [
           2733.01,
           "Alta"
          ],
          [
           2944.69,
           "Media"
          ],
          [
           3427.06,
           "Ninguna"
          ],
          [
           3043.36,
           "Media"
          ],
          [
           3762.44,
           "Ninguna"
          ],
          [
           2663.36,
           "Media"
          ],
          [
           2637.9,
           "Alta"
          ],
          [
           3506.8,
           "Media"
          ],
          [
           4615.99,
           "Ninguna"
          ],
          [
           1545.21,
           "Alta"
          ],
          [
           2451.91,
           "Baja"
          ],
          [
           null,
           "Alta"
          ],
          [
           3209.4,
           "Ninguna"
          ],
          [
           4508.94,
           "Baja"
          ],
          [
           1026.34,
           "Ninguna"
          ],
          [
           3680.64,
           "Baja"
          ],
          [
           3055.59,
           "Alta"
          ],
          [
           3541.57,
           "Media"
          ],
          [
           3900.93,
           "Media"
          ],
          [
           2877.24,
           "Baja"
          ],
          [
           4830.24,
           "Media"
          ],
          [
           3554.37,
           "Alta"
          ],
          [
           1623.38,
           "Alta"
          ],
          [
           3724.42,
           "Alta"
          ],
          [
           3229.82,
           "Baja"
          ],
          [
           3035.52,
           "Media"
          ],
          [
           2065.08,
           "Baja"
          ],
          [
           4477.99,
           "Media"
          ],
          [
           2468.96,
           "Alta"
          ],
          [
           3855.76,
           "Alta"
          ],
          [
           1763.2,
           "Alta"
          ],
          [
           2554.95,
           "Media"
          ],
          [
           3048.05,
           "Alta"
          ],
          [
           3317.26,
           "Baja"
          ],
          [
           2355.42,
           "Ninguna"
          ],
          [
           2278.27,
           "Ninguna"
          ],
          [
           2491.57,
           "Alta"
          ],
          [
           2274.72,
           "Baja"
          ],
          [
           4532.5,
           "Baja"
          ],
          [
           1529.34,
           "Ninguna"
          ],
          [
           3805.63,
           "Media"
          ]
         ],
         "hovertemplate": "Producto=Inversión Segura<br>Edad del Cliente=%{x}<br>Monto de Venta=%{y}<br>% Clientes Nuevos=%{marker.size}<br>Inversión en Publicidad=%{customdata[0]}<br>Participación en Campañas=%{customdata[1]}<extra></extra>",
         "legendgroup": "Inversión Segura",
         "marker": {
          "color": "#EF553B",
          "size": {
           "bdata": "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",
           "dtype": "f8"
          },
          "sizemode": "area",
          "sizeref": 0.0022500000000000003,
          "symbol": "circle"
         },
         "mode": "markers",
         "name": "Inversión Segura",
         "showlegend": true,
         "type": "scattergl",
         "x": {
          "bdata": "Hz8vOjQcHBg7QiM0KzxAQR44LDkePCImKzVAHTYhHxsYPi4/JDsmLC4XJyEjFiguJzhE/yAlJSg2LjsvRf8xMDwmGEBDIjIxQCkVHEITQiEtKhs2JyVDITETHzgbPx82JzUnHzE+JSgxFTk4If8fGCBAPSggMjA0PygeFhonOC4UEiUXQTIsPiUaOBUkNz5APBkrRCgtGiUwKywcNzM3OxI0ORwrKUVCPygtPCQyNR8/RS47RTcoGEIbGyxFMhIiFTwVLxkpRR//FTY/QS8YKBckNi8bNh0vLBouMiATRRQ8PRUVQicTKiYfLUQaKCAuIDT/HRQZPhkoIRo6KUI2Qx0qIjUoPDw8HyMt/zExFT8rKRYqI0BAPj0oHUVCNiszIR4tQTQnORcvHiAoREA7QSUwKz4eNxM5JEI+QiohMyFEGjszISMxOy8jGv8+KxX/Hh4aGCYoLh8WPR4XFCUWJCQVPR8kN0QtHiwzKBcuKi03KzEn//8YLBgoQzY6QUExRR8wKUMf",
          "dtype": "i1"
         },
         "xaxis": "x",
         "y": {
          "bdata": "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",
          "dtype": "f8"
         },
         "yaxis": "y"
        },
        {
         "customdata": [
          [
           3706.39,
           "Media"
          ],
          [
           2599.86,
           "Ninguna"
          ],
          [
           4580.54,
           "Baja"
          ],
          [
           3204.07,
           "Media"
          ],
          [
           3745.45,
           "Ninguna"
          ],
          [
           3781.19,
           "Ninguna"
          ],
          [
           2854.86,
           "Media"
          ],
          [
           2087.34,
           "Ninguna"
          ],
          [
           2954.45,
           "Ninguna"
          ],
          [
           2354.58,
           "Baja"
          ],
          [
           2919.12,
           "Media"
          ],
          [
           2358.03,
           "Media"
          ],
          [
           2124.11,
           "Media"
          ],
          [
           2551.03,
           "Alta"
          ],
          [
           2539.72,
           "Media"
          ],
          [
           3010.2,
           "Baja"
          ],
          [
           3446.89,
           "Ninguna"
          ],
          [
           3120.12,
           "Ninguna"
          ],
          [
           2200.01,
           "Baja"
          ],
          [
           2729.77,
           "Media"
          ],
          [
           2421.18,
           "Ninguna"
          ],
          [
           3604.12,
           "Ninguna"
          ],
          [
           1022.93,
           "Alta"
          ],
          [
           3856.1,
           "Ninguna"
          ],
          [
           2187.12,
           "Alta"
          ],
          [
           3232.21,
           "Baja"
          ],
          [
           3474.63,
           "Media"
          ],
          [
           4467.16,
           "Ninguna"
          ],
          [
           2099.15,
           "Media"
          ],
          [
           5058.6,
           "Baja"
          ],
          [
           2872.32,
           "Media"
          ],
          [
           2877.57,
           "Baja"
          ],
          [
           2871.65,
           "Alta"
          ],
          [
           2409.11,
           "Ninguna"
          ],
          [
           3288.23,
           "Baja"
          ],
          [
           1841.01,
           "Baja"
          ],
          [
           3617.75,
           "Baja"
          ],
          [
           1170.44,
           "Alta"
          ],
          [
           1991.26,
           "Baja"
          ],
          [
           2230.64,
           "Media"
          ],
          [
           1618.99,
           "Ninguna"
          ],
          [
           4075.18,
           "Alta"
          ],
          [
           3137.52,
           "Media"
          ],
          [
           5583.81,
           "Baja"
          ],
          [
           2689.39,
           "Media"
          ],
          [
           null,
           "Ninguna"
          ],
          [
           2627.55,
           "Ninguna"
          ],
          [
           3670.35,
           "Alta"
          ],
          [
           2166.78,
           "Media"
          ],
          [
           1208.27,
           "Ninguna"
          ],
          [
           2980.14,
           "Alta"
          ],
          [
           3181.86,
           "Media"
          ],
          [
           3115.49,
           "Alta"
          ],
          [
           3788.67,
           "Alta"
          ],
          [
           2398.03,
           "Alta"
          ],
          [
           1259.58,
           "Ninguna"
          ],
          [
           4156.91,
           "Baja"
          ],
          [
           2945.55,
           "Baja"
          ],
          [
           4098.15,
           "Ninguna"
          ],
          [
           2620.19,
           "Alta"
          ],
          [
           3284.63,
           "Baja"
          ],
          [
           4010.96,
           "Alta"
          ],
          [
           4745.55,
           "Alta"
          ],
          [
           3921.32,
           "Alta"
          ],
          [
           3284.93,
           "Baja"
          ],
          [
           2395.68,
           "Alta"
          ],
          [
           2011.81,
           "Desconocido"
          ],
          [
           4509.62,
           "Media"
          ],
          [
           2342.89,
           "Desconocido"
          ],
          [
           4184.42,
           "Baja"
          ],
          [
           2977.18,
           "Ninguna"
          ],
          [
           2627.51,
           "Alta"
          ],
          [
           2027.26,
           "Baja"
          ],
          [
           3514.2,
           "Baja"
          ],
          [
           1967.66,
           "Alta"
          ],
          [
           2917.35,
           "Baja"
          ],
          [
           5099.76,
           "Media"
          ],
          [
           3548.97,
           "Media"
          ],
          [
           3324.69,
           "Alta"
          ],
          [
           2919.9,
           "Media"
          ],
          [
           2296.88,
           "Baja"
          ],
          [
           3311.39,
           "Ninguna"
          ],
          [
           1663.72,
           "Media"
          ],
          [
           4012.44,
           "Baja"
          ],
          [
           2597.53,
           "Baja"
          ],
          [
           null,
           "Media"
          ],
          [
           2117.79,
           "Media"
          ],
          [
           2755.86,
           "Alta"
          ],
          [
           2765.63,
           "Alta"
          ],
          [
           2978.57,
           "Media"
          ],
          [
           2044.51,
           "Baja"
          ],
          [
           3369.33,
           "Media"
          ],
          [
           3121.05,
           "Media"
          ],
          [
           3156.84,
           "Media"
          ],
          [
           1014.4,
           "Baja"
          ],
          [
           4045.78,
           "Media"
          ],
          [
           3334.46,
           "Ninguna"
          ],
          [
           3675.39,
           "Alta"
          ],
          [
           2997.6,
           "Ninguna"
          ],
          [
           584.33,
           "Alta"
          ],
          [
           2332.72,
           "Media"
          ],
          [
           3002.24,
           "Baja"
          ],
          [
           null,
           "Ninguna"
          ],
          [
           2677.11,
           "Alta"
          ],
          [
           2661.36,
           "Ninguna"
          ],
          [
           2568.65,
           "Media"
          ],
          [
           2896.19,
           "Media"
          ],
          [
           2614.63,
           "Alta"
          ],
          [
           4235.29,
           "Alta"
          ],
          [
           2826.06,
           "Media"
          ],
          [
           1880.01,
           "Alta"
          ],
          [
           2826.37,
           "Alta"
          ],
          [
           2473.45,
           "Ninguna"
          ],
          [
           null,
           "Media"
          ],
          [
           1936.83,
           "Media"
          ],
          [
           3414.63,
           "Alta"
          ],
          [
           4001.31,
           "Ninguna"
          ],
          [
           2084.26,
           "Alta"
          ],
          [
           2438.48,
           "Ninguna"
          ],
          [
           1161.82,
           "Baja"
          ],
          [
           3249.93,
           "Media"
          ],
          [
           2645.05,
           "Ninguna"
          ],
          [
           2942.16,
           "Alta"
          ],
          [
           3243.76,
           "Alta"
          ],
          [
           4465.58,
           "Alta"
          ],
          [
           2522.17,
           "Alta"
          ],
          [
           3175.58,
           "Baja"
          ],
          [
           3415.26,
           "Media"
          ],
          [
           2471.37,
           "Alta"
          ],
          [
           1063.69,
           "Baja"
          ],
          [
           3788.34,
           "Alta"
          ],
          [
           1785.58,
           "Media"
          ],
          [
           3456.24,
           "Baja"
          ],
          [
           3212.87,
           "Media"
          ],
          [
           3603.45,
           "Baja"
          ],
          [
           3533.35,
           "Baja"
          ],
          [
           4746.39,
           "Ninguna"
          ],
          [
           4207.82,
           "Desconocido"
          ],
          [
           1181.45,
           "Baja"
          ],
          [
           2812.34,
           "Baja"
          ],
          [
           4162.31,
           "Media"
          ],
          [
           3091.87,
           "Ninguna"
          ],
          [
           2936.05,
           "Media"
          ],
          [
           4041.75,
           "Media"
          ],
          [
           2157.08,
           "Alta"
          ],
          [
           3739.46,
           "Media"
          ],
          [
           null,
           "Baja"
          ],
          [
           4303.06,
           "Media"
          ],
          [
           1660.52,
           "Baja"
          ],
          [
           3849.59,
           "Alta"
          ],
          [
           4098.53,
           "Ninguna"
          ],
          [
           3477.84,
           "Media"
          ],
          [
           2872.42,
           "Media"
          ],
          [
           2013.4,
           "Baja"
          ],
          [
           3572.45,
           "Alta"
          ],
          [
           3761.47,
           "Alta"
          ],
          [
           3791.39,
           "Media"
          ],
          [
           2731.94,
           "Alta"
          ],
          [
           4411.01,
           "Baja"
          ],
          [
           3727.71,
           "Baja"
          ],
          [
           3843.86,
           "Desconocido"
          ],
          [
           4332.82,
           "Ninguna"
          ],
          [
           4256.78,
           "Baja"
          ],
          [
           2488.32,
           "Ninguna"
          ],
          [
           2228.45,
           "Baja"
          ],
          [
           3170.6,
           "Media"
          ],
          [
           3190.99,
           "Alta"
          ],
          [
           1723.14,
           "Baja"
          ],
          [
           3948.51,
           "Media"
          ],
          [
           1291.75,
           "Media"
          ],
          [
           3353.42,
           "Ninguna"
          ],
          [
           3365.5,
           "Ninguna"
          ],
          [
           4692.4,
           "Ninguna"
          ],
          [
           2496.9,
           "Alta"
          ],
          [
           3088.71,
           "Media"
          ],
          [
           3252.37,
           "Media"
          ],
          [
           2707.92,
           "Baja"
          ],
          [
           1902.23,
           "Ninguna"
          ],
          [
           2317.16,
           "Baja"
          ],
          [
           2276.42,
           "Alta"
          ],
          [
           2999.48,
           "Alta"
          ],
          [
           4453.71,
           "Media"
          ],
          [
           3835.61,
           "Ninguna"
          ],
          [
           2822.19,
           "Alta"
          ],
          [
           1971.48,
           "Ninguna"
          ],
          [
           2642.63,
           "Media"
          ],
          [
           4467.64,
           "Ninguna"
          ],
          [
           4673.7,
           "Alta"
          ],
          [
           3005.74,
           "Media"
          ],
          [
           3645.78,
           "Ninguna"
          ],
          [
           3253.73,
           "Alta"
          ],
          [
           2021.34,
           "Media"
          ],
          [
           4006.26,
           "Ninguna"
          ],
          [
           1714.04,
           "Alta"
          ],
          [
           3075.6,
           "Baja"
          ],
          [
           2823.18,
           "Alta"
          ],
          [
           2366.71,
           "Alta"
          ],
          [
           3197.18,
           "Baja"
          ],
          [
           3163.2,
           "Baja"
          ],
          [
           1439.39,
           "Baja"
          ],
          [
           4820.52,
           "Media"
          ],
          [
           5143.69,
           "Alta"
          ],
          [
           3345.84,
           "Ninguna"
          ],
          [
           3700.77,
           "Baja"
          ],
          [
           3733.06,
           "Media"
          ],
          [
           2794.01,
           "Alta"
          ],
          [
           2427.59,
           "Alta"
          ],
          [
           4608.87,
           "Media"
          ],
          [
           2923.55,
           "Ninguna"
          ],
          [
           4694.1,
           "Alta"
          ],
          [
           2114.03,
           "Alta"
          ],
          [
           3513.37,
           "Media"
          ],
          [
           1624.38,
           "Ninguna"
          ],
          [
           2981.98,
           "Alta"
          ],
          [
           2834.6,
           "Alta"
          ],
          [
           3939.44,
           "Ninguna"
          ],
          [
           5557.73,
           "Alta"
          ],
          [
           4672.05,
           "Desconocido"
          ],
          [
           4133.57,
           "Media"
          ],
          [
           2521.43,
           "Ninguna"
          ],
          [
           2329.11,
           "Media"
          ],
          [
           3013.24,
           "Alta"
          ],
          [
           594.29,
           "Media"
          ],
          [
           2633.47,
           "Alta"
          ],
          [
           2854.44,
           "Media"
          ],
          [
           4246.55,
           "Alta"
          ],
          [
           2087.06,
           "Baja"
          ],
          [
           3369.3,
           "Media"
          ],
          [
           2181.4,
           "Baja"
          ],
          [
           2671.85,
           "Alta"
          ],
          [
           4399.7,
           "Alta"
          ],
          [
           2916.78,
           "Alta"
          ],
          [
           4149.59,
           "Ninguna"
          ],
          [
           1861.92,
           "Media"
          ],
          [
           4249,
           "Baja"
          ],
          [
           4579.73,
           "Ninguna"
          ],
          [
           2275.81,
           "Media"
          ],
          [
           2942.31,
           "Alta"
          ],
          [
           4559.94,
           "Ninguna"
          ],
          [
           4637.65,
           "Media"
          ],
          [
           3051.63,
           "Alta"
          ],
          [
           3383.76,
           "Alta"
          ],
          [
           3257.14,
           "Alta"
          ],
          [
           866.36,
           "Media"
          ],
          [
           1458.69,
           "Media"
          ],
          [
           4363.97,
           "Media"
          ],
          [
           2123.87,
           "Media"
          ],
          [
           2142.2,
           "Media"
          ],
          [
           4159.61,
           "Baja"
          ],
          [
           3574.52,
           "Baja"
          ],
          [
           3258.71,
           "Media"
          ],
          [
           3569.37,
           "Ninguna"
          ],
          [
           2319.83,
           "Alta"
          ],
          [
           3013.26,
           "Alta"
          ],
          [
           3752.92,
           "Ninguna"
          ],
          [
           2667.65,
           "Media"
          ],
          [
           4043.85,
           "Ninguna"
          ],
          [
           2282.79,
           "Media"
          ],
          [
           4592.95,
           "Baja"
          ],
          [
           3663.86,
           "Alta"
          ],
          [
           3948.42,
           "Alta"
          ],
          [
           1022.78,
           "Media"
          ],
          [
           4613.8,
           "Ninguna"
          ],
          [
           3020.43,
           "Baja"
          ],
          [
           2431.73,
           "Ninguna"
          ],
          [
           3671.83,
           "Ninguna"
          ],
          [
           4618.09,
           "Alta"
          ],
          [
           2496.22,
           "Media"
          ],
          [
           1663.79,
           "Alta"
          ],
          [
           -131.74,
           "Alta"
          ],
          [
           3501.92,
           "Alta"
          ],
          [
           3656.91,
           "Alta"
          ],
          [
           1997.42,
           "Alta"
          ],
          [
           2762.18,
           "Alta"
          ],
          [
           5768.69,
           "Alta"
          ],
          [
           3420.58,
           "Media"
          ],
          [
           4249.78,
           "Ninguna"
          ],
          [
           2823.95,
           "Ninguna"
          ],
          [
           3162.58,
           "Alta"
          ],
          [
           5161.22,
           "Alta"
          ],
          [
           4057.14,
           "Ninguna"
          ],
          [
           3319.16,
           "Baja"
          ],
          [
           2799.1,
           "Media"
          ],
          [
           3824.23,
           "Baja"
          ],
          [
           2792.66,
           "Alta"
          ],
          [
           3137.37,
           "Alta"
          ],
          [
           2243.53,
           "Baja"
          ],
          [
           3399.71,
           "Ninguna"
          ],
          [
           2162.76,
           "Media"
          ],
          [
           2477.59,
           "Media"
          ],
          [
           3387.6,
           "Ninguna"
          ],
          [
           4804.28,
           "Media"
          ],
          [
           4052.97,
           "Alta"
          ],
          [
           2633.51,
           "Baja"
          ],
          [
           2439.77,
           "Alta"
          ],
          [
           3489.05,
           "Media"
          ],
          [
           2607.82,
           "Alta"
          ],
          [
           3665.81,
           "Media"
          ],
          [
           1839.42,
           "Alta"
          ],
          [
           3801.76,
           "Baja"
          ],
          [
           4549.17,
           "Media"
          ],
          [
           3790.13,
           "Baja"
          ],
          [
           3342.5,
           "Baja"
          ],
          [
           2130.22,
           "Media"
          ],
          [
           4097.21,
           "Media"
          ],
          [
           3432.03,
           "Alta"
          ],
          [
           3773.2,
           "Ninguna"
          ],
          [
           2272.46,
           "Baja"
          ],
          [
           3725.07,
           "Ninguna"
          ],
          [
           2391.9,
           "Ninguna"
          ],
          [
           3780.45,
           "Ninguna"
          ],
          [
           3229.9,
           "Ninguna"
          ],
          [
           3617.24,
           "Alta"
          ],
          [
           1905.23,
           "Media"
          ],
          [
           1252.55,
           "Media"
          ],
          [
           2751.95,
           "Alta"
          ],
          [
           2038.63,
           "Media"
          ],
          [
           null,
           "Ninguna"
          ],
          [
           3041.23,
           "Ninguna"
          ],
          [
           1488.3,
           "Ninguna"
          ],
          [
           2635.51,
           "Alta"
          ],
          [
           3084.64,
           "Baja"
          ],
          [
           2420.47,
           "Ninguna"
          ],
          [
           1895.62,
           "Ninguna"
          ],
          [
           1831.1,
           "Media"
          ],
          [
           3451.41,
           "Alta"
          ],
          [
           3353.35,
           "Alta"
          ],
          [
           5067.38,
           "Alta"
          ],
          [
           2756.1,
           "Baja"
          ],
          [
           2822.15,
           "Alta"
          ],
          [
           3481.35,
           "Media"
          ],
          [
           4021.5,
           "Alta"
          ],
          [
           2953.66,
           "Ninguna"
          ],
          [
           4387.01,
           "Alta"
          ],
          [
           3108.62,
           "Alta"
          ],
          [
           2829.26,
           "Media"
          ],
          [
           3855.2,
           "Baja"
          ],
          [
           4583.55,
           "Ninguna"
          ],
          [
           3162.86,
           "Alta"
          ],
          [
           3861.21,
           "Alta"
          ],
          [
           3741.89,
           "Ninguna"
          ],
          [
           2617.62,
           "Alta"
          ],
          [
           5107.8,
           "Ninguna"
          ],
          [
           3014.32,
           "Media"
          ],
          [
           2776.03,
           "Alta"
          ],
          [
           2432.11,
           "Media"
          ],
          [
           4146.68,
           "Ninguna"
          ],
          [
           2098.52,
           "Ninguna"
          ],
          [
           2103.14,
           "Ninguna"
          ],
          [
           104.78,
           "Ninguna"
          ],
          [
           2979.59,
           "Alta"
          ],
          [
           4563.2,
           "Baja"
          ],
          [
           4397.45,
           "Alta"
          ],
          [
           3377.24,
           "Ninguna"
          ],
          [
           2486.34,
           "Media"
          ],
          [
           4062,
           "Ninguna"
          ],
          [
           1359.37,
           "Media"
          ],
          [
           1015.96,
           "Media"
          ],
          [
           2803,
           "Alta"
          ],
          [
           3714.82,
           "Alta"
          ],
          [
           3533.01,
           "Ninguna"
          ],
          [
           2809.35,
           "Media"
          ],
          [
           3893.82,
           "Ninguna"
          ],
          [
           4539.75,
           "Media"
          ],
          [
           2636.89,
           "Baja"
          ],
          [
           3026.57,
           "Media"
          ],
          [
           3620.94,
           "Baja"
          ],
          [
           2575.93,
           "Ninguna"
          ],
          [
           2021.32,
           "Media"
          ],
          [
           3826.03,
           "Alta"
          ],
          [
           5762.53,
           "Media"
          ],
          [
           4229.37,
           "Baja"
          ],
          [
           3189.52,
           "Alta"
          ],
          [
           2378.65,
           "Baja"
          ],
          [
           3997.27,
           "Media"
          ],
          [
           1286.36,
           "Media"
          ],
          [
           3166.76,
           "Alta"
          ],
          [
           2385.78,
           "Baja"
          ],
          [
           2870.94,
           "Alta"
          ],
          [
           3074.69,
           "Alta"
          ],
          [
           3280.04,
           "Baja"
          ],
          [
           3255.09,
           "Media"
          ],
          [
           3198.13,
           "Alta"
          ],
          [
           1893.7,
           "Baja"
          ],
          [
           1905.28,
           "Ninguna"
          ],
          [
           4503.32,
           "Ninguna"
          ],
          [
           2677.05,
           "Alta"
          ],
          [
           2064.22,
           "Ninguna"
          ],
          [
           2607.16,
           "Baja"
          ],
          [
           2120.8,
           "Baja"
          ],
          [
           1665.81,
           "Ninguna"
          ],
          [
           4289.56,
           "Alta"
          ],
          [
           1131.98,
           "Alta"
          ],
          [
           4041.85,
           "Alta"
          ],
          [
           3302.08,
           "Alta"
          ],
          [
           3223.92,
           "Media"
          ],
          [
           3771.61,
           "Alta"
          ],
          [
           3179.46,
           "Media"
          ],
          [
           2343.04,
           "Media"
          ],
          [
           1683.97,
           "Ninguna"
          ],
          [
           4145.9,
           "Baja"
          ],
          [
           4143.15,
           "Alta"
          ],
          [
           3010.15,
           "Media"
          ],
          [
           null,
           "Media"
          ],
          [
           2111.04,
           "Alta"
          ],
          [
           4382.64,
           "Baja"
          ],
          [
           5057.72,
           "Baja"
          ]
         ],
         "hovertemplate": "Producto=Ahorro Plus<br>Edad del Cliente=%{x}<br>Monto de Venta=%{y}<br>% Clientes Nuevos=%{marker.size}<br>Inversión en Publicidad=%{customdata[0]}<br>Participación en Campañas=%{customdata[1]}<extra></extra>",
         "legendgroup": "Ahorro Plus",
         "marker": {
          "color": "#00cc96",
          "size": {
           "bdata": "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",
           "dtype": "f8"
          },
          "sizemode": "area",
          "sizeref": 0.0022500000000000003,
          "symbol": "circle"
         },
         "mode": "markers",
         "name": "Ahorro Plus",
         "showlegend": true,
         "type": "scattergl",
         "x": {
          "bdata": "Kh80MyYnIiMcIUQ9QDsVEysgGRghLi8UNUUlKjUxNSQzHjw1RUA1JEUjHD07/xUkJiQwEykhEhUwLTsYEzs9JCs5Qzw+FCwvJTcxOzkyHjo7QCE+PCsTOR0rGzEzOP81KSwpJikzHTUhNSo3PiEfFz4/PSI+LDkfPDklNC4XKiU9/xw0JUASEy5EPf8lRCw8HicZQSseJEE4IBw/LRkYFR0/PyEeKjo+KEMr/x80LRQgPypEN0AiIzoYQzcYQxo1QzwwOEErOC8nPR0vNSMrEis9/yknMDsyOCYdPD09HC4XOyE4LTExGC5AJB4lQEQUFB4gNzMnIT9CKitBHzpAIx5EQP8lQRkXPh4TGx40Kz8fKRI8IzQnIRkqOkQ8IygyJjg+IzkYQyw+JkL/Ni0tOhMqQzocFz4yI0U0Ejwo/xIkMjM+FyZBPDgwG0VFIBU5IiEgNEUWFhMeMBRBGi8cNDY7HTYTOSswQyUTLTscQCE0NRgqQBkjITs+GCopIxwcQTgvGUE0FDkSITc9MkU0QTAiRUMgIBc=",
          "dtype": "i1"
         },
         "xaxis": "x",
         "y": {
          "bdata": "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",
          "dtype": "f8"
         },
         "yaxis": "y"
        }
       ],
       "layout": {
        "legend": {
         "itemsizing": "constant",
         "title": {
          "text": "Producto"
         },
         "tracegroupgap": 0
        },
        "template": {
         "data": {
          "bar": [
           {
            "error_x": {
             "color": "#2a3f5f"
            },
            "error_y": {
             "color": "#2a3f5f"
            },
            "marker": {
             "line": {
              "color": "#E5ECF6",
              "width": 0.5
             },
             "pattern": {
              "fillmode": "overlay",
              "size": 10,
              "solidity": 0.2
             }
            },
            "type": "bar"
           }
          ],
          "barpolar": [
           {
            "marker": {
             "line": {
              "color": "#E5ECF6",
              "width": 0.5
             },
             "pattern": {
              "fillmode": "overlay",
              "size": 10,
              "solidity": 0.2
             }
            },
            "type": "barpolar"
           }
          ],
          "carpet": [
           {
            "aaxis": {
             "endlinecolor": "#2a3f5f",
             "gridcolor": "white",
             "linecolor": "white",
             "minorgridcolor": "white",
             "startlinecolor": "#2a3f5f"
            },
            "baxis": {
             "endlinecolor": "#2a3f5f",
             "gridcolor": "white",
             "linecolor": "white",
             "minorgridcolor": "white",
             "startlinecolor": "#2a3f5f"
            },
            "type": "carpet"
           }
          ],
          "choropleth": [
           {
            "colorbar": {
             "outlinewidth": 0,
             "ticks": ""
            },
            "type": "choropleth"
           }
          ],
          "contour": [
           {
            "colorbar": {
             "outlinewidth": 0,
             "ticks": ""
            },
            "colorscale": [
             [
              0,
              "#0d0887"
             ],
             [
              0.1111111111111111,
              "#46039f"
             ],
             [
              0.2222222222222222,
              "#7201a8"
             ],
             [
              0.3333333333333333,
              "#9c179e"
             ],
             [
              0.4444444444444444,
              "#bd3786"
             ],
             [
              0.5555555555555556,
              "#d8576b"
             ],
             [
              0.6666666666666666,
              "#ed7953"
             ],
             [
              0.7777777777777778,
              "#fb9f3a"
             ],
             [
              0.8888888888888888,
              "#fdca26"
             ],
             [
              1,
              "#f0f921"
             ]
            ],
            "type": "contour"
           }
          ],
          "contourcarpet": [
           {
            "colorbar": {
             "outlinewidth": 0,
             "ticks": ""
            },
            "type": "contourcarpet"
           }
          ],
          "heatmap": [
           {
            "colorbar": {
             "outlinewidth": 0,
             "ticks": ""
            },
            "colorscale": [
             [
              0,
              "#0d0887"
             ],
             [
              0.1111111111111111,
              "#46039f"
             ],
             [
              0.2222222222222222,
              "#7201a8"
             ],
             [
              0.3333333333333333,
              "#9c179e"
             ],
             [
              0.4444444444444444,
              "#bd3786"
             ],
             [
              0.5555555555555556,
              "#d8576b"
             ],
             [
              0.6666666666666666,
              "#ed7953"
             ],
             [
              0.7777777777777778,
              "#fb9f3a"
             ],
             [
              0.8888888888888888,
              "#fdca26"
             ],
             [
              1,
              "#f0f921"
             ]
            ],
            "type": "heatmap"
           }
          ],
          "histogram": [
           {
            "marker": {
             "pattern": {
              "fillmode": "overlay",
              "size": 10,
              "solidity": 0.2
             }
            },
            "type": "histogram"
           }
          ],
          "histogram2d": [
           {
            "colorbar": {
             "outlinewidth": 0,
             "ticks": ""
            },
            "colorscale": [
             [
              0,
              "#0d0887"
             ],
             [
              0.1111111111111111,
              "#46039f"
             ],
             [
              0.2222222222222222,
              "#7201a8"
             ],
             [
              0.3333333333333333,
              "#9c179e"
             ],
             [
              0.4444444444444444,
              "#bd3786"
             ],
             [
              0.5555555555555556,
              "#d8576b"
             ],
             [
              0.6666666666666666,
              "#ed7953"
             ],
             [
              0.7777777777777778,
              "#fb9f3a"
             ],
             [
              0.8888888888888888,
              "#fdca26"
             ],
             [
              1,
              "#f0f921"
             ]
            ],
            "type": "histogram2d"
           }
          ],
          "histogram2dcontour": [
           {
            "colorbar": {
             "outlinewidth": 0,
             "ticks": ""
            },
            "colorscale": [
             [
              0,
              "#0d0887"
             ],
             [
              0.1111111111111111,
              "#46039f"
             ],
             [
              0.2222222222222222,
              "#7201a8"
             ],
             [
              0.3333333333333333,
              "#9c179e"
             ],
             [
              0.4444444444444444,
              "#bd3786"
             ],
             [
              0.5555555555555556,
              "#d8576b"
             ],
             [
              0.6666666666666666,
              "#ed7953"
             ],
             [
              0.7777777777777778,
              "#fb9f3a"
             ],
             [
              0.8888888888888888,
              "#fdca26"
             ],
             [
              1,
              "#f0f921"
             ]
            ],
            "type": "histogram2dcontour"
           }
          ],
          "mesh3d": [
           {
            "colorbar": {
             "outlinewidth": 0,
             "ticks": ""
            },
            "type": "mesh3d"
           }
          ],
          "parcoords": [
           {
            "line": {
             "colorbar": {
              "outlinewidth": 0,
              "ticks": ""
             }
            },
            "type": "parcoords"
           }
          ],
          "pie": [
           {
            "automargin": true,
            "type": "pie"
           }
          ],
          "scatter": [
           {
            "fillpattern": {
             "fillmode": "overlay",
             "size": 10,
             "solidity": 0.2
            },
            "type": "scatter"
           }
          ],
          "scatter3d": [
           {
            "line": {
             "colorbar": {
              "outlinewidth": 0,
              "ticks": ""
             }
            },
            "marker": {
             "colorbar": {
              "outlinewidth": 0,
              "ticks": ""
             }
            },
            "type": "scatter3d"
           }
          ],
          "scattercarpet": [
           {
            "marker": {
             "colorbar": {
              "outlinewidth": 0,
              "ticks": ""
             }
            },
            "type": "scattercarpet"
           }
          ],
          "scattergeo": [
           {
            "marker": {
             "colorbar": {
              "outlinewidth": 0,
              "ticks": ""
             }
            },
            "type": "scattergeo"
           }
          ],
          "scattergl": [
           {
            "marker": {
             "colorbar": {
              "outlinewidth": 0,
              "ticks": ""
             }
            },
            "type": "scattergl"
           }
          ],
          "scattermap": [
           {
            "marker": {
             "colorbar": {
              "outlinewidth": 0,
              "ticks": ""
             }
            },
            "type": "scattermap"
           }
          ],
          "scattermapbox": [
           {
            "marker": {
             "colorbar": {
              "outlinewidth": 0,
              "ticks": ""
             }
            },
            "type": "scattermapbox"
           }
          ],
          "scatterpolar": [
           {
            "marker": {
             "colorbar": {
              "outlinewidth": 0,
              "ticks": ""
             }
            },
            "type": "scatterpolar"
           }
          ],
          "scatterpolargl": [
           {
            "marker": {
             "colorbar": {
              "outlinewidth": 0,
              "ticks": ""
             }
            },
            "type": "scatterpolargl"
           }
          ],
          "scatterternary": [
           {
            "marker": {
             "colorbar": {
              "outlinewidth": 0,
              "ticks": ""
             }
            },
            "type": "scatterternary"
           }
          ],
          "surface": [
           {
            "colorbar": {
             "outlinewidth": 0,
             "ticks": ""
            },
            "colorscale": [
             [
              0,
              "#0d0887"
             ],
             [
              0.1111111111111111,
              "#46039f"
             ],
             [
              0.2222222222222222,
              "#7201a8"
             ],
             [
              0.3333333333333333,
              "#9c179e"
             ],
             [
              0.4444444444444444,
              "#bd3786"
             ],
             [
              0.5555555555555556,
              "#d8576b"
             ],
             [
              0.6666666666666666,
              "#ed7953"
             ],
             [
              0.7777777777777778,
              "#fb9f3a"
             ],
             [
              0.8888888888888888,
              "#fdca26"
             ],
             [
              1,
              "#f0f921"
             ]
            ],
            "type": "surface"
           }
          ],
          "table": [
           {
            "cells": {
             "fill": {
              "color": "#EBF0F8"
             },
             "line": {
              "color": "white"
             }
            },
            "header": {
             "fill": {
              "color": "#C8D4E3"
             },
             "line": {
              "color": "white"
             }
            },
            "type": "table"
           }
          ]
         },
         "layout": {
          "annotationdefaults": {
           "arrowcolor": "#2a3f5f",
           "arrowhead": 0,
           "arrowwidth": 1
          },
          "autotypenumbers": "strict",
          "coloraxis": {
           "colorbar": {
            "outlinewidth": 0,
            "ticks": ""
           }
          },
          "colorscale": {
           "diverging": [
            [
             0,
             "#8e0152"
            ],
            [
             0.1,
             "#c51b7d"
            ],
            [
             0.2,
             "#de77ae"
            ],
            [
             0.3,
             "#f1b6da"
            ],
            [
             0.4,
             "#fde0ef"
            ],
            [
             0.5,
             "#f7f7f7"
            ],
            [
             0.6,
             "#e6f5d0"
            ],
            [
             0.7,
             "#b8e186"
            ],
            [
             0.8,
             "#7fbc41"
            ],
            [
             0.9,
             "#4d9221"
            ],
            [
             1,
             "#276419"
            ]
           ],
           "sequential": [
            [
             0,
             "#0d0887"
            ],
            [
             0.1111111111111111,
             "#46039f"
            ],
            [
             0.2222222222222222,
             "#7201a8"
            ],
            [
             0.3333333333333333,
             "#9c179e"
            ],
            [
             0.4444444444444444,
             "#bd3786"
            ],
            [
             0.5555555555555556,
             "#d8576b"
            ],
            [
             0.6666666666666666,
             "#ed7953"
            ],
            [
             0.7777777777777778,
             "#fb9f3a"
            ],
            [
             0.8888888888888888,
             "#fdca26"
            ],
            [
             1,
             "#f0f921"
            ]
           ],
           "sequentialminus": [
            [
             0,
             "#0d0887"
            ],
            [
             0.1111111111111111,
             "#46039f"
            ],
            [
             0.2222222222222222,
             "#7201a8"
            ],
            [
             0.3333333333333333,
             "#9c179e"
            ],
            [
             0.4444444444444444,
             "#bd3786"
            ],
            [
             0.5555555555555556,
             "#d8576b"
            ],
            [
             0.6666666666666666,
             "#ed7953"
            ],
            [
             0.7777777777777778,
             "#fb9f3a"
            ],
            [
             0.8888888888888888,
             "#fdca26"
            ],
            [
             1,
             "#f0f921"
            ]
           ]
          },
          "colorway": [
           "#636efa",
           "#EF553B",
           "#00cc96",
           "#ab63fa",
           "#FFA15A",
           "#19d3f3",
           "#FF6692",
           "#B6E880",
           "#FF97FF",
           "#FECB52"
          ],
          "font": {
           "color": "#2a3f5f"
          },
          "geo": {
           "bgcolor": "white",
           "lakecolor": "white",
           "landcolor": "#E5ECF6",
           "showlakes": true,
           "showland": true,
           "subunitcolor": "white"
          },
          "hoverlabel": {
           "align": "left"
          },
          "hovermode": "closest",
          "mapbox": {
           "style": "light"
          },
          "paper_bgcolor": "white",
          "plot_bgcolor": "#E5ECF6",
          "polar": {
           "angularaxis": {
            "gridcolor": "white",
            "linecolor": "white",
            "ticks": ""
           },
           "bgcolor": "#E5ECF6",
           "radialaxis": {
            "gridcolor": "white",
            "linecolor": "white",
            "ticks": ""
           }
          },
          "scene": {
           "xaxis": {
            "backgroundcolor": "#E5ECF6",
            "gridcolor": "white",
            "gridwidth": 2,
            "linecolor": "white",
            "showbackground": true,
            "ticks": "",
            "zerolinecolor": "white"
           },
           "yaxis": {
            "backgroundcolor": "#E5ECF6",
            "gridcolor": "white",
            "gridwidth": 2,
            "linecolor": "white",
            "showbackground": true,
            "ticks": "",
            "zerolinecolor": "white"
           },
           "zaxis": {
            "backgroundcolor": "#E5ECF6",
            "gridcolor": "white",
            "gridwidth": 2,
            "linecolor": "white",
            "showbackground": true,
            "ticks": "",
            "zerolinecolor": "white"
           }
          },
          "shapedefaults": {
           "line": {
            "color": "#2a3f5f"
           }
          },
          "ternary": {
           "aaxis": {
            "gridcolor": "white",
            "linecolor": "white",
            "ticks": ""
           },
           "baxis": {
            "gridcolor": "white",
            "linecolor": "white",
            "ticks": ""
           },
           "bgcolor": "#E5ECF6",
           "caxis": {
            "gridcolor": "white",
            "linecolor": "white",
            "ticks": ""
           }
          },
          "title": {
           "x": 0.05
          },
          "xaxis": {
           "automargin": true,
           "gridcolor": "white",
           "linecolor": "white",
           "ticks": "",
           "title": {
            "standoff": 15
           },
           "zerolinecolor": "white",
           "zerolinewidth": 2
          },
          "yaxis": {
           "automargin": true,
           "gridcolor": "white",
           "linecolor": "white",
           "ticks": "",
           "title": {
            "standoff": 15
           },
           "zerolinecolor": "white",
           "zerolinewidth": 2
          }
         }
        },
        "title": {
         "text": "Edades de Clientes vs Monto de Venta"
        },
        "xaxis": {
         "anchor": "y",
         "domain": [
          0,
          1
         ],
         "title": {
          "text": "Edad del Cliente"
         }
        },
        "yaxis": {
         "anchor": "x",
         "domain": [
          0,
          1
         ],
         "title": {
          "text": "Monto de Venta"
         }
        }
       }
      }
     },
     "metadata": {},
     "output_type": "display_data"
    }
   ],
   "source": [
    "fig2 = px.scatter(\n",
    "    df,\n",
    "    x=\"Edad del Cliente\",\n",
    "    y=\"Monto de Venta\",\n",
    "    color=\"Producto\",\n",
    "    size=\"% Clientes Nuevos\",\n",
    "    hover_data=[\"Inversión en Publicidad\", \"Participación en Campañas\"],\n",
    "    title=\"Edades de Clientes vs Monto de Venta\"\n",
    ")\n",
    "\n",
    "fig2.show()"
   ]
  }
 ],
 "metadata": {
  "kernelspec": {
   "display_name": "caso_data_analitica",
   "language": "python",
   "name": "python3"
  },
  "language_info": {
   "codemirror_mode": {
    "name": "ipython",
    "version": 3
   },
   "file_extension": ".py",
   "mimetype": "text/x-python",
   "name": "python",
   "nbconvert_exporter": "python",
   "pygments_lexer": "ipython3",
   "version": "3.13.3"
  }
 },
 "nbformat": 4,
 "nbformat_minor": 5
}
